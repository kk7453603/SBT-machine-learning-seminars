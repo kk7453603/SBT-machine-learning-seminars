{
 "cells": [
  {
   "cell_type": "code",
   "execution_count": 2,
   "metadata": {
    "tags": []
   },
   "outputs": [],
   "source": [
    "import pandas as pd\n",
    "import numpy as np\n",
    "import os\n",
    "from sklearn.model_selection import train_test_split\n",
    "from sklearn.metrics import roc_auc_score"
   ]
  },
  {
   "cell_type": "code",
   "execution_count": null,
   "metadata": {},
   "outputs": [],
   "source": []
  },
  {
   "cell_type": "markdown",
   "metadata": {},
   "source": [
    "### Генерация признаков\n",
    "\n",
    "\n",
    "#### Зачем важно создание новых признаков?\n",
    "\n",
    "Создание **новых признаков** как **комбинация** существующих. Это отличный способ добавить **доменные знания** в набор данных."
   ]
  },
  {
   "cell_type": "markdown",
   "metadata": {},
   "source": [
    "### Загрузка данных"
   ]
  },
  {
   "cell_type": "code",
   "execution_count": 3,
   "metadata": {
    "tags": []
   },
   "outputs": [],
   "source": [
    "use_cols = [\n",
    "    'Pclass', 'Sex', 'Age', 'Fare', 'SibSp',\n",
    "    'Survived'\n",
    "]\n",
    "\n",
    "data = pd.read_csv('./data/titanic.csv', usecols=use_cols)\n"
   ]
  },
  {
   "cell_type": "code",
   "execution_count": 4,
   "metadata": {},
   "outputs": [
    {
     "data": {
      "text/html": [
       "<div>\n",
       "<style scoped>\n",
       "    .dataframe tbody tr th:only-of-type {\n",
       "        vertical-align: middle;\n",
       "    }\n",
       "\n",
       "    .dataframe tbody tr th {\n",
       "        vertical-align: top;\n",
       "    }\n",
       "\n",
       "    .dataframe thead th {\n",
       "        text-align: right;\n",
       "    }\n",
       "</style>\n",
       "<table border=\"1\" class=\"dataframe\">\n",
       "  <thead>\n",
       "    <tr style=\"text-align: right;\">\n",
       "      <th></th>\n",
       "      <th>Survived</th>\n",
       "      <th>Pclass</th>\n",
       "      <th>Sex</th>\n",
       "      <th>Age</th>\n",
       "      <th>SibSp</th>\n",
       "      <th>Fare</th>\n",
       "    </tr>\n",
       "  </thead>\n",
       "  <tbody>\n",
       "    <tr>\n",
       "      <th>0</th>\n",
       "      <td>0</td>\n",
       "      <td>3</td>\n",
       "      <td>male</td>\n",
       "      <td>22.0</td>\n",
       "      <td>1</td>\n",
       "      <td>7.2500</td>\n",
       "    </tr>\n",
       "    <tr>\n",
       "      <th>1</th>\n",
       "      <td>1</td>\n",
       "      <td>1</td>\n",
       "      <td>female</td>\n",
       "      <td>38.0</td>\n",
       "      <td>1</td>\n",
       "      <td>71.2833</td>\n",
       "    </tr>\n",
       "    <tr>\n",
       "      <th>2</th>\n",
       "      <td>1</td>\n",
       "      <td>3</td>\n",
       "      <td>female</td>\n",
       "      <td>26.0</td>\n",
       "      <td>0</td>\n",
       "      <td>7.9250</td>\n",
       "    </tr>\n",
       "  </tbody>\n",
       "</table>\n",
       "</div>"
      ],
      "text/plain": [
       "   Survived  Pclass     Sex   Age  SibSp     Fare\n",
       "0         0       3    male  22.0      1   7.2500\n",
       "1         1       1  female  38.0      1  71.2833\n",
       "2         1       3  female  26.0      0   7.9250"
      ]
     },
     "execution_count": 4,
     "metadata": {},
     "output_type": "execute_result"
    }
   ],
   "source": [
    "data.head(3)"
   ]
  },
  {
   "cell_type": "code",
   "execution_count": 5,
   "metadata": {},
   "outputs": [
    {
     "data": {
      "text/plain": [
       "((623, 6), (268, 6))"
      ]
     },
     "execution_count": 5,
     "metadata": {},
     "output_type": "execute_result"
    }
   ],
   "source": [
    "X_train, X_test, y_train, y_test = train_test_split(data, data.Survived, test_size=0.3,\n",
    "                                                    random_state=0)\n",
    "X_train.shape, X_test.shape"
   ]
  },
  {
   "cell_type": "code",
   "execution_count": null,
   "metadata": {},
   "outputs": [],
   "source": []
  },
  {
   "cell_type": "markdown",
   "metadata": {},
   "source": [
    "### Производный признак на основе отсутствующих данных\n",
    "\n",
    "Как упомянуто в разделе про пропуски, мы можем создать новый бинарный признак, обозначающий, есть ли у наблюдений отсутствующее значение в исходном признаке, со значением 0/1."
   ]
  },
  {
   "cell_type": "code",
   "execution_count": null,
   "metadata": {},
   "outputs": [],
   "source": []
  },
  {
   "cell_type": "markdown",
   "metadata": {},
   "source": [
    "### Простой статистический производный признак\n",
    "\n",
    "   Создание новых признаков путем выполнения простых статистических расчетов на основе исходных признаков, включая:\n",
    "   - count/sum (количество/сумма)\n",
    "   - average/median/mode (среднее/медиана/мода)\n",
    "   - max/min (максимум/минимум)\n",
    "   - stddev/variance (стандартное отклонение/дисперсия)\n",
    "   - range/IQR (размах/межквартильный размах)\n",
    "   - Coefficient of Variation (коэффициент вариации)\n",
    "   - time span/interval (промежуток времени/интервал)\n",
    "\n",
    "   Возьмем, например, журнал звонков: мы можем создать новые признаки, такие как: количество звонков, количество входящих/исходящих звонков, средняя длительность звонков, средняя длительность звонков в месяц, максимальная длительность звонков и так далее."
   ]
  },
  {
   "cell_type": "code",
   "execution_count": null,
   "metadata": {},
   "outputs": [],
   "source": []
  },
  {
   "cell_type": "markdown",
   "metadata": {},
   "source": [
    "### Пересечение признаков\n",
    "\n",
    "   После получения нескольких простых статистических производных признаков, мы можем объединить их вместе. Общие измерения, используемые для пересечения, включают:\n",
    "   - время\n",
    "   - регион\n",
    "   - типы бизнеса\n",
    "\n",
    "   Продолжим использовать журнал звонков в качестве примера: мы можем создать пересекающиеся признаки, такие как: количество звонков в ночное/дневное время, количество звонков в различных типах бизнеса (банки/такси/путешествия/гостиничный бизнес), количество звонков за последние 3 месяца и многое другое. Многие из статистических расчетов, упомянутых в предыдущем пункте, могут быть использованы снова для создания дополнительных признаков.\n"
   ]
  },
  {
   "cell_type": "code",
   "execution_count": null,
   "metadata": {},
   "outputs": [],
   "source": []
  },
  {
   "cell_type": "markdown",
   "metadata": {},
   "source": [
    "### Отношения и пропорции\n",
    "\n",
    "Для прогнозирования будущей производительности продаж кредитных карт в отделении, отношения, такие как продажи по кредитным картам / продавец или продажи по кредитным картам / маркетинговые расходы, будут более мощными, чем просто использование абсолютного числа проданных карт в отделении."
   ]
  },
  {
   "cell_type": "code",
   "execution_count": null,
   "metadata": {},
   "outputs": [],
   "source": []
  },
  {
   "cell_type": "markdown",
   "metadata": {},
   "source": [
    "### Произведения категориальных признаков\n",
    "\n",
    " Предположим, у нас есть категориальный признак A с двумя возможными значениями {A1, A2}. Пусть B будет признаком с вариантами {B1, B2}. Тогда перекрестный признак между A и B примет одно из следующих значений: {(A1, B1), (A1, B2), (A2, B1), (A2, B2)}. Вы можете дать этим \"комбинациям\" любые имена, которые вам нравятся. Просто помните, что каждая комбинация обозначает синергию между информацией, содержащейся в соответствующих значениях A и B."
   ]
  },
  {
   "cell_type": "markdown",
   "metadata": {},
   "source": [
    "### Полиномиальное расширение\n",
    "\n",
    " Произведение признаков также может применяться к числовым признакам, что приводит к созданию нового взаимодействующего признака между A и B. Это можно легко сделать с помощью `PolynomialFeatures` из библиотеки sklearn, которая генерирует новый набор признаков, состоящий из всех полиномиальных комбинаций признаков с степенью, меньшей или равной заданной степени. Например, три исходных признака {X1, X2, X3} могут создать набор признаков {1, X1X2, X1X3, X2X3, X1X2X3} со степенью 2.\n"
   ]
  },
  {
   "cell_type": "code",
   "execution_count": 6,
   "metadata": {},
   "outputs": [
    {
     "name": "stdout",
     "output_type": "stream",
     "text": [
      "   Pclass  SibSp  Pclass^2  Pclass SibSp  SibSp^2\n",
      "0     1.0    0.0       1.0           0.0      0.0\n",
      "1     1.0    1.0       1.0           1.0      1.0\n",
      "2     3.0    5.0       9.0          15.0     25.0\n",
      "3     1.0    0.0       1.0           0.0      0.0\n",
      "4     3.0    1.0       9.0           3.0      1.0\n",
      "5     2.0    1.0       4.0           2.0      1.0\n"
     ]
    }
   ],
   "source": [
    "from sklearn.preprocessing import PolynomialFeatures\n",
    "pf = PolynomialFeatures(degree=2,include_bias=False).fit(X_train[['Pclass','SibSp']])\n",
    "tmp = pf.transform(X_train[['Pclass','SibSp']])\n",
    "X_train_copy = pd.DataFrame(tmp,columns=pf.get_feature_names(['Pclass','SibSp']))\n",
    "print(X_train_copy.head(6))"
   ]
  },
  {
   "cell_type": "markdown",
   "metadata": {},
   "source": [
    "## Feature Learning by Trees\n",
    "\n",
    "\n",
    "В алгоритмах, основанных на деревьях, каждому образцу будет назначен определенный листовой узел. Путь принятия решения к каждому узлу можно рассматривать как новый нелинейный признак, и мы можем создать N новых бинарных признаков, где n равно общему числу листовых узлов в дереве или ансамбле деревьев. Затем признаки можно передавать в другие алгоритмы, такие как логистическая регрессия.\n",
    "   \n",
    "  Идея использования алгоритма дерева для создания новых признаков была впервые представлена Facebook в этой [статье](http://quinonero.net/Publications/predicting-clicks-facebook.pdf).\n",
    "   \n",
    "   Хорошей чертой этого метода является то, что мы можем получить сложные комбинации нескольких признаков, что информативно (как создано алгоритмом обучения дерева). Это позволяет сэкономить нам много времени по сравнению с ручным созданием пересекающихся признаков и широко используется в CTR (кликабельность) в индустрии онлайн-рекламы.\n"
   ]
  },
  {
   "cell_type": "code",
   "execution_count": 7,
   "metadata": {},
   "outputs": [
    {
     "name": "stdout",
     "output_type": "stream",
     "text": [
      "ROC-AUC GBDT score： 0.7624702380952381\n"
     ]
    }
   ],
   "source": [
    "from sklearn.ensemble import GradientBoostingClassifier\n",
    "from sklearn.preprocessing import OneHotEncoder\n",
    "\n",
    "ensemble = GradientBoostingClassifier(n_estimators=20)\n",
    "one_hot = OneHotEncoder()\n",
    "\n",
    "X_train = X_train[[ 'Pclass', 'Age', 'Fare', 'SibSp']].fillna(0)\n",
    "X_test = X_test[[ 'Pclass', 'Age', 'Fare', 'SibSp']].fillna(0)\n",
    "\n",
    "ensemble.fit(X_train, y_train)\n",
    "\n",
    "y_pred = ensemble.predict_proba(X_test)[:, 1]\n",
    "\n",
    "print(\"ROC-AUC GBDT score：\", roc_auc_score(y_test, y_pred))"
   ]
  },
  {
   "cell_type": "code",
   "execution_count": 9,
   "metadata": {},
   "outputs": [
    {
     "data": {
      "text/plain": [
       "array([[ 7.,  7.,  6., ...,  4.,  7.,  4.],\n",
       "       [ 7.,  7.,  6., ..., 14.,  7.,  7.],\n",
       "       [11., 11., 11., ...,  4.,  6., 11.],\n",
       "       ...,\n",
       "       [10., 10., 10., ...,  4.,  6., 10.],\n",
       "       [13., 14., 13., ...,  4.,  7., 13.],\n",
       "       [ 7.,  7.,  6., ...,  6.,  7.,  7.]])"
      ]
     },
     "execution_count": 9,
     "metadata": {},
     "output_type": "execute_result"
    }
   ],
   "source": [
    "X_leaf_index"
   ]
  },
  {
   "cell_type": "code",
   "execution_count": 8,
   "metadata": {},
   "outputs": [
    {
     "name": "stdout",
     "output_type": "stream",
     "text": [
      "ROC-AUC GBDT derived feature + LR： 0.7746130952380953\n"
     ]
    }
   ],
   "source": [
    "X_leaf_index = ensemble.apply(X_train)[:, :, 0] # получаем список индексов листьев дерева\n",
    "one_hot.fit(X_leaf_index)   \n",
    "X_one_hot = one_hot.transform(X_leaf_index)  \n",
    "\n",
    "from sklearn.linear_model import LogisticRegression\n",
    "lr = LogisticRegression(solver='lbfgs', max_iter=1000)\n",
    "lr.fit(X_one_hot,y_train)\n",
    "y_pred = lr.predict_proba(\n",
    "    one_hot.transform(ensemble.apply(X_test)[:, :, 0]))[:, 1]\n",
    "print(\"ROC-AUC GBDT derived feature + LR：\", roc_auc_score(y_test, y_pred))"
   ]
  },
  {
   "cell_type": "code",
   "execution_count": null,
   "metadata": {},
   "outputs": [],
   "source": []
  },
  {
   "cell_type": "markdown",
   "metadata": {},
   "source": [
    "### Обучение признаков с использованием глубоких нейронных сетей\n",
    "\n",
    "Cоздание признаков вручную требует много усилий и не всегда гарантирует хороший результат, особенно когда у нас много признаков для работы. Обучение признаков с использованием деревьев можно рассматривать как первую попытку создания признаков автоматически. Нейронные сети и подходы, таких как автоэнкодеры и Transfer Learning, демонстрируют успехи в извелечении признаков. Однако такие признаки имеют ограниченную интерпретируемость, и для извлечения качественных результатов нейронной сетью требуется гораздо больше данных."
   ]
  },
  {
   "cell_type": "code",
   "execution_count": null,
   "metadata": {},
   "outputs": [],
   "source": []
  }
 ],
 "metadata": {
  "kernelspec": {
   "display_name": "Python 3 (ipykernel)",
   "language": "python",
   "name": "python3"
  },
  "language_info": {
   "codemirror_mode": {
    "name": "ipython",
    "version": 3
   },
   "file_extension": ".py",
   "mimetype": "text/x-python",
   "name": "python",
   "nbconvert_exporter": "python",
   "pygments_lexer": "ipython3",
   "version": "3.9.7"
  }
 },
 "nbformat": 4,
 "nbformat_minor": 4
}
