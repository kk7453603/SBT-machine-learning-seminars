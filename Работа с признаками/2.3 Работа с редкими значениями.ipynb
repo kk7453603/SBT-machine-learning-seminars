{
 "cells": [
  {
   "cell_type": "code",
   "execution_count": 1,
   "metadata": {
    "tags": []
   },
   "outputs": [],
   "source": [
    "import pandas as pd\n",
    "import numpy as np\n",
    "# import seaborn as sns\n",
    "# import matplotlib.pyplot as plt\n",
    "import os\n",
    "# plt.style.use('seaborn-colorblind')\n",
    "# %matplotlib inline\n",
    "from feature_cleaning import rare_values as ra"
   ]
  },
  {
   "cell_type": "markdown",
   "metadata": {
    "tags": []
   },
   "source": [
    "# Редкие значения и высокая кардинальность\n",
    "\n",
    "**Определение:** *Категориальная переменная*, значения которой появляются редко.\n",
    "\n",
    "**Примечание:** В некоторых ситуациях редкие значения, подобно выбросам, могут содержать ценную информацию в наборе данных и, следовательно, требуют особого внимания. Например, редкое значение в транзакции может указывать на мошенническую операцию.\n",
    "\n",
    "**Определение:** Количество меток внутри категориальной переменной называется кардинальностью. Высокое количество меток в переменной известно как высокая кардинальность.\n",
    "\n",
    "## Зачем важны редкие значения и высокая кардинальность\n",
    "\n",
    "Редкие значения в категориальных переменных могут вызывать переобучение, особенно в методах, основанных на деревьях.\n",
    "\n",
    "- Большое количество редко встречающихся меток добавляет шум с малым количеством информации, что может вызвать переобучение. Редкие метки могут присутствовать в обучающем наборе данных, но отсутствовать в тестовом, что также может привести к переобучению на обучающем наборе.\n",
    "- Редкие метки могут появиться в тестовом наборе данных, но отсутствовать в обучающем. Таким образом, модель не будет знать, как оценивать такие метки.\n"
   ]
  },
  {
   "cell_type": "markdown",
   "metadata": {},
   "source": [
    "## Загрузка даннных "
   ]
  },
  {
   "cell_type": "code",
   "execution_count": 2,
   "metadata": {},
   "outputs": [
    {
     "name": "stdout",
     "output_type": "stream",
     "text": [
      "Variable Pclass label proportion:\n",
      "3    0.551066\n",
      "1    0.242424\n",
      "2    0.206510\n",
      "Name: Pclass, dtype: float64\n",
      "Variable SibSp label proportion:\n",
      "0    0.682379\n",
      "1    0.234568\n",
      "2    0.031425\n",
      "4    0.020202\n",
      "3    0.017957\n",
      "8    0.007856\n",
      "5    0.005612\n",
      "Name: SibSp, dtype: float64\n"
     ]
    }
   ],
   "source": [
    "use_cols = [\n",
    "    'Pclass', 'Sex', 'Age', 'Fare', 'SibSp',\n",
    "    'Survived'\n",
    "]\n",
    "\n",
    "\n",
    "# рассмотрим Pclass & SibSp's распределения по классам\n",
    "# SibSp у 3/8/5 - супер редкие\n",
    "# Pclass - 3 значения, но 1/2 - гораздо более редкие\n",
    "data = pd.read_csv('./data/titanic.csv', usecols=use_cols)\n",
    "for i in ['Pclass','SibSp']:\n",
    "    print('Variable',i,'label proportion:')\n",
    "    print(data[i].value_counts()/len(data))"
   ]
  },
  {
   "cell_type": "markdown",
   "metadata": {},
   "source": [
    "## Группировка в одну категорию\n",
    "\n",
    "Группировка значений с редкими значениями в одну категорию rare"
   ]
  },
  {
   "cell_type": "code",
   "execution_count": 3,
   "metadata": {
    "tags": []
   },
   "outputs": [],
   "source": [
    "# создадим кодировщик и сгрупируем редкие значения\n",
    "enc = ra.GroupingRareValues(cols=['Pclass','SibSp'],threshold=0.01).fit(data)"
   ]
  },
  {
   "cell_type": "code",
   "execution_count": 4,
   "metadata": {},
   "outputs": [
    {
     "name": "stdout",
     "output_type": "stream",
     "text": [
      "[{'col': 'Pclass', 'mapping': 3    3\n",
      "1    1\n",
      "2    2\n",
      "dtype: int64, 'data_type': dtype('int64')}, {'col': 'SibSp', 'mapping': 0       0\n",
      "1       1\n",
      "2       2\n",
      "4       4\n",
      "3       3\n",
      "8    rare\n",
      "5    rare\n",
      "dtype: object, 'data_type': dtype('int64')}]\n"
     ]
    }
   ],
   "source": [
    "# подготовим маппинг\n",
    "# SibSp - значения 5 & 8 кодируем как редкие - их меньше процента в данных\n",
    "# в Pclass - ничего не меняется\n",
    "print(enc.mapping)"
   ]
  },
  {
   "cell_type": "code",
   "execution_count": 5,
   "metadata": {
    "tags": []
   },
   "outputs": [],
   "source": [
    "# сделаем трансформацию данных\n",
    "data2 = enc.transform(data)"
   ]
  },
  {
   "cell_type": "code",
   "execution_count": 6,
   "metadata": {},
   "outputs": [
    {
     "name": "stdout",
     "output_type": "stream",
     "text": [
      "0       608\n",
      "1       209\n",
      "2        28\n",
      "4        18\n",
      "3        16\n",
      "rare     12\n",
      "Name: SibSp, dtype: int64\n"
     ]
    }
   ],
   "source": [
    "# посмотрим\n",
    "print(data2.SibSp.value_counts())"
   ]
  },
  {
   "cell_type": "markdown",
   "metadata": {},
   "source": [
    "## Mode Imputation\n",
    "\n",
    "Заменяем редкое значение самым частотным"
   ]
  },
  {
   "cell_type": "code",
   "execution_count": 7,
   "metadata": {
    "tags": []
   },
   "outputs": [],
   "source": [
    "# create the encoder and fit with our data\n",
    "enc = ra.ModeImputation(cols=['Pclass','SibSp'],threshold=0.01).fit(data)"
   ]
  },
  {
   "cell_type": "code",
   "execution_count": 8,
   "metadata": {},
   "outputs": [
    {
     "name": "stdout",
     "output_type": "stream",
     "text": [
      "[{'col': 'Pclass', 'mapping': 3    3\n",
      "1    1\n",
      "2    2\n",
      "dtype: int64, 'data_type': dtype('int64')}, {'col': 'SibSp', 'mapping': 0    0\n",
      "1    1\n",
      "2    2\n",
      "4    4\n",
      "3    3\n",
      "8    0\n",
      "5    0\n",
      "dtype: int64, 'data_type': dtype('int64')}]\n"
     ]
    }
   ],
   "source": [
    "# подготовим маппинг\n",
    "# SibSp - значения 5 & 8 кодируем как редкие - их меньше процента в данных\n",
    "# в Pclass - ничего не меняется\n",
    "print(enc.mapping)"
   ]
  },
  {
   "cell_type": "code",
   "execution_count": 9,
   "metadata": {
    "tags": []
   },
   "outputs": [],
   "source": [
    "# сделаем трансформацию данных\n",
    "data3 = enc.transform(data)"
   ]
  },
  {
   "cell_type": "code",
   "execution_count": 10,
   "metadata": {},
   "outputs": [
    {
     "name": "stdout",
     "output_type": "stream",
     "text": [
      "0    620\n",
      "1    209\n",
      "2     28\n",
      "4     18\n",
      "3     16\n",
      "Name: SibSp, dtype: int64\n"
     ]
    }
   ],
   "source": [
    "# посмотрим\n",
    "print(data3.SibSp.value_counts())"
   ]
  },
  {
   "cell_type": "code",
   "execution_count": null,
   "metadata": {},
   "outputs": [],
   "source": []
  },
  {
   "cell_type": "code",
   "execution_count": null,
   "metadata": {},
   "outputs": [],
   "source": []
  },
  {
   "cell_type": "code",
   "execution_count": null,
   "metadata": {},
   "outputs": [],
   "source": []
  },
  {
   "cell_type": "code",
   "execution_count": null,
   "metadata": {},
   "outputs": [],
   "source": []
  }
 ],
 "metadata": {
  "kernelspec": {
   "display_name": "Python 3 (ipykernel)",
   "language": "python",
   "name": "python3"
  },
  "language_info": {
   "codemirror_mode": {
    "name": "ipython",
    "version": 3
   },
   "file_extension": ".py",
   "mimetype": "text/x-python",
   "name": "python",
   "nbconvert_exporter": "python",
   "pygments_lexer": "ipython3",
   "version": "3.9.7"
  }
 },
 "nbformat": 4,
 "nbformat_minor": 4
}
