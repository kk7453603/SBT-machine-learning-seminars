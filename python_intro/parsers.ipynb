{
 "cells": [
  {
   "cell_type": "code",
   "execution_count": null,
   "id": "c7a0496e-3142-41b0-9266-ac85ccb12a9b",
   "metadata": {},
   "outputs": [],
   "source": [
    "import requests\n",
    "import pandas as pd\n",
    "import tqdm\n",
    "import os\n",
    "import pip\n",
    "import requests\n",
    "from bs4 import BeautifulSoup\n",
    "import time\n",
    "\n",
    "pd.set_option('display.max_columns', None)"
   ]
  },
  {
   "cell_type": "code",
   "execution_count": null,
   "id": "6de9f7a6-86d0-4e3a-bc1b-e0cd20713c02",
   "metadata": {},
   "outputs": [],
   "source": [
    "url = \"https://career.habr.com/vacancies?page=2&type=all\""
   ]
  },
  {
   "cell_type": "code",
   "execution_count": null,
   "id": "3ac311d2-ebb9-40c7-aa50-f54bcb940b15",
   "metadata": {},
   "outputs": [],
   "source": [
    "response = requests.get(url)"
   ]
  },
  {
   "cell_type": "code",
   "execution_count": null,
   "id": "9ad640df-3d9e-4ee3-9db2-d71895fceb61",
   "metadata": {},
   "outputs": [],
   "source": [
    "response.status_code"
   ]
  },
  {
   "cell_type": "code",
   "execution_count": null,
   "id": "d8402a87-7ca1-43fb-861b-b467a7789a6e",
   "metadata": {
    "scrolled": true
   },
   "outputs": [],
   "source": [
    "response.text"
   ]
  },
  {
   "cell_type": "code",
   "execution_count": null,
   "id": "66660c17-86d4-4a09-9cc3-0c8618e060be",
   "metadata": {},
   "outputs": [],
   "source": [
    "soup = BeautifulSoup(response.text, 'html.parser')"
   ]
  },
  {
   "cell_type": "code",
   "execution_count": null,
   "id": "1e3af4d1-8b7b-42fb-bce4-e40a1b471336",
   "metadata": {
    "scrolled": true
   },
   "outputs": [],
   "source": [
    "soup"
   ]
  },
  {
   "cell_type": "code",
   "execution_count": null,
   "id": "dc42b8bf-eed9-47d4-af75-73b726559878",
   "metadata": {},
   "outputs": [],
   "source": [
    "elements = soup.find_all('a', class_='vacancy-card__title-link')"
   ]
  },
  {
   "cell_type": "code",
   "execution_count": null,
   "id": "58e279dc-a68d-464b-b280-92a6edee6b0c",
   "metadata": {},
   "outputs": [],
   "source": [
    "elements"
   ]
  },
  {
   "cell_type": "code",
   "execution_count": null,
   "id": "6c95d0a2-90ad-4624-b0b1-3ab2326d8aa1",
   "metadata": {},
   "outputs": [],
   "source": [
    "job_link = \"https://career.habr.com\" + elements[0]['href']"
   ]
  },
  {
   "cell_type": "code",
   "execution_count": null,
   "id": "30c2b811-9d5e-4f73-aad7-30074ad8d9aa",
   "metadata": {},
   "outputs": [],
   "source": [
    "job_link"
   ]
  },
  {
   "cell_type": "code",
   "execution_count": null,
   "id": "ecac87ea-73fa-4a82-a1ee-bd81218ced28",
   "metadata": {},
   "outputs": [],
   "source": [
    "response_job = requests.get(job_link)"
   ]
  },
  {
   "cell_type": "code",
   "execution_count": null,
   "id": "efec3a16-7540-483c-b4fe-942589ebf14f",
   "metadata": {},
   "outputs": [],
   "source": [
    "soup = BeautifulSoup(response_job.text, 'html.parser')"
   ]
  },
  {
   "cell_type": "code",
   "execution_count": null,
   "id": "ae587ad5-130f-49a4-9bd7-f4dca2a71dbd",
   "metadata": {},
   "outputs": [],
   "source": [
    "soup.get_text()"
   ]
  },
  {
   "cell_type": "code",
   "execution_count": null,
   "id": "622f8c16-3c5e-45ed-9d11-47c86cbf4e09",
   "metadata": {},
   "outputs": [],
   "source": [
    "desc_text = soup.find('div', class_='vacancy-description__text')"
   ]
  },
  {
   "cell_type": "code",
   "execution_count": null,
   "id": "1c14d860-7ce6-4e1a-8dbb-8c421a46f4af",
   "metadata": {},
   "outputs": [],
   "source": [
    "desc_text"
   ]
  },
  {
   "cell_type": "code",
   "execution_count": null,
   "id": "eae892b4-36cc-41f4-8f87-a124e732045b",
   "metadata": {},
   "outputs": [],
   "source": [
    "desc_text.get_text()"
   ]
  },
  {
   "cell_type": "markdown",
   "id": "3d00d64b-6b1b-41c1-ae11-84feeac81c97",
   "metadata": {},
   "source": [
    " Имитировать действия пользователя - `selenium`."
   ]
  }
 ],
 "metadata": {
  "kernelspec": {
   "display_name": "Python 3 (ipykernel)",
   "language": "python",
   "name": "python3"
  },
  "language_info": {
   "codemirror_mode": {
    "name": "ipython",
    "version": 3
   },
   "file_extension": ".py",
   "mimetype": "text/x-python",
   "name": "python",
   "nbconvert_exporter": "python",
   "pygments_lexer": "ipython3",
   "version": "3.10.9"
  }
 },
 "nbformat": 4,
 "nbformat_minor": 5
}
