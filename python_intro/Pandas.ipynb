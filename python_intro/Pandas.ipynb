{
 "cells": [
  {
   "cell_type": "markdown",
   "metadata": {
    "id": "Kl7J5SbeplR8"
   },
   "source": [
    "## Часть 4: Знакомство с pandas."
   ]
  },
  {
   "cell_type": "markdown",
   "metadata": {},
   "source": [
    "Автор: Потанин Марк, mark.potanin@phystech.edu"
   ]
  },
  {
   "cell_type": "markdown",
   "metadata": {
    "id": "76Iy9c4hplR9"
   },
   "source": [
    "Pandas — это библиотека Python, предоставляющая широкие возможности для анализа данных. Данные, с которыми работают датасаентисты, часто хранятся в форме табличек — например, в форматах .csv, .tsv или .xlsx. С помощью библиотеки Pandas такие табличные данные очень удобно загружать, обрабатывать и анализировать. А в связке с библиотеками Matplotlib и Seaborn Pandas предоставляет широкие возможности визуального анализа табличных данных. Аналитик на Python использует ее в своей работе практически каждый день.\n",
    "\n",
    "Основными структурами данных в Pandas являются классы Series и DataFrame. Первый из них представляет собой одномерный индексированный массив данных некоторого фиксированного типа. Второй – это двухмерная структура данных, представляющая собой таблицу, каждый столбец которой содержит данные одного типа. Можно представлять её как словарь объектов типа Series. Структура DataFrame отлично подходит для представления реальных данных: строки соответствуют признаковым описаниям отдельных объектов, а столбцы соответствуют признакам."
   ]
  },
  {
   "cell_type": "markdown",
   "metadata": {
    "id": "vrCigb6WplR-"
   },
   "source": [
    "Для начала импортируем библиотеку в наще окружение с помощью `import pandas as pd`, а так же импортируем библиотеку `numpy`."
   ]
  },
  {
   "cell_type": "code",
   "execution_count": null,
   "metadata": {
    "colab": {
     "base_uri": "https://localhost:8080/"
    },
    "executionInfo": {
     "elapsed": 4096,
     "status": "ok",
     "timestamp": 1622138653315,
     "user": {
      "displayName": "Марк Станиславович Потанин",
      "photoUrl": "https://lh3.googleusercontent.com/a-/AOh14GiGIbSWvn36SnuS11JITt7whCW2414zYLPAFnl9=s64",
      "userId": "12338896257196299013"
     },
     "user_tz": -180
    },
    "id": "yhf9TP92_veC",
    "outputId": "02257fdd-c2f3-4ee1-a69e-5fa6f8d1f5ca"
   },
   "outputs": [],
   "source": [
    "!pip install pandas"
   ]
  },
  {
   "cell_type": "code",
   "execution_count": null,
   "metadata": {
    "_cell_guid": "f26dff57-ef68-4cbf-86f1-b027cc75d6c1",
    "_uuid": "e0a227d03ea6a2d1995268f8cea078357eb596d4",
    "executionInfo": {
     "elapsed": 233,
     "status": "ok",
     "timestamp": 1622138803588,
     "user": {
      "displayName": "Марк Станиславович Потанин",
      "photoUrl": "https://lh3.googleusercontent.com/a-/AOh14GiGIbSWvn36SnuS11JITt7whCW2414zYLPAFnl9=s64",
      "userId": "12338896257196299013"
     },
     "user_tz": -180
    },
    "id": "BGkIV3ZYplR-"
   },
   "outputs": [],
   "source": [
    "import pandas as pd\n",
    "import numpy as np"
   ]
  },
  {
   "cell_type": "markdown",
   "metadata": {
    "id": "_ZiRFCL8plR-"
   },
   "source": [
    "#### Объект Series библиотеки Pandas."
   ]
  },
  {
   "cell_type": "markdown",
   "metadata": {
    "id": "jjLMZI_2plR_"
   },
   "source": [
    "Объект `Series` - одномерный массив индексированных данных. Это такая колонка с данными, как в `Excel`. Слева у нас стоят индексы элементов, а справа - соответствующие значения."
   ]
  },
  {
   "cell_type": "markdown",
   "metadata": {
    "id": "R_W2KtlfplR_"
   },
   "source": [
    "Все способы создания объектов `Series` представляют собой различные варианты следующего синтаксиса: `pd.Series(data, index=index)`, где `index` - необязательный аргумент, а `data` может быть одной из множества сущностей."
   ]
  },
  {
   "cell_type": "code",
   "execution_count": null,
   "metadata": {
    "_cell_guid": "684d2ff9-f491-4384-b51d-d89a545f40a6",
    "_uuid": "3d527ebba36697ffcf0b5d46ef717172edcb0539",
    "colab": {
     "base_uri": "https://localhost:8080/"
    },
    "executionInfo": {
     "elapsed": 287,
     "status": "ok",
     "timestamp": 1622138825456,
     "user": {
      "displayName": "Марк Станиславович Потанин",
      "photoUrl": "https://lh3.googleusercontent.com/a-/AOh14GiGIbSWvn36SnuS11JITt7whCW2414zYLPAFnl9=s64",
      "userId": "12338896257196299013"
     },
     "user_tz": -180
    },
    "id": "9lI_6jAaplR_",
    "outputId": "f103d7fc-bf17-4769-f353-de0b1e2ce296",
    "scrolled": true
   },
   "outputs": [],
   "source": [
    "s = pd.Series([1,3,5,4,6,8])\n",
    "s"
   ]
  },
  {
   "cell_type": "markdown",
   "metadata": {
    "id": "O4iNaiPWplSA"
   },
   "source": [
    "Для того, чтобы получить доступ к индексам и значениям нашего объекта, помогут методы `index` и `values`."
   ]
  },
  {
   "cell_type": "code",
   "execution_count": null,
   "metadata": {
    "colab": {
     "base_uri": "https://localhost:8080/"
    },
    "executionInfo": {
     "elapsed": 272,
     "status": "ok",
     "timestamp": 1622138854960,
     "user": {
      "displayName": "Марк Станиславович Потанин",
      "photoUrl": "https://lh3.googleusercontent.com/a-/AOh14GiGIbSWvn36SnuS11JITt7whCW2414zYLPAFnl9=s64",
      "userId": "12338896257196299013"
     },
     "user_tz": -180
    },
    "id": "AeOldahsplSB",
    "outputId": "27a7c649-6e18-4f3a-e302-a90ccdf0eb24"
   },
   "outputs": [],
   "source": [
    "print(s.index) # массивоподобный объект типа pd.Index\n",
    "print(s.values) # массив значений объекта Series"
   ]
  },
  {
   "cell_type": "code",
   "execution_count": null,
   "metadata": {
    "colab": {
     "base_uri": "https://localhost:8080/"
    },
    "executionInfo": {
     "elapsed": 218,
     "status": "ok",
     "timestamp": 1622138863539,
     "user": {
      "displayName": "Марк Станиславович Потанин",
      "photoUrl": "https://lh3.googleusercontent.com/a-/AOh14GiGIbSWvn36SnuS11JITt7whCW2414zYLPAFnl9=s64",
      "userId": "12338896257196299013"
     },
     "user_tz": -180
    },
    "id": "TIcKHP5UAqRH",
    "outputId": "d7dc4e9b-7d0d-475e-dac4-bd1d798db1d3"
   },
   "outputs": [],
   "source": [
    "s.values"
   ]
  },
  {
   "cell_type": "markdown",
   "metadata": {
    "id": "hT_G6Ue_plSB"
   },
   "source": [
    "Как и при работе с массивами, можно делать срезы нашей колонки."
   ]
  },
  {
   "cell_type": "code",
   "execution_count": null,
   "metadata": {
    "colab": {
     "base_uri": "https://localhost:8080/"
    },
    "executionInfo": {
     "elapsed": 242,
     "status": "ok",
     "timestamp": 1622138891181,
     "user": {
      "displayName": "Марк Станиславович Потанин",
      "photoUrl": "https://lh3.googleusercontent.com/a-/AOh14GiGIbSWvn36SnuS11JITt7whCW2414zYLPAFnl9=s64",
      "userId": "12338896257196299013"
     },
     "user_tz": -180
    },
    "id": "nXhfTdHRplSB",
    "outputId": "3fb6ca8b-59cb-46e0-e69a-6410b1cbbe83"
   },
   "outputs": [],
   "source": [
    "s[1:3]"
   ]
  },
  {
   "cell_type": "markdown",
   "metadata": {
    "id": "1x-2lsCzplSC"
   },
   "source": [
    "Основное отличие от массива NumPy в том, что индекс объекта Series библиотеки Pandas описывается явно и связывается со значением.\n"
   ]
  },
  {
   "cell_type": "code",
   "execution_count": null,
   "metadata": {
    "colab": {
     "base_uri": "https://localhost:8080/"
    },
    "executionInfo": {
     "elapsed": 391,
     "status": "ok",
     "timestamp": 1622138897539,
     "user": {
      "displayName": "Марк Станиславович Потанин",
      "photoUrl": "https://lh3.googleusercontent.com/a-/AOh14GiGIbSWvn36SnuS11JITt7whCW2414zYLPAFnl9=s64",
      "userId": "12338896257196299013"
     },
     "user_tz": -180
    },
    "id": "su8BFEAQplSC",
    "outputId": "7f7720e3-3f45-4b80-90fc-c33f4a6f7e8c"
   },
   "outputs": [],
   "source": [
    "data = pd.Series([0.25, 0.5, 0.75, 1.0], index=['a', 'b', 'c', 'd'])\n",
    "data"
   ]
  },
  {
   "cell_type": "markdown",
   "metadata": {
    "id": "_2PtJ3lFplSC"
   },
   "source": [
    "Доступ к элементам осуществляется по индексу."
   ]
  },
  {
   "cell_type": "code",
   "execution_count": null,
   "metadata": {
    "colab": {
     "base_uri": "https://localhost:8080/"
    },
    "executionInfo": {
     "elapsed": 641,
     "status": "ok",
     "timestamp": 1622138914793,
     "user": {
      "displayName": "Марк Станиславович Потанин",
      "photoUrl": "https://lh3.googleusercontent.com/a-/AOh14GiGIbSWvn36SnuS11JITt7whCW2414zYLPAFnl9=s64",
      "userId": "12338896257196299013"
     },
     "user_tz": -180
    },
    "id": "D0ki7KTUplSC",
    "outputId": "7d6af07a-bc52-4d44-9fe0-b66a440168cb"
   },
   "outputs": [],
   "source": [
    "data['b']"
   ]
  },
  {
   "cell_type": "markdown",
   "metadata": {
    "id": "dsVTa6kIplSC"
   },
   "source": [
    "Можно применять даже индексы, состоящие из несмежных или непоследовательных значений."
   ]
  },
  {
   "cell_type": "code",
   "execution_count": null,
   "metadata": {
    "colab": {
     "base_uri": "https://localhost:8080/"
    },
    "executionInfo": {
     "elapsed": 230,
     "status": "ok",
     "timestamp": 1622138936275,
     "user": {
      "displayName": "Марк Станиславович Потанин",
      "photoUrl": "https://lh3.googleusercontent.com/a-/AOh14GiGIbSWvn36SnuS11JITt7whCW2414zYLPAFnl9=s64",
      "userId": "12338896257196299013"
     },
     "user_tz": -180
    },
    "id": "dOeE30nUplSD",
    "outputId": "d490ee46-7c52-482f-b700-972e36f5b312"
   },
   "outputs": [],
   "source": [
    "data = pd.Series([0.25, 0.5, 0.75, 1.0], index=[2, 5, 3, 7])\n",
    "data"
   ]
  },
  {
   "cell_type": "markdown",
   "metadata": {
    "id": "QudknsTqplSD"
   },
   "source": [
    "Объект Series можно создать из обычного питоновского словаря."
   ]
  },
  {
   "cell_type": "code",
   "execution_count": null,
   "metadata": {
    "colab": {
     "base_uri": "https://localhost:8080/"
    },
    "executionInfo": {
     "elapsed": 245,
     "status": "ok",
     "timestamp": 1622138966589,
     "user": {
      "displayName": "Марк Станиславович Потанин",
      "photoUrl": "https://lh3.googleusercontent.com/a-/AOh14GiGIbSWvn36SnuS11JITt7whCW2414zYLPAFnl9=s64",
      "userId": "12338896257196299013"
     },
     "user_tz": -180
    },
    "id": "a8K3cFWTplSD",
    "outputId": "d3fe5214-1d21-42e8-d5cd-fa8a620837c7"
   },
   "outputs": [],
   "source": [
    "population_dict = {'California': 38332521,\n",
    "                   'Texas': 26448193,\n",
    "                   'New York': 19651127,\n",
    "                   'Florida': 19552860,\n",
    "                   'Illinois': 12882135}\n",
    "population = pd.Series(population_dict)\n",
    "population"
   ]
  },
  {
   "cell_type": "code",
   "execution_count": null,
   "metadata": {
    "colab": {
     "base_uri": "https://localhost:8080/"
    },
    "executionInfo": {
     "elapsed": 229,
     "status": "ok",
     "timestamp": 1622138976754,
     "user": {
      "displayName": "Марк Станиславович Потанин",
      "photoUrl": "https://lh3.googleusercontent.com/a-/AOh14GiGIbSWvn36SnuS11JITt7whCW2414zYLPAFnl9=s64",
      "userId": "12338896257196299013"
     },
     "user_tz": -180
    },
    "id": "HMNjMcgtplSD",
    "outputId": "3ac35875-59a5-4cef-9463-f2d98d93bd38"
   },
   "outputs": [],
   "source": [
    "population['California']"
   ]
  },
  {
   "cell_type": "code",
   "execution_count": null,
   "metadata": {
    "colab": {
     "base_uri": "https://localhost:8080/"
    },
    "executionInfo": {
     "elapsed": 536,
     "status": "ok",
     "timestamp": 1622139005136,
     "user": {
      "displayName": "Марк Станиславович Потанин",
      "photoUrl": "https://lh3.googleusercontent.com/a-/AOh14GiGIbSWvn36SnuS11JITt7whCW2414zYLPAFnl9=s64",
      "userId": "12338896257196299013"
     },
     "user_tz": -180
    },
    "id": "dZo9golPplSE",
    "outputId": "1fe40b7e-fb04-4735-ca3e-297e96ac6a0a"
   },
   "outputs": [],
   "source": [
    "population['California': 'Florida']"
   ]
  },
  {
   "cell_type": "markdown",
   "metadata": {
    "id": "snE10lDYplSE"
   },
   "source": [
    "Функция `pd.date_range()` позволяет создать список дат нужной длины и с нужным шагом. "
   ]
  },
  {
   "cell_type": "code",
   "execution_count": null,
   "metadata": {
    "colab": {
     "base_uri": "https://localhost:8080/"
    },
    "executionInfo": {
     "elapsed": 669,
     "status": "ok",
     "timestamp": 1622139035506,
     "user": {
      "displayName": "Марк Станиславович Потанин",
      "photoUrl": "https://lh3.googleusercontent.com/a-/AOh14GiGIbSWvn36SnuS11JITt7whCW2414zYLPAFnl9=s64",
      "userId": "12338896257196299013"
     },
     "user_tz": -180
    },
    "id": "vT2497ypplSE",
    "outputId": "9ccf9ec9-9f04-48f0-ce70-c912406b6769"
   },
   "outputs": [],
   "source": [
    "dates = pd.date_range(start='2021-03-01', end = '2021-03-06')\n",
    "dates"
   ]
  },
  {
   "cell_type": "code",
   "execution_count": null,
   "metadata": {
    "colab": {
     "base_uri": "https://localhost:8080/"
    },
    "executionInfo": {
     "elapsed": 300,
     "status": "ok",
     "timestamp": 1622139059388,
     "user": {
      "displayName": "Марк Станиславович Потанин",
      "photoUrl": "https://lh3.googleusercontent.com/a-/AOh14GiGIbSWvn36SnuS11JITt7whCW2414zYLPAFnl9=s64",
      "userId": "12338896257196299013"
     },
     "user_tz": -180
    },
    "id": "uTr9vYbcplSE",
    "outputId": "c287f330-716a-468e-9aee-599395c8bf39"
   },
   "outputs": [],
   "source": [
    "dates = pd.date_range(start='2021-03-01', periods=100)\n",
    "dates"
   ]
  },
  {
   "cell_type": "code",
   "execution_count": null,
   "metadata": {
    "colab": {
     "base_uri": "https://localhost:8080/"
    },
    "executionInfo": {
     "elapsed": 232,
     "status": "ok",
     "timestamp": 1622139114155,
     "user": {
      "displayName": "Марк Станиславович Потанин",
      "photoUrl": "https://lh3.googleusercontent.com/a-/AOh14GiGIbSWvn36SnuS11JITt7whCW2414zYLPAFnl9=s64",
      "userId": "12338896257196299013"
     },
     "user_tz": -180
    },
    "id": "6HaA6CljplSF",
    "outputId": "c00f34d1-0c06-4d36-ec4b-3f143bebbe50"
   },
   "outputs": [],
   "source": [
    "dates = pd.date_range(start='2021-03-01', periods=6,freq='Y')\n",
    "dates"
   ]
  },
  {
   "cell_type": "code",
   "execution_count": null,
   "metadata": {
    "colab": {
     "base_uri": "https://localhost:8080/"
    },
    "executionInfo": {
     "elapsed": 802,
     "status": "ok",
     "timestamp": 1622139130145,
     "user": {
      "displayName": "Марк Станиславович Потанин",
      "photoUrl": "https://lh3.googleusercontent.com/a-/AOh14GiGIbSWvn36SnuS11JITt7whCW2414zYLPAFnl9=s64",
      "userId": "12338896257196299013"
     },
     "user_tz": -180
    },
    "id": "K6ie4jOQplSF",
    "outputId": "44738781-61c0-43b3-83d2-a0579efdfda6"
   },
   "outputs": [],
   "source": [
    "dates = pd.date_range(start='2021-03-01', periods=6,freq='Y')\n",
    "dates"
   ]
  },
  {
   "cell_type": "markdown",
   "metadata": {
    "id": "kUeEWF1QplSF"
   },
   "source": [
    "Этот спсиок можно передать в качестве индекса в создаваемый объект `Series`. Создадим временную колонку, пусть, например, это будет число приянятых на работу сотрудников в каждый месяц 20-го года."
   ]
  },
  {
   "cell_type": "code",
   "execution_count": null,
   "metadata": {
    "colab": {
     "base_uri": "https://localhost:8080/"
    },
    "executionInfo": {
     "elapsed": 682,
     "status": "ok",
     "timestamp": 1622139175008,
     "user": {
      "displayName": "Марк Станиславович Потанин",
      "photoUrl": "https://lh3.googleusercontent.com/a-/AOh14GiGIbSWvn36SnuS11JITt7whCW2414zYLPAFnl9=s64",
      "userId": "12338896257196299013"
     },
     "user_tz": -180
    },
    "id": "e5ksXdqGplSF",
    "outputId": "8b6fed7b-2b51-4032-a630-2a8f48891f72"
   },
   "outputs": [],
   "source": [
    "dates = pd.date_range(start='2020-01', periods=12,freq='M')\n",
    "pd.Series(range(12),index=dates)"
   ]
  },
  {
   "cell_type": "markdown",
   "metadata": {
    "id": "XzWKkWuNplSF"
   },
   "source": [
    "#### Объект DataFrame библиотеки Pandas."
   ]
  },
  {
   "cell_type": "markdown",
   "metadata": {
    "id": "BtR6jDcFplSG"
   },
   "source": [
    "Если объект `Series` - аналог одномерного массива с гибкими индексами, объект `DataFrame` - аналог двумерного массива с гибкими индексами строк и гибкими именами столбцов. \n",
    "\n",
    "Второй – это двухмерная структура данных, представляющая собой таблицу, каждый столбец которой содержит данные одного типа.  Структура `DataFrame` отлично подходит для представления реальных данных: строки соответствуют признаковым описаниям отдельных объектов, а столбцы соответствуют признакам.\n",
    "\n"
   ]
  },
  {
   "cell_type": "code",
   "execution_count": null,
   "metadata": {
    "colab": {
     "base_uri": "https://localhost:8080/"
    },
    "executionInfo": {
     "elapsed": 240,
     "status": "ok",
     "timestamp": 1622139204219,
     "user": {
      "displayName": "Марк Станиславович Потанин",
      "photoUrl": "https://lh3.googleusercontent.com/a-/AOh14GiGIbSWvn36SnuS11JITt7whCW2414zYLPAFnl9=s64",
      "userId": "12338896257196299013"
     },
     "user_tz": -180
    },
    "id": "Xe18NCE2plSG",
    "outputId": "30f22c3c-b2b8-4fa3-e67f-3adf7c454888"
   },
   "outputs": [],
   "source": [
    "area_dict = {'California': 423967, 'Texas': 695662, 'New York': 141297, 'Florida': 170312, 'Illinois': 149995}\n",
    "area = pd.Series(area_dict)\n",
    "area"
   ]
  },
  {
   "cell_type": "code",
   "execution_count": null,
   "metadata": {
    "colab": {
     "base_uri": "https://localhost:8080/",
     "height": 204
    },
    "executionInfo": {
     "elapsed": 261,
     "status": "ok",
     "timestamp": 1622139238666,
     "user": {
      "displayName": "Марк Станиславович Потанин",
      "photoUrl": "https://lh3.googleusercontent.com/a-/AOh14GiGIbSWvn36SnuS11JITt7whCW2414zYLPAFnl9=s64",
      "userId": "12338896257196299013"
     },
     "user_tz": -180
    },
    "id": "obPMnODkplSG",
    "outputId": "e852c7e1-9ebd-4b32-be62-cb8f93b370e9"
   },
   "outputs": [],
   "source": [
    "states = pd.DataFrame({'population': population, 'area': area})\n",
    "states"
   ]
  },
  {
   "cell_type": "markdown",
   "metadata": {
    "id": "lZEs1yUWplSG"
   },
   "source": [
    "Аналогично `Series` объект `DataFrame` имеет метод `index`, обеспечивающий доступ к меткам индекса. Так же есть метод `columns`, представляющий собой содержащий метки столбцов."
   ]
  },
  {
   "cell_type": "code",
   "execution_count": null,
   "metadata": {
    "colab": {
     "base_uri": "https://localhost:8080/"
    },
    "executionInfo": {
     "elapsed": 350,
     "status": "ok",
     "timestamp": 1622139252390,
     "user": {
      "displayName": "Марк Станиславович Потанин",
      "photoUrl": "https://lh3.googleusercontent.com/a-/AOh14GiGIbSWvn36SnuS11JITt7whCW2414zYLPAFnl9=s64",
      "userId": "12338896257196299013"
     },
     "user_tz": -180
    },
    "id": "zVHHU2KCplSG",
    "outputId": "494407f4-9e4d-4d2a-a047-2ce94dff4da4"
   },
   "outputs": [],
   "source": [
    "states.index"
   ]
  },
  {
   "cell_type": "code",
   "execution_count": null,
   "metadata": {
    "colab": {
     "base_uri": "https://localhost:8080/"
    },
    "executionInfo": {
     "elapsed": 271,
     "status": "ok",
     "timestamp": 1622139255674,
     "user": {
      "displayName": "Марк Станиславович Потанин",
      "photoUrl": "https://lh3.googleusercontent.com/a-/AOh14GiGIbSWvn36SnuS11JITt7whCW2414zYLPAFnl9=s64",
      "userId": "12338896257196299013"
     },
     "user_tz": -180
    },
    "id": "aOuPTjIiplSH",
    "outputId": "e61a3589-4624-402d-84df-a96e4ec3103c"
   },
   "outputs": [],
   "source": [
    "states.columns"
   ]
  },
  {
   "cell_type": "code",
   "execution_count": null,
   "metadata": {},
   "outputs": [],
   "source": [
    "states.values"
   ]
  },
  {
   "cell_type": "markdown",
   "metadata": {
    "id": "HrMSieqNplSH"
   },
   "source": [
    "Таким образом  `DataFrame` можно рассматривать как обобщение двумерного массива NumPy, где как у строк, так и у столбцов есть индексы для доступа к данным."
   ]
  },
  {
   "cell_type": "markdown",
   "metadata": {
    "id": "J4VrYVQfplSH"
   },
   "source": [
    "`DataFrame` можно создать из одного объекта `Series`."
   ]
  },
  {
   "cell_type": "code",
   "execution_count": null,
   "metadata": {
    "colab": {
     "base_uri": "https://localhost:8080/",
     "height": 204
    },
    "executionInfo": {
     "elapsed": 306,
     "status": "ok",
     "timestamp": 1622139278982,
     "user": {
      "displayName": "Марк Станиславович Потанин",
      "photoUrl": "https://lh3.googleusercontent.com/a-/AOh14GiGIbSWvn36SnuS11JITt7whCW2414zYLPAFnl9=s64",
      "userId": "12338896257196299013"
     },
     "user_tz": -180
    },
    "id": "yoFicC1WplSH",
    "outputId": "1927b3c7-75b3-40a3-b8f6-844cd9790634"
   },
   "outputs": [],
   "source": [
    "pd.DataFrame(population, columns=['population'])"
   ]
  },
  {
   "cell_type": "markdown",
   "metadata": {
    "id": "4CCZo-g8plSH"
   },
   "source": [
    "Можно создать из списка словарей."
   ]
  },
  {
   "cell_type": "code",
   "execution_count": null,
   "metadata": {
    "colab": {
     "base_uri": "https://localhost:8080/",
     "height": 204
    },
    "executionInfo": {
     "elapsed": 414,
     "status": "ok",
     "timestamp": 1622139319897,
     "user": {
      "displayName": "Марк Станиславович Потанин",
      "photoUrl": "https://lh3.googleusercontent.com/a-/AOh14GiGIbSWvn36SnuS11JITt7whCW2414zYLPAFnl9=s64",
      "userId": "12338896257196299013"
     },
     "user_tz": -180
    },
    "id": "-W8yOcz4plSI",
    "outputId": "8818d268-e2d8-47f9-89fe-abaca6c6ee12"
   },
   "outputs": [],
   "source": [
    "data = [{'a': i, 'b': i * 2} for i in range(5)]\n",
    "pd.DataFrame(data)"
   ]
  },
  {
   "cell_type": "markdown",
   "metadata": {
    "id": "-S56M5lBplSI"
   },
   "source": [
    "Даже если некоторые ключи в словаре отсутствуют, библиотека Pandas просто заполнит из занчениями `NaN` (то есть Not a number - \"не является числом\")."
   ]
  },
  {
   "cell_type": "code",
   "execution_count": null,
   "metadata": {
    "colab": {
     "base_uri": "https://localhost:8080/",
     "height": 111
    },
    "executionInfo": {
     "elapsed": 272,
     "status": "ok",
     "timestamp": 1622139374415,
     "user": {
      "displayName": "Марк Станиславович Потанин",
      "photoUrl": "https://lh3.googleusercontent.com/a-/AOh14GiGIbSWvn36SnuS11JITt7whCW2414zYLPAFnl9=s64",
      "userId": "12338896257196299013"
     },
     "user_tz": -180
    },
    "id": "nCYAlwVdplSI",
    "outputId": "f3fbf274-1d86-4118-a794-2018ac4d23dc"
   },
   "outputs": [],
   "source": [
    "pd.DataFrame([{'a':1, 'b': 2}, {'b':3, 'c':4}])"
   ]
  },
  {
   "cell_type": "markdown",
   "metadata": {
    "id": "cpcA7CIpplSI"
   },
   "source": [
    "Из словаря объектов `Series`."
   ]
  },
  {
   "cell_type": "code",
   "execution_count": null,
   "metadata": {
    "colab": {
     "base_uri": "https://localhost:8080/",
     "height": 204
    },
    "executionInfo": {
     "elapsed": 234,
     "status": "ok",
     "timestamp": 1622139385319,
     "user": {
      "displayName": "Марк Станиславович Потанин",
      "photoUrl": "https://lh3.googleusercontent.com/a-/AOh14GiGIbSWvn36SnuS11JITt7whCW2414zYLPAFnl9=s64",
      "userId": "12338896257196299013"
     },
     "user_tz": -180
    },
    "id": "_YQbqXa-plSI",
    "outputId": "35ac95c5-3cc8-4aff-bbcc-fece00fc129f"
   },
   "outputs": [],
   "source": [
    "pd.DataFrame({'population': population, 'area': area})"
   ]
  },
  {
   "cell_type": "markdown",
   "metadata": {
    "id": "rQXuCysXplSJ"
   },
   "source": [
    "Из массива NumPy."
   ]
  },
  {
   "cell_type": "code",
   "execution_count": null,
   "metadata": {
    "_cell_guid": "e29399aa-3818-4dd8-bc3b-634aa5c3fe78",
    "_uuid": "b21c8f9e3992c18eb839851aaa6ad057654e9082",
    "colab": {
     "base_uri": "https://localhost:8080/",
     "height": 235
    },
    "executionInfo": {
     "elapsed": 227,
     "status": "ok",
     "timestamp": 1622139389437,
     "user": {
      "displayName": "Марк Станиславович Потанин",
      "photoUrl": "https://lh3.googleusercontent.com/a-/AOh14GiGIbSWvn36SnuS11JITt7whCW2414zYLPAFnl9=s64",
      "userId": "12338896257196299013"
     },
     "user_tz": -180
    },
    "id": "jgN6-vTLplSJ",
    "outputId": "413fcd42-2354-4420-98e2-b3362cba7ff8"
   },
   "outputs": [],
   "source": [
    "dates = pd.date_range(start='2021-03-01', periods=6)\n",
    "df = pd.DataFrame(np.random.randn(6,4), index=dates,columns=['one','two','three','four'])\n",
    "df"
   ]
  },
  {
   "cell_type": "code",
   "execution_count": null,
   "metadata": {
    "_cell_guid": "a36d23bb-aa78-4964-984f-1c0fef73c85b",
    "_uuid": "91c969a5e0dede5ed222df08fda0a19e7ecb6ba9",
    "colab": {
     "base_uri": "https://localhost:8080/",
     "height": 173
    },
    "executionInfo": {
     "elapsed": 229,
     "status": "ok",
     "timestamp": 1622139402028,
     "user": {
      "displayName": "Марк Станиславович Потанин",
      "photoUrl": "https://lh3.googleusercontent.com/a-/AOh14GiGIbSWvn36SnuS11JITt7whCW2414zYLPAFnl9=s64",
      "userId": "12338896257196299013"
     },
     "user_tz": -180
    },
    "id": "RjAdQaouplSJ",
    "outputId": "09d9b66f-ddab-4b00-acd6-d20f8cdeb82c"
   },
   "outputs": [],
   "source": [
    "df2 = pd.DataFrame({ 'A' : 1.,                   'B' : pd.Timestamp('20130102'),\n",
    "                     'C' : pd.Series(1,index=list(range(4)),dtype='float32'),\n",
    "                      'D' : np.array([3] * 4,dtype='int32'),\n",
    "                   'F' : 'foo' })\n",
    "\n",
    "df2"
   ]
  },
  {
   "cell_type": "markdown",
   "metadata": {
    "id": "QZ-D79tdplSJ"
   },
   "source": [
    "Посмотреть типы каждой колонки поможет метод `dtypes`."
   ]
  },
  {
   "cell_type": "code",
   "execution_count": null,
   "metadata": {
    "_cell_guid": "e862ec95-5893-4f46-ac7d-4d8a638ffc1f",
    "_uuid": "9e7f0e3693cf1f63718fce13feed81c93ed22d58",
    "colab": {
     "base_uri": "https://localhost:8080/"
    },
    "executionInfo": {
     "elapsed": 511,
     "status": "ok",
     "timestamp": 1622139522325,
     "user": {
      "displayName": "Марк Станиславович Потанин",
      "photoUrl": "https://lh3.googleusercontent.com/a-/AOh14GiGIbSWvn36SnuS11JITt7whCW2414zYLPAFnl9=s64",
      "userId": "12338896257196299013"
     },
     "user_tz": -180
    },
    "id": "fan6Q6BDplSJ",
    "outputId": "387ea724-90c5-4f3e-a119-10ca0bae1113"
   },
   "outputs": [],
   "source": [
    "df2.dtypes"
   ]
  },
  {
   "cell_type": "code",
   "execution_count": null,
   "metadata": {},
   "outputs": [],
   "source": [
    "df"
   ]
  },
  {
   "cell_type": "markdown",
   "metadata": {
    "_cell_guid": "002668d8-3da6-4f78-bb84-0c1d3d42c81c",
    "_uuid": "446149fabdb526d11b6d42aa58a7219043a63210",
    "id": "4MkgiteaplSK"
   },
   "source": [
    "#### Получение данных из таблицы."
   ]
  },
  {
   "cell_type": "code",
   "execution_count": null,
   "metadata": {
    "_cell_guid": "4be8e75e-64f3-453e-b3e5-b788b1c967a5",
    "_uuid": "9bd8927534a077d8d9c3d74747ea6ab3f5070d68",
    "colab": {
     "base_uri": "https://localhost:8080/"
    },
    "executionInfo": {
     "elapsed": 247,
     "status": "ok",
     "timestamp": 1622139530731,
     "user": {
      "displayName": "Марк Станиславович Потанин",
      "photoUrl": "https://lh3.googleusercontent.com/a-/AOh14GiGIbSWvn36SnuS11JITt7whCW2414zYLPAFnl9=s64",
      "userId": "12338896257196299013"
     },
     "user_tz": -180
    },
    "id": "Ha1SArUXplSK",
    "outputId": "7f26d20c-c277-4658-bcd9-64b66e66a73d"
   },
   "outputs": [],
   "source": [
    "df['one']"
   ]
  },
  {
   "cell_type": "code",
   "execution_count": null,
   "metadata": {
    "_cell_guid": "c0092d95-8fd7-4059-8938-580a05c70f6b",
    "_uuid": "9678ff7f4faaffc358ad10bb176d96c7d45ac236",
    "colab": {
     "base_uri": "https://localhost:8080/"
    },
    "executionInfo": {
     "elapsed": 6,
     "status": "ok",
     "timestamp": 1622133106254,
     "user": {
      "displayName": "Марк Станиславович Потанин",
      "photoUrl": "https://lh3.googleusercontent.com/a-/AOh14GiGIbSWvn36SnuS11JITt7whCW2414zYLPAFnl9=s64",
      "userId": "12338896257196299013"
     },
     "user_tz": -180
    },
    "id": "gxip-6uzplSK",
    "outputId": "70e483c8-4a58-4f4c-af1f-60f36e9f5aeb"
   },
   "outputs": [],
   "source": [
    "df.one"
   ]
  },
  {
   "cell_type": "code",
   "execution_count": null,
   "metadata": {
    "_cell_guid": "f5909120-c5ee-498a-8ed1-b4316b51226e",
    "_uuid": "dbcd1c56866336f25d10ebfb1dbd457b1c5c415e",
    "colab": {
     "base_uri": "https://localhost:8080/",
     "height": 142
    },
    "executionInfo": {
     "elapsed": 6,
     "status": "ok",
     "timestamp": 1622133106255,
     "user": {
      "displayName": "Марк Станиславович Потанин",
      "photoUrl": "https://lh3.googleusercontent.com/a-/AOh14GiGIbSWvn36SnuS11JITt7whCW2414zYLPAFnl9=s64",
      "userId": "12338896257196299013"
     },
     "user_tz": -180
    },
    "id": "fqyLc8HlplSK",
    "outputId": "ada7a6c5-ae8d-49bd-bebd-fcca4fc55eff"
   },
   "outputs": [],
   "source": [
    "df[0:3]"
   ]
  },
  {
   "cell_type": "code",
   "execution_count": null,
   "metadata": {
    "_cell_guid": "0b5c50db-08a3-487e-8f9b-3fac98f0c336",
    "_uuid": "1bc96862bd0c4fde57487e71bce38dc272763a36",
    "colab": {
     "base_uri": "https://localhost:8080/",
     "height": 142
    },
    "executionInfo": {
     "elapsed": 254,
     "status": "ok",
     "timestamp": 1622139609901,
     "user": {
      "displayName": "Марк Станиславович Потанин",
      "photoUrl": "https://lh3.googleusercontent.com/a-/AOh14GiGIbSWvn36SnuS11JITt7whCW2414zYLPAFnl9=s64",
      "userId": "12338896257196299013"
     },
     "user_tz": -180
    },
    "id": "U5HvwA8zplSK",
    "outputId": "1370f818-636b-4391-d3f2-0b449d1df38d"
   },
   "outputs": [],
   "source": [
    "df['2021-03-01':'2021-03-03']"
   ]
  },
  {
   "cell_type": "markdown",
   "metadata": {
    "id": "cjBHt8DzplSL"
   },
   "source": [
    "Существуют специальные методы для индексации (индексаторы): `loc` и `iloc`."
   ]
  },
  {
   "cell_type": "markdown",
   "metadata": {
    "id": "30GgfGyeplSL"
   },
   "source": [
    "`loc` позволяет выполнить индексацию и срезы с использованием явного индекса:"
   ]
  },
  {
   "cell_type": "code",
   "execution_count": null,
   "metadata": {
    "_cell_guid": "07d52142-94b9-42fb-a649-63f2f56bd3af",
    "_uuid": "34c5205092732b67a2de0667418af4f3e73fa18f",
    "colab": {
     "base_uri": "https://localhost:8080/"
    },
    "executionInfo": {
     "elapsed": 236,
     "status": "ok",
     "timestamp": 1622139624279,
     "user": {
      "displayName": "Марк Станиславович Потанин",
      "photoUrl": "https://lh3.googleusercontent.com/a-/AOh14GiGIbSWvn36SnuS11JITt7whCW2414zYLPAFnl9=s64",
      "userId": "12338896257196299013"
     },
     "user_tz": -180
    },
    "id": "XnfLXddCplSL",
    "outputId": "67e0d4e4-af7e-4fcf-f9bf-cb61d1735db3"
   },
   "outputs": [],
   "source": [
    "df.loc['2021-03-01']"
   ]
  },
  {
   "cell_type": "markdown",
   "metadata": {
    "id": "0PZMe0Q2plSL"
   },
   "source": [
    "Так же индексирование по столбцам."
   ]
  },
  {
   "cell_type": "code",
   "execution_count": null,
   "metadata": {},
   "outputs": [],
   "source": [
    "df"
   ]
  },
  {
   "cell_type": "code",
   "execution_count": null,
   "metadata": {
    "_cell_guid": "7001a024-168a-4c7f-bf36-d813fb798bfb",
    "_uuid": "f46aa94ce3199632c14f66aea3f9155fc57c8d3e",
    "colab": {
     "base_uri": "https://localhost:8080/",
     "height": 235
    },
    "executionInfo": {
     "elapsed": 285,
     "status": "ok",
     "timestamp": 1622139657864,
     "user": {
      "displayName": "Марк Станиславович Потанин",
      "photoUrl": "https://lh3.googleusercontent.com/a-/AOh14GiGIbSWvn36SnuS11JITt7whCW2414zYLPAFnl9=s64",
      "userId": "12338896257196299013"
     },
     "user_tz": -180
    },
    "id": "luVt5f60plSM",
    "outputId": "6c909e90-6394-43c0-f19b-dc7c0908d0cb"
   },
   "outputs": [],
   "source": [
    "df.loc['2021-03-01','one']"
   ]
  },
  {
   "cell_type": "markdown",
   "metadata": {
    "id": "UexV8cbXplSM"
   },
   "source": [
    "По столбцам и строкам."
   ]
  },
  {
   "cell_type": "code",
   "execution_count": null,
   "metadata": {
    "_cell_guid": "96ab0649-01d3-48f2-b519-dd78c2186336",
    "_uuid": "e02bd76d6a3169255570d96c2cb84d1d19baafe9",
    "colab": {
     "base_uri": "https://localhost:8080/",
     "height": 142
    },
    "executionInfo": {
     "elapsed": 474,
     "status": "ok",
     "timestamp": 1622139667907,
     "user": {
      "displayName": "Марк Станиславович Потанин",
      "photoUrl": "https://lh3.googleusercontent.com/a-/AOh14GiGIbSWvn36SnuS11JITt7whCW2414zYLPAFnl9=s64",
      "userId": "12338896257196299013"
     },
     "user_tz": -180
    },
    "id": "Laae1io-plSM",
    "outputId": "b320cf64-15a2-4ffd-8e05-51238207016d"
   },
   "outputs": [],
   "source": [
    "df.loc['2021-03-01':'2021-03-03',['one','two']]"
   ]
  },
  {
   "cell_type": "code",
   "execution_count": null,
   "metadata": {
    "_cell_guid": "e7b0cb7d-70cc-41f6-8b55-32824b804241",
    "_uuid": "6477a1db5cf42f8260bc8c2cee54c2745fb255a1",
    "colab": {
     "base_uri": "https://localhost:8080/"
    },
    "executionInfo": {
     "elapsed": 230,
     "status": "ok",
     "timestamp": 1622139681246,
     "user": {
      "displayName": "Марк Станиславович Потанин",
      "photoUrl": "https://lh3.googleusercontent.com/a-/AOh14GiGIbSWvn36SnuS11JITt7whCW2414zYLPAFnl9=s64",
      "userId": "12338896257196299013"
     },
     "user_tz": -180
    },
    "id": "hnCwTlqwplSM",
    "outputId": "df9912aa-c825-4227-e657-bfdb77402eff"
   },
   "outputs": [],
   "source": [
    "df.loc['20210301',['one','two']]"
   ]
  },
  {
   "cell_type": "markdown",
   "metadata": {
    "_cell_guid": "3d623580-97fc-456e-924f-5bab3121d87d",
    "_uuid": "9f4dd3322a60f1b105d9a21783287edb27c8ea0c",
    "id": "ahU7K446plSM"
   },
   "source": [
    "Чтобы получить одно значение (один элемент матрицы)."
   ]
  },
  {
   "cell_type": "code",
   "execution_count": null,
   "metadata": {
    "_cell_guid": "5097b9ad-5170-41d8-857f-97142be556f5",
    "_uuid": "9f1d7120553ca8bb9a6b658c2f04e3bfe67f97a6",
    "colab": {
     "base_uri": "https://localhost:8080/"
    },
    "executionInfo": {
     "elapsed": 507,
     "status": "ok",
     "timestamp": 1622139701050,
     "user": {
      "displayName": "Марк Станиславович Потанин",
      "photoUrl": "https://lh3.googleusercontent.com/a-/AOh14GiGIbSWvn36SnuS11JITt7whCW2414zYLPAFnl9=s64",
      "userId": "12338896257196299013"
     },
     "user_tz": -180
    },
    "id": "EGGU1iF7plSN",
    "outputId": "55f05126-35bf-4d29-8224-bb30c4d63668"
   },
   "outputs": [],
   "source": [
    "df.loc['20210301','one']"
   ]
  },
  {
   "cell_type": "markdown",
   "metadata": {
    "id": "F8dmOyvEplSN"
   },
   "source": [
    "Атрибут `iloc` дает возможность выполнить индексацию и срезы, применяя неявный индекс (порядковый номер) - как для столбцов, так и для строк."
   ]
  },
  {
   "cell_type": "code",
   "execution_count": null,
   "metadata": {},
   "outputs": [],
   "source": [
    "df"
   ]
  },
  {
   "cell_type": "code",
   "execution_count": null,
   "metadata": {
    "_cell_guid": "fe438107-8d37-4714-8da7-d1c5b3afc846",
    "_uuid": "62558a81897d581168ee6c2b41f76267b9c91124",
    "colab": {
     "base_uri": "https://localhost:8080/"
    },
    "executionInfo": {
     "elapsed": 218,
     "status": "ok",
     "timestamp": 1622139729423,
     "user": {
      "displayName": "Марк Станиславович Потанин",
      "photoUrl": "https://lh3.googleusercontent.com/a-/AOh14GiGIbSWvn36SnuS11JITt7whCW2414zYLPAFnl9=s64",
      "userId": "12338896257196299013"
     },
     "user_tz": -180
    },
    "id": "5BSiD6CSplSN",
    "outputId": "ed6e809e-bc4c-4add-bedb-8c81685f57cb"
   },
   "outputs": [],
   "source": [
    "df.iloc[3,2]"
   ]
  },
  {
   "cell_type": "code",
   "execution_count": null,
   "metadata": {
    "_cell_guid": "0af7f46d-7da7-4b36-bcfd-02a9fdb8dbe5",
    "_uuid": "83f0a59d8beabd0bb6192467ebe9b287a3216776",
    "colab": {
     "base_uri": "https://localhost:8080/",
     "height": 142
    },
    "executionInfo": {
     "elapsed": 233,
     "status": "ok",
     "timestamp": 1622139749589,
     "user": {
      "displayName": "Марк Станиславович Потанин",
      "photoUrl": "https://lh3.googleusercontent.com/a-/AOh14GiGIbSWvn36SnuS11JITt7whCW2414zYLPAFnl9=s64",
      "userId": "12338896257196299013"
     },
     "user_tz": -180
    },
    "id": "jDfQlTBSplSN",
    "outputId": "ea5b79f8-55e0-4dbe-d412-b2cf6d266be9"
   },
   "outputs": [],
   "source": [
    "df.iloc[[1,2,4],[0,2]]"
   ]
  },
  {
   "cell_type": "code",
   "execution_count": null,
   "metadata": {
    "_cell_guid": "467719ff-d23e-45c2-9657-0b7bcaff6655",
    "_uuid": "8d69d0090825b1644d037ecb051afdb9633628d3",
    "colab": {
     "base_uri": "https://localhost:8080/",
     "height": 111
    },
    "executionInfo": {
     "elapsed": 222,
     "status": "ok",
     "timestamp": 1622139759442,
     "user": {
      "displayName": "Марк Станиславович Потанин",
      "photoUrl": "https://lh3.googleusercontent.com/a-/AOh14GiGIbSWvn36SnuS11JITt7whCW2414zYLPAFnl9=s64",
      "userId": "12338896257196299013"
     },
     "user_tz": -180
    },
    "id": "uMD96CUyplSN",
    "outputId": "261c48a4-2019-418b-fa78-24bf3668e2b5"
   },
   "outputs": [],
   "source": [
    "df.iloc[1:3,:]"
   ]
  },
  {
   "cell_type": "code",
   "execution_count": null,
   "metadata": {
    "_cell_guid": "7a0bdd04-6670-4821-8328-3090827a13ed",
    "_uuid": "c14695bf9699073d68e0aeb63973a58bee51c57c",
    "colab": {
     "base_uri": "https://localhost:8080/",
     "height": 235
    },
    "executionInfo": {
     "elapsed": 598,
     "status": "ok",
     "timestamp": 1622139767180,
     "user": {
      "displayName": "Марк Станиславович Потанин",
      "photoUrl": "https://lh3.googleusercontent.com/a-/AOh14GiGIbSWvn36SnuS11JITt7whCW2414zYLPAFnl9=s64",
      "userId": "12338896257196299013"
     },
     "user_tz": -180
    },
    "id": "OTFsaRqMplSN",
    "outputId": "da1bbbaa-e9d2-49cc-c7d2-6ec2273e182f"
   },
   "outputs": [],
   "source": [
    "df.iloc[:,1:3]"
   ]
  },
  {
   "cell_type": "code",
   "execution_count": null,
   "metadata": {
    "_cell_guid": "32c6bb98-903a-45b1-b430-08d1b898e813",
    "_uuid": "8c824f1f3d44d8ed41b7b1328354863861ee9ef2",
    "colab": {
     "base_uri": "https://localhost:8080/"
    },
    "executionInfo": {
     "elapsed": 226,
     "status": "ok",
     "timestamp": 1622139815713,
     "user": {
      "displayName": "Марк Станиславович Потанин",
      "photoUrl": "https://lh3.googleusercontent.com/a-/AOh14GiGIbSWvn36SnuS11JITt7whCW2414zYLPAFnl9=s64",
      "userId": "12338896257196299013"
     },
     "user_tz": -180
    },
    "id": "zOmQoyKBplSO",
    "outputId": "ab9f9955-3ad7-4ad8-c0fc-d9c4314f0987"
   },
   "outputs": [],
   "source": [
    "df.iloc[1,1]"
   ]
  },
  {
   "cell_type": "markdown",
   "metadata": {
    "_cell_guid": "4205069b-9b81-4015-8113-80e5997ed02a",
    "_uuid": "1f65376861105ccf80d8230b7518ec631e869383",
    "id": "5PgylqXFplSO"
   },
   "source": [
    "#### Срезы по значениям."
   ]
  },
  {
   "cell_type": "markdown",
   "metadata": {
    "id": "o5tXz_jGplSO"
   },
   "source": [
    "Pandas позволяет проводить филтрацию по какому-нибудь условию. Выходом будет часть таблицы и колонки, которая удовлетворяет заданному условию. Такая процедура называется **маскированием**."
   ]
  },
  {
   "cell_type": "code",
   "execution_count": null,
   "metadata": {
    "executionInfo": {
     "elapsed": 242,
     "status": "ok",
     "timestamp": 1622139867367,
     "user": {
      "displayName": "Марк Станиславович Потанин",
      "photoUrl": "https://lh3.googleusercontent.com/a-/AOh14GiGIbSWvn36SnuS11JITt7whCW2414zYLPAFnl9=s64",
      "userId": "12338896257196299013"
     },
     "user_tz": -180
    },
    "id": "VbFSOsgCplSO"
   },
   "outputs": [],
   "source": [
    "one_column = df['two']"
   ]
  },
  {
   "cell_type": "code",
   "execution_count": null,
   "metadata": {
    "colab": {
     "base_uri": "https://localhost:8080/"
    },
    "executionInfo": {
     "elapsed": 3,
     "status": "ok",
     "timestamp": 1622139868910,
     "user": {
      "displayName": "Марк Станиславович Потанин",
      "photoUrl": "https://lh3.googleusercontent.com/a-/AOh14GiGIbSWvn36SnuS11JITt7whCW2414zYLPAFnl9=s64",
      "userId": "12338896257196299013"
     },
     "user_tz": -180
    },
    "id": "3NC6OeIMplSO",
    "outputId": "ccebec51-3434-4bbf-bee5-a0f90f6bb25a"
   },
   "outputs": [],
   "source": [
    "one_column"
   ]
  },
  {
   "cell_type": "code",
   "execution_count": null,
   "metadata": {
    "colab": {
     "base_uri": "https://localhost:8080/"
    },
    "executionInfo": {
     "elapsed": 223,
     "status": "ok",
     "timestamp": 1622139904003,
     "user": {
      "displayName": "Марк Станиславович Потанин",
      "photoUrl": "https://lh3.googleusercontent.com/a-/AOh14GiGIbSWvn36SnuS11JITt7whCW2414zYLPAFnl9=s64",
      "userId": "12338896257196299013"
     },
     "user_tz": -180
    },
    "id": "R1cw22aDplSP",
    "outputId": "d4a5f051-8ea0-4362-ce16-b2cf4984c33f"
   },
   "outputs": [],
   "source": [
    "one_column>0.5"
   ]
  },
  {
   "cell_type": "code",
   "execution_count": null,
   "metadata": {
    "colab": {
     "base_uri": "https://localhost:8080/"
    },
    "executionInfo": {
     "elapsed": 558,
     "status": "ok",
     "timestamp": 1622139921192,
     "user": {
      "displayName": "Марк Станиславович Потанин",
      "photoUrl": "https://lh3.googleusercontent.com/a-/AOh14GiGIbSWvn36SnuS11JITt7whCW2414zYLPAFnl9=s64",
      "userId": "12338896257196299013"
     },
     "user_tz": -180
    },
    "id": "R3S1ZU0iplSP",
    "outputId": "472a02e8-f285-40f8-8462-ecf71f7b3d01"
   },
   "outputs": [],
   "source": [
    "one_column[one_column>0.5]"
   ]
  },
  {
   "cell_type": "code",
   "execution_count": null,
   "metadata": {
    "_cell_guid": "b7d6f231-8fca-4b94-b4da-7e1077bfc1c6",
    "_uuid": "0897ab764824072dc3d6d45bc03c70f1f29c6833",
    "colab": {
     "base_uri": "https://localhost:8080/",
     "height": 142
    },
    "executionInfo": {
     "elapsed": 235,
     "status": "ok",
     "timestamp": 1622139939472,
     "user": {
      "displayName": "Марк Станиславович Потанин",
      "photoUrl": "https://lh3.googleusercontent.com/a-/AOh14GiGIbSWvn36SnuS11JITt7whCW2414zYLPAFnl9=s64",
      "userId": "12338896257196299013"
     },
     "user_tz": -180
    },
    "id": "XRPDOazEplSP",
    "outputId": "ac61247c-7afe-4e94-a710-4ac3f1087217"
   },
   "outputs": [],
   "source": [
    "df[df.one > 0.0]"
   ]
  },
  {
   "cell_type": "markdown",
   "metadata": {
    "id": "AVxeMeqXplSP"
   },
   "source": [
    "Можно использовать несколько условий."
   ]
  },
  {
   "cell_type": "code",
   "execution_count": null,
   "metadata": {
    "colab": {
     "base_uri": "https://localhost:8080/",
     "height": 80
    },
    "executionInfo": {
     "elapsed": 260,
     "status": "ok",
     "timestamp": 1622140062694,
     "user": {
      "displayName": "Марк Станиславович Потанин",
      "photoUrl": "https://lh3.googleusercontent.com/a-/AOh14GiGIbSWvn36SnuS11JITt7whCW2414zYLPAFnl9=s64",
      "userId": "12338896257196299013"
     },
     "user_tz": -180
    },
    "id": "NjeQczBLplSP",
    "outputId": "0511bb00-b836-493a-a45c-86f90b93477b"
   },
   "outputs": [],
   "source": [
    "df[(df.one > 0.0)&(df.two>0.0)]"
   ]
  },
  {
   "cell_type": "markdown",
   "metadata": {
    "id": "ElJvKYhWplSQ"
   },
   "source": [
    "В индексаторе `loc` можно сочетать маскирование и и выбор необходимых столбцов."
   ]
  },
  {
   "cell_type": "code",
   "execution_count": null,
   "metadata": {
    "colab": {
     "base_uri": "https://localhost:8080/",
     "height": 80
    },
    "executionInfo": {
     "elapsed": 222,
     "status": "ok",
     "timestamp": 1622140100285,
     "user": {
      "displayName": "Марк Станиславович Потанин",
      "photoUrl": "https://lh3.googleusercontent.com/a-/AOh14GiGIbSWvn36SnuS11JITt7whCW2414zYLPAFnl9=s64",
      "userId": "12338896257196299013"
     },
     "user_tz": -180
    },
    "id": "dNnPeMVhplSQ",
    "outputId": "caf73e4c-aaf6-4d88-8361-bbc23cb82079"
   },
   "outputs": [],
   "source": [
    "df.loc[(df.one > 0.7)&(df.two>0.5),['three','four']]"
   ]
  },
  {
   "cell_type": "code",
   "execution_count": null,
   "metadata": {
    "_cell_guid": "81efdb26-8d6d-4d30-8095-0212e2068bd7",
    "_uuid": "ac6deb8efac6fea270befc2c5a444825de86a270",
    "colab": {
     "base_uri": "https://localhost:8080/",
     "height": 235
    },
    "executionInfo": {
     "elapsed": 223,
     "status": "ok",
     "timestamp": 1622140148734,
     "user": {
      "displayName": "Марк Станиславович Потанин",
      "photoUrl": "https://lh3.googleusercontent.com/a-/AOh14GiGIbSWvn36SnuS11JITt7whCW2414zYLPAFnl9=s64",
      "userId": "12338896257196299013"
     },
     "user_tz": -180
    },
    "id": "Satjcc4EplSQ",
    "outputId": "de06085c-ec25-45a0-f213-a90dab08a920"
   },
   "outputs": [],
   "source": [
    "df2 = df.copy()\n",
    "df2['five'] = ['one', 'one','two','three','four','three']\n",
    "df2"
   ]
  },
  {
   "cell_type": "markdown",
   "metadata": {
    "id": "-PZOaMx8plSR"
   },
   "source": [
    "Для проверки того, что значения столбца находятся в определенном массиве данных используется маскирование с методом `isin`."
   ]
  },
  {
   "cell_type": "code",
   "execution_count": null,
   "metadata": {
    "_cell_guid": "b8a6507a-ab97-4884-ad6b-86ce08b562b1",
    "_uuid": "1057b0c34eae282d8b234583497a6e9d53a254f5",
    "colab": {
     "base_uri": "https://localhost:8080/",
     "height": 111
    },
    "executionInfo": {
     "elapsed": 353,
     "status": "ok",
     "timestamp": 1622140246978,
     "user": {
      "displayName": "Марк Станиславович Потанин",
      "photoUrl": "https://lh3.googleusercontent.com/a-/AOh14GiGIbSWvn36SnuS11JITt7whCW2414zYLPAFnl9=s64",
      "userId": "12338896257196299013"
     },
     "user_tz": -180
    },
    "id": "plWwr6hKplSR",
    "outputId": "8f4f54f4-8b4d-46a0-ec18-f69c0f3418b0"
   },
   "outputs": [],
   "source": [
    "df2[df2['five'].isin(['two','four'])]"
   ]
  },
  {
   "cell_type": "markdown",
   "metadata": {
    "_cell_guid": "860dc5f5-ce12-47b0-b0b1-09cc4aba5f73",
    "_uuid": "886b98db6af991c2ec742c18085b0b8a7b88d31f",
    "id": "dsI0tQUWplSU"
   },
   "source": [
    "#### Как быстро посмотреть на данные, с которым мы имеем дело."
   ]
  },
  {
   "cell_type": "markdown",
   "metadata": {
    "id": "wc2ARR8wplSU"
   },
   "source": [
    "Посмотреть на верхние и нижние строки таблицы помогут методы `head` и `tail` соответственно. По умолчанию количество отображаемых элементов равно пяти, но вы можете передать собственное число."
   ]
  },
  {
   "cell_type": "code",
   "execution_count": null,
   "metadata": {
    "colab": {
     "base_uri": "https://localhost:8080/",
     "height": 235
    },
    "executionInfo": {
     "elapsed": 234,
     "status": "ok",
     "timestamp": 1622140292446,
     "user": {
      "displayName": "Марк Станиславович Потанин",
      "photoUrl": "https://lh3.googleusercontent.com/a-/AOh14GiGIbSWvn36SnuS11JITt7whCW2414zYLPAFnl9=s64",
      "userId": "12338896257196299013"
     },
     "user_tz": -180
    },
    "id": "_UQ7udtpGH-e",
    "outputId": "4bcbbe0d-7fa8-40f2-c73e-1ec43b27bd26"
   },
   "outputs": [],
   "source": [
    "df"
   ]
  },
  {
   "cell_type": "code",
   "execution_count": null,
   "metadata": {
    "_cell_guid": "b1b5ca0e-4b43-4ec9-80ee-65b807d234d2",
    "_uuid": "c1d9e77ee2cfdc5b81af10b29565a9166ca01994",
    "colab": {
     "base_uri": "https://localhost:8080/",
     "height": 142
    },
    "executionInfo": {
     "elapsed": 219,
     "status": "ok",
     "timestamp": 1622140313522,
     "user": {
      "displayName": "Марк Станиславович Потанин",
      "photoUrl": "https://lh3.googleusercontent.com/a-/AOh14GiGIbSWvn36SnuS11JITt7whCW2414zYLPAFnl9=s64",
      "userId": "12338896257196299013"
     },
     "user_tz": -180
    },
    "id": "LBijQ-LwplSU",
    "outputId": "3b442a0e-db6e-4e2a-ed58-d1ddc5b99f91"
   },
   "outputs": [],
   "source": [
    "df.head(3)"
   ]
  },
  {
   "cell_type": "markdown",
   "metadata": {
    "id": "5fHRBgVSplSU"
   },
   "source": [
    "Посмотреть на последние 3 строки."
   ]
  },
  {
   "cell_type": "code",
   "execution_count": null,
   "metadata": {
    "_cell_guid": "3428b24c-520e-4d23-b439-9c9e2b8d353d",
    "_uuid": "74c7c24d7adc0382cdc6055a88643ea7cbe2c111",
    "colab": {
     "base_uri": "https://localhost:8080/",
     "height": 142
    },
    "executionInfo": {
     "elapsed": 236,
     "status": "ok",
     "timestamp": 1622140339431,
     "user": {
      "displayName": "Марк Станиславович Потанин",
      "photoUrl": "https://lh3.googleusercontent.com/a-/AOh14GiGIbSWvn36SnuS11JITt7whCW2414zYLPAFnl9=s64",
      "userId": "12338896257196299013"
     },
     "user_tz": -180
    },
    "id": "hL17uQSoplSU",
    "outputId": "12fd6a88-ff48-438f-bac2-c4d6273abc37"
   },
   "outputs": [],
   "source": [
    "df.tail(3)"
   ]
  },
  {
   "cell_type": "code",
   "execution_count": null,
   "metadata": {
    "_cell_guid": "53a240a3-ecb2-4f38-8862-da1d00aedf7c",
    "_uuid": "056ab69a40592e47b9e07cb2514784eb50d81ade",
    "colab": {
     "base_uri": "https://localhost:8080/"
    },
    "executionInfo": {
     "elapsed": 592,
     "status": "ok",
     "timestamp": 1622140352886,
     "user": {
      "displayName": "Марк Станиславович Потанин",
      "photoUrl": "https://lh3.googleusercontent.com/a-/AOh14GiGIbSWvn36SnuS11JITt7whCW2414zYLPAFnl9=s64",
      "userId": "12338896257196299013"
     },
     "user_tz": -180
    },
    "id": "mvXefUOOplSV",
    "outputId": "d1a4c3fb-dfdc-4954-c98b-6aa55bb217e6"
   },
   "outputs": [],
   "source": [
    "df.index"
   ]
  },
  {
   "cell_type": "code",
   "execution_count": null,
   "metadata": {
    "_cell_guid": "a9cae030-681e-4b3d-993f-0e2cbaaa10a9",
    "_uuid": "b86456edbcc2249100502525c1fd38dd4235d0f3",
    "colab": {
     "base_uri": "https://localhost:8080/"
    },
    "executionInfo": {
     "elapsed": 416,
     "status": "ok",
     "timestamp": 1622140363694,
     "user": {
      "displayName": "Марк Станиславович Потанин",
      "photoUrl": "https://lh3.googleusercontent.com/a-/AOh14GiGIbSWvn36SnuS11JITt7whCW2414zYLPAFnl9=s64",
      "userId": "12338896257196299013"
     },
     "user_tz": -180
    },
    "id": "hT9ipJlyplSV",
    "outputId": "f3f7928f-cc4a-4942-f05c-39d415e0bca7"
   },
   "outputs": [],
   "source": [
    "df.columns"
   ]
  },
  {
   "cell_type": "markdown",
   "metadata": {
    "id": "f0pH6vPyplSV"
   },
   "source": [
    "Получить все элементы таблицы в виде двумерного массива NumPy поможет метод `values`."
   ]
  },
  {
   "cell_type": "code",
   "execution_count": null,
   "metadata": {
    "_cell_guid": "0d442ada-0d41-4fe4-a843-48592068306d",
    "_uuid": "842fe1b27b0714ee2155a657e3eec4f3719a40b0",
    "colab": {
     "base_uri": "https://localhost:8080/"
    },
    "executionInfo": {
     "elapsed": 228,
     "status": "ok",
     "timestamp": 1622140375497,
     "user": {
      "displayName": "Марк Станиславович Потанин",
      "photoUrl": "https://lh3.googleusercontent.com/a-/AOh14GiGIbSWvn36SnuS11JITt7whCW2414zYLPAFnl9=s64",
      "userId": "12338896257196299013"
     },
     "user_tz": -180
    },
    "id": "eaqZWWzuplSV",
    "outputId": "069bfd35-307e-4d4a-c008-ecb98475c403"
   },
   "outputs": [],
   "source": [
    "df.values"
   ]
  },
  {
   "cell_type": "markdown",
   "metadata": {
    "id": "HVFdIhGbplSV"
   },
   "source": [
    "Метод `describe()` показывает краткую статистическую сводку ваших данных. Он выводит следующие статистики `count` - количество объектов в столбце (просто некоторые значения помогут быть пропущены),  `mean` - среднее по столбцу, `std` - стандартное отклонение по столбцу, `min` и `max` - минимальное и максимальное значения соответственно. `25%`, `50%`, `75%` - значения разных перцентилей. Выходом метода `describe()` является новая таблица со стоатистиками."
   ]
  },
  {
   "cell_type": "code",
   "execution_count": null,
   "metadata": {},
   "outputs": [],
   "source": [
    "df"
   ]
  },
  {
   "cell_type": "code",
   "execution_count": null,
   "metadata": {
    "_cell_guid": "43393dfd-989c-43a6-834e-550c8d3ccbd4",
    "_uuid": "1f1dbb5dd09ffa4c2ee0c3c289328de4c070ad2b",
    "colab": {
     "base_uri": "https://localhost:8080/",
     "height": 297
    },
    "executionInfo": {
     "elapsed": 225,
     "status": "ok",
     "timestamp": 1622140393712,
     "user": {
      "displayName": "Марк Станиславович Потанин",
      "photoUrl": "https://lh3.googleusercontent.com/a-/AOh14GiGIbSWvn36SnuS11JITt7whCW2414zYLPAFnl9=s64",
      "userId": "12338896257196299013"
     },
     "user_tz": -180
    },
    "id": "76haHKiuplSW",
    "outputId": "4a13f076-74ba-4cf3-bd1a-86443d3bc759"
   },
   "outputs": [],
   "source": [
    "df.describe()"
   ]
  },
  {
   "cell_type": "markdown",
   "metadata": {
    "id": "iZEDZE4LplSW"
   },
   "source": [
    "Транспонирование данных происходит с помощью метода `T`. Транспонирование - переворот таблички, то есть строки становятся столбцами, а столбцы - строками."
   ]
  },
  {
   "cell_type": "code",
   "execution_count": null,
   "metadata": {
    "_cell_guid": "13e0e285-eac4-48fc-8a82-23491e8ebaf0",
    "_uuid": "ee5d4078cd8d5a545be55483208e73b9c9e939f4",
    "colab": {
     "base_uri": "https://localhost:8080/",
     "height": 173
    },
    "executionInfo": {
     "elapsed": 239,
     "status": "ok",
     "timestamp": 1622140431449,
     "user": {
      "displayName": "Марк Станиславович Потанин",
      "photoUrl": "https://lh3.googleusercontent.com/a-/AOh14GiGIbSWvn36SnuS11JITt7whCW2414zYLPAFnl9=s64",
      "userId": "12338896257196299013"
     },
     "user_tz": -180
    },
    "id": "Jhu4kKo_plSW",
    "outputId": "50962282-343a-4885-94b6-3366ba740b5a"
   },
   "outputs": [],
   "source": [
    "df.T"
   ]
  },
  {
   "cell_type": "markdown",
   "metadata": {
    "id": "jll4wv1jplSW"
   },
   "source": [
    "Сортировка по осям происходит с помощью метода `sort_index`. Аргумент `axis=1` означает сортировку по индексам столбцов, `axis=0` - сортировка по индексам строк. `ascending=False` - сортирует по убыванию, `ascending=True` - по возрастанию."
   ]
  },
  {
   "cell_type": "code",
   "execution_count": null,
   "metadata": {
    "_cell_guid": "1dfd42f4-5231-4508-900f-1ddc37cdd250",
    "_uuid": "397ac00b05aa5867ba188f537ae7ac814275352c",
    "colab": {
     "base_uri": "https://localhost:8080/",
     "height": 235
    },
    "executionInfo": {
     "elapsed": 215,
     "status": "ok",
     "timestamp": 1622140605199,
     "user": {
      "displayName": "Марк Станиславович Потанин",
      "photoUrl": "https://lh3.googleusercontent.com/a-/AOh14GiGIbSWvn36SnuS11JITt7whCW2414zYLPAFnl9=s64",
      "userId": "12338896257196299013"
     },
     "user_tz": -180
    },
    "id": "Ys45TMf1plSW",
    "outputId": "bfcdd3d7-c12e-4623-b1fd-c96ee2f35419"
   },
   "outputs": [],
   "source": [
    "df.sort_index(axis=1, ascending=True)"
   ]
  },
  {
   "cell_type": "code",
   "execution_count": null,
   "metadata": {
    "_cell_guid": "1dfd42f4-5231-4508-900f-1ddc37cdd250",
    "_uuid": "397ac00b05aa5867ba188f537ae7ac814275352c",
    "colab": {
     "base_uri": "https://localhost:8080/",
     "height": 235
    },
    "executionInfo": {
     "elapsed": 227,
     "status": "ok",
     "timestamp": 1622140584449,
     "user": {
      "displayName": "Марк Станиславович Потанин",
      "photoUrl": "https://lh3.googleusercontent.com/a-/AOh14GiGIbSWvn36SnuS11JITt7whCW2414zYLPAFnl9=s64",
      "userId": "12338896257196299013"
     },
     "user_tz": -180
    },
    "id": "fUD_dOzRplSX",
    "outputId": "a48e2b30-6792-4853-e3ba-9ebc9f6f3f41",
    "scrolled": true
   },
   "outputs": [],
   "source": [
    "df.sort_index(axis=0, ascending=True)"
   ]
  },
  {
   "cell_type": "markdown",
   "metadata": {
    "id": "yV3B8FtnplSX"
   },
   "source": [
    "Сортировка по значениям происходит методом `sort_values`. Нужно передать ось, по которой нужно сортировать (0 - столбцы, 1 - строки), а так же индекс колнки/столбца."
   ]
  },
  {
   "cell_type": "code",
   "execution_count": null,
   "metadata": {
    "_cell_guid": "389c1344-4f60-4628-b6c1-de736d429d3a",
    "_uuid": "df1ac4e8bc643bbcc49f0769c52778ca19761a9e",
    "colab": {
     "base_uri": "https://localhost:8080/",
     "height": 235
    },
    "executionInfo": {
     "elapsed": 447,
     "status": "ok",
     "timestamp": 1622140748711,
     "user": {
      "displayName": "Марк Станиславович Потанин",
      "photoUrl": "https://lh3.googleusercontent.com/a-/AOh14GiGIbSWvn36SnuS11JITt7whCW2414zYLPAFnl9=s64",
      "userId": "12338896257196299013"
     },
     "user_tz": -180
    },
    "id": "1WHWsWqxplSX",
    "outputId": "dcd47e9e-0d1f-40c7-8521-895cba918c94"
   },
   "outputs": [],
   "source": [
    "df.sort_values(by=['two','one'],axis=0)"
   ]
  },
  {
   "cell_type": "code",
   "execution_count": null,
   "metadata": {
    "_cell_guid": "389c1344-4f60-4628-b6c1-de736d429d3a",
    "_uuid": "df1ac4e8bc643bbcc49f0769c52778ca19761a9e",
    "colab": {
     "base_uri": "https://localhost:8080/",
     "height": 235
    },
    "executionInfo": {
     "elapsed": 372,
     "status": "ok",
     "timestamp": 1622140773447,
     "user": {
      "displayName": "Марк Станиславович Потанин",
      "photoUrl": "https://lh3.googleusercontent.com/a-/AOh14GiGIbSWvn36SnuS11JITt7whCW2414zYLPAFnl9=s64",
      "userId": "12338896257196299013"
     },
     "user_tz": -180
    },
    "id": "bTVT4lKqplSX",
    "outputId": "2ba06137-322a-4ac3-cdb3-4ed967b2855c"
   },
   "outputs": [],
   "source": [
    "df.sort_values(by='2021-03-03',axis=1)"
   ]
  },
  {
   "cell_type": "markdown",
   "metadata": {
    "_cell_guid": "b6eff184-f774-4668-a5fa-2eb792a8ee19",
    "_uuid": "36dc62173e385467dca8e0b12398ce00cd3bc7c9",
    "id": "1xa35bkNplSX"
   },
   "source": [
    "#### Добавление данных"
   ]
  },
  {
   "cell_type": "markdown",
   "metadata": {
    "id": "QqBgH-nVplSX"
   },
   "source": [
    "Вот у нас есть объект `Series` или `DataFrame`, который мы создали. Что если мы хотим изменить существующую информацию или добавить новую?"
   ]
  },
  {
   "cell_type": "code",
   "execution_count": null,
   "metadata": {
    "_cell_guid": "4d61f140-af66-4b4c-9296-17e243bf4991",
    "_uuid": "c0f9338b687ee3fb7b535f772955de1cb232e10e",
    "colab": {
     "base_uri": "https://localhost:8080/"
    },
    "executionInfo": {
     "elapsed": 437,
     "status": "ok",
     "timestamp": 1622140828166,
     "user": {
      "displayName": "Марк Станиславович Потанин",
      "photoUrl": "https://lh3.googleusercontent.com/a-/AOh14GiGIbSWvn36SnuS11JITt7whCW2414zYLPAFnl9=s64",
      "userId": "12338896257196299013"
     },
     "user_tz": -180
    },
    "id": "I5Q7bKR0plSY",
    "outputId": "dd2bfb09-ebf3-4e5f-8c8b-5f836764eaab"
   },
   "outputs": [],
   "source": [
    "s1 = pd.Series([1,2,3,4,5,6], index=pd.date_range('20211101', periods=6))\n",
    "s1"
   ]
  },
  {
   "cell_type": "markdown",
   "metadata": {
    "id": "1Lq40D3vplSY"
   },
   "source": [
    "Посмотрим на наш уже известный датафрейм."
   ]
  },
  {
   "cell_type": "markdown",
   "metadata": {
    "id": "EvN9I_2-plSY"
   },
   "source": [
    "Добавление столбца происходит следующим образом `df[name] = new_column`. Где `name` - название нового столбца, который мы хотим добавить, а `new_column` - как раз объект `Series`, который мы хотим добавить."
   ]
  },
  {
   "cell_type": "code",
   "execution_count": null,
   "metadata": {
    "_cell_guid": "ef2e599f-68db-48c8-b750-e8f5143fe407",
    "_uuid": "6f01ca50121e0d9289c675ea6de02a716ae66dfb",
    "colab": {
     "base_uri": "https://localhost:8080/",
     "height": 235
    },
    "executionInfo": {
     "elapsed": 413,
     "status": "ok",
     "timestamp": 1622140871418,
     "user": {
      "displayName": "Марк Станиславович Потанин",
      "photoUrl": "https://lh3.googleusercontent.com/a-/AOh14GiGIbSWvn36SnuS11JITt7whCW2414zYLPAFnl9=s64",
      "userId": "12338896257196299013"
     },
     "user_tz": -180
    },
    "id": "c0CBFwXVplSZ",
    "outputId": "0ba0afd2-52c5-4d21-dd15-82cdedf1fbd7"
   },
   "outputs": [],
   "source": [
    "df['six'] = s1\n",
    "df"
   ]
  },
  {
   "cell_type": "markdown",
   "metadata": {
    "id": "_Fah7wIVplSZ"
   },
   "source": [
    "Изменить определенное значение в таблице можно в помощью метода `loc`. Комманда имеет следующие синтаксис `df.loc[row_index,column_index] = new_value`."
   ]
  },
  {
   "cell_type": "code",
   "execution_count": null,
   "metadata": {
    "colab": {
     "base_uri": "https://localhost:8080/"
    },
    "executionInfo": {
     "elapsed": 6,
     "status": "ok",
     "timestamp": 1622140950528,
     "user": {
      "displayName": "Марк Станиславович Потанин",
      "photoUrl": "https://lh3.googleusercontent.com/a-/AOh14GiGIbSWvn36SnuS11JITt7whCW2414zYLPAFnl9=s64",
      "userId": "12338896257196299013"
     },
     "user_tz": -180
    },
    "id": "S7TkBOnmIoxO",
    "outputId": "d8ab1de4-d82d-4200-c658-d7731ef13b0a"
   },
   "outputs": [],
   "source": [
    "dates"
   ]
  },
  {
   "cell_type": "code",
   "execution_count": null,
   "metadata": {},
   "outputs": [],
   "source": [
    "df"
   ]
  },
  {
   "cell_type": "code",
   "execution_count": null,
   "metadata": {
    "_cell_guid": "a3acd34a-8443-4d9a-83e7-8b98dc75ba63",
    "_uuid": "190aff49aae8c1396239b406e9909e62de82c0b3",
    "colab": {
     "base_uri": "https://localhost:8080/",
     "height": 235
    },
    "executionInfo": {
     "elapsed": 364,
     "status": "ok",
     "timestamp": 1622140982070,
     "user": {
      "displayName": "Марк Станиславович Потанин",
      "photoUrl": "https://lh3.googleusercontent.com/a-/AOh14GiGIbSWvn36SnuS11JITt7whCW2414zYLPAFnl9=s64",
      "userId": "12338896257196299013"
     },
     "user_tz": -180
    },
    "id": "UyaOQyikplSZ",
    "outputId": "f475ca26-ef96-4939-9c55-edd98d80c567"
   },
   "outputs": [],
   "source": [
    "df.loc[dates[0],'one'] = 0\n",
    "df"
   ]
  },
  {
   "cell_type": "markdown",
   "metadata": {
    "id": "eUybQ6rDplSZ"
   },
   "source": [
    "То же самое можно сделать используя порядковые индексы столбцов и строк с помощью метода `iloc`."
   ]
  },
  {
   "cell_type": "code",
   "execution_count": null,
   "metadata": {
    "_cell_guid": "a6891c06-b41e-440a-a15e-8e80bedef5fe",
    "_uuid": "1500650883a2caeaf0d0cb3c1895bb305fa58eb7",
    "colab": {
     "base_uri": "https://localhost:8080/",
     "height": 235
    },
    "executionInfo": {
     "elapsed": 375,
     "status": "ok",
     "timestamp": 1622140996924,
     "user": {
      "displayName": "Марк Станиславович Потанин",
      "photoUrl": "https://lh3.googleusercontent.com/a-/AOh14GiGIbSWvn36SnuS11JITt7whCW2414zYLPAFnl9=s64",
      "userId": "12338896257196299013"
     },
     "user_tz": -180
    },
    "id": "SfdfsZzJplSZ",
    "outputId": "7c4397c6-191d-45ad-b183-6360919b5390"
   },
   "outputs": [],
   "source": [
    "df.iloc[0,1] = 0\n",
    "df"
   ]
  },
  {
   "cell_type": "markdown",
   "metadata": {
    "id": "YNozAIihplSa"
   },
   "source": [
    "Можно заменить целый столбец."
   ]
  },
  {
   "cell_type": "code",
   "execution_count": null,
   "metadata": {
    "_cell_guid": "1e8225cf-4459-4cb4-98ef-a32d09c382e2",
    "_uuid": "6993b6c151f135cc7a965730c4c572775cbd8a01",
    "colab": {
     "base_uri": "https://localhost:8080/",
     "height": 235
    },
    "executionInfo": {
     "elapsed": 244,
     "status": "ok",
     "timestamp": 1622141014438,
     "user": {
      "displayName": "Марк Станиславович Потанин",
      "photoUrl": "https://lh3.googleusercontent.com/a-/AOh14GiGIbSWvn36SnuS11JITt7whCW2414zYLPAFnl9=s64",
      "userId": "12338896257196299013"
     },
     "user_tz": -180
    },
    "id": "nhVggSNDplSa",
    "outputId": "becb0ead-81fb-46ac-b59f-578575b969e7"
   },
   "outputs": [],
   "source": [
    "df.loc[:,'four'] = np.array([5] * len(df))\n",
    "df"
   ]
  },
  {
   "cell_type": "markdown",
   "metadata": {
    "_cell_guid": "5ac1ed59-30d2-41c3-883c-bb96634f4830",
    "_uuid": "1f0389c283d54453415ca78a3eafc8d127ba2893",
    "id": "9LUEqHvnplSa"
   },
   "source": [
    "Можно заменить значения на основе булевой маски."
   ]
  },
  {
   "cell_type": "code",
   "execution_count": null,
   "metadata": {
    "colab": {
     "base_uri": "https://localhost:8080/",
     "height": 235
    },
    "executionInfo": {
     "elapsed": 7,
     "status": "ok",
     "timestamp": 1622141028062,
     "user": {
      "displayName": "Марк Станиславович Потанин",
      "photoUrl": "https://lh3.googleusercontent.com/a-/AOh14GiGIbSWvn36SnuS11JITt7whCW2414zYLPAFnl9=s64",
      "userId": "12338896257196299013"
     },
     "user_tz": -180
    },
    "id": "-a0rY7niplSa",
    "outputId": "02652855-2e9f-4b2e-ee4b-c3e578da51d0"
   },
   "outputs": [],
   "source": [
    "df2 = df.copy()\n",
    "df2[df2 > 0] "
   ]
  },
  {
   "cell_type": "code",
   "execution_count": null,
   "metadata": {
    "colab": {
     "base_uri": "https://localhost:8080/",
     "height": 235
    },
    "executionInfo": {
     "elapsed": 579,
     "status": "ok",
     "timestamp": 1622141082667,
     "user": {
      "displayName": "Марк Станиславович Потанин",
      "photoUrl": "https://lh3.googleusercontent.com/a-/AOh14GiGIbSWvn36SnuS11JITt7whCW2414zYLPAFnl9=s64",
      "userId": "12338896257196299013"
     },
     "user_tz": -180
    },
    "id": "I5eQznUkJIzP",
    "outputId": "08bcb60f-8c45-404d-dbe7-89a6a5556b4a"
   },
   "outputs": [],
   "source": [
    "df2"
   ]
  },
  {
   "cell_type": "code",
   "execution_count": null,
   "metadata": {
    "_cell_guid": "7108c375-08f9-4402-9f39-7e68f3ac929f",
    "_uuid": "783d37539e38075c324ebd1c29689211afb66a03",
    "colab": {
     "base_uri": "https://localhost:8080/",
     "height": 235
    },
    "executionInfo": {
     "elapsed": 220,
     "status": "ok",
     "timestamp": 1622141070266,
     "user": {
      "displayName": "Марк Станиславович Потанин",
      "photoUrl": "https://lh3.googleusercontent.com/a-/AOh14GiGIbSWvn36SnuS11JITt7whCW2414zYLPAFnl9=s64",
      "userId": "12338896257196299013"
     },
     "user_tz": -180
    },
    "id": "mK1h2s1dplSa",
    "outputId": "28ddf4ed-ce3a-458d-bf4b-fe9aa0f285fd"
   },
   "outputs": [],
   "source": [
    "df2[df2 > 0] = -df2\n",
    "df2"
   ]
  },
  {
   "cell_type": "markdown",
   "metadata": {
    "id": "nXawPEULplSb"
   },
   "source": [
    "Видим, что значения, которые были больше нуля в исходной таблице, поменяли знак на противоположный."
   ]
  },
  {
   "cell_type": "markdown",
   "metadata": {
    "_cell_guid": "4bab0a44-3ea1-4817-ae0e-233d159e74e5",
    "_uuid": "5481ab3311350209e065b43c612af4b85bee6a1d",
    "collapsed": true,
    "id": "1L3eWLfEplSb"
   },
   "source": [
    "#### Пропущенные значения.\n",
    "\n",
    "Очень часто в имеющихся данных присутствуют пропущенные значения. Pandas использует значение np.nan для представления отсутствующих данных. По умолчанию он не включается в вычисления."
   ]
  },
  {
   "cell_type": "code",
   "execution_count": null,
   "metadata": {
    "colab": {
     "base_uri": "https://localhost:8080/"
    },
    "executionInfo": {
     "elapsed": 231,
     "status": "ok",
     "timestamp": 1622141136132,
     "user": {
      "displayName": "Марк Станиславович Потанин",
      "photoUrl": "https://lh3.googleusercontent.com/a-/AOh14GiGIbSWvn36SnuS11JITt7whCW2414zYLPAFnl9=s64",
      "userId": "12338896257196299013"
     },
     "user_tz": -180
    },
    "id": "NPcz8GsIplSb",
    "outputId": "11fec8db-083d-4eca-c633-ed7ed0b36f65"
   },
   "outputs": [],
   "source": [
    "pd.Series([1, np.nan, 2, None])"
   ]
  },
  {
   "cell_type": "code",
   "execution_count": null,
   "metadata": {
    "colab": {
     "base_uri": "https://localhost:8080/"
    },
    "executionInfo": {
     "elapsed": 263,
     "status": "ok",
     "timestamp": 1622141146781,
     "user": {
      "displayName": "Марк Станиславович Потанин",
      "photoUrl": "https://lh3.googleusercontent.com/a-/AOh14GiGIbSWvn36SnuS11JITt7whCW2414zYLPAFnl9=s64",
      "userId": "12338896257196299013"
     },
     "user_tz": -180
    },
    "id": "J_jDj3oZplSb",
    "outputId": "10cad64c-ee37-4435-ed38-a5fbb61136a6"
   },
   "outputs": [],
   "source": [
    "x = pd.Series(range(2), dtype=int)\n",
    "x"
   ]
  },
  {
   "cell_type": "code",
   "execution_count": null,
   "metadata": {
    "colab": {
     "base_uri": "https://localhost:8080/"
    },
    "executionInfo": {
     "elapsed": 6,
     "status": "ok",
     "timestamp": 1622141149187,
     "user": {
      "displayName": "Марк Станиславович Потанин",
      "photoUrl": "https://lh3.googleusercontent.com/a-/AOh14GiGIbSWvn36SnuS11JITt7whCW2414zYLPAFnl9=s64",
      "userId": "12338896257196299013"
     },
     "user_tz": -180
    },
    "id": "s9JlFX-_plSb",
    "outputId": "6e7703c6-193c-4745-9a56-d8c167ced176"
   },
   "outputs": [],
   "source": [
    "x[0] = None\n",
    "x"
   ]
  },
  {
   "cell_type": "markdown",
   "metadata": {
    "id": "7gj9sDE1plSb"
   },
   "source": [
    "`None` - встроенный тип пропущенных данных (ничего, пусто) в языке Python. `np.nan` - еще одно представление отсутствующих данных в библиотеке NumPy. Pandas использует последний вариант, а также способен автоматически приводить первый вариант к последнему."
   ]
  },
  {
   "cell_type": "code",
   "execution_count": null,
   "metadata": {
    "colab": {
     "base_uri": "https://localhost:8080/",
     "height": 235
    },
    "executionInfo": {
     "elapsed": 231,
     "status": "ok",
     "timestamp": 1622141161566,
     "user": {
      "displayName": "Марк Станиславович Потанин",
      "photoUrl": "https://lh3.googleusercontent.com/a-/AOh14GiGIbSWvn36SnuS11JITt7whCW2414zYLPAFnl9=s64",
      "userId": "12338896257196299013"
     },
     "user_tz": -180
    },
    "id": "-REw2PmbplSc",
    "outputId": "7bc5870d-18de-4a3a-d0ee-338560adde3b"
   },
   "outputs": [],
   "source": [
    "df"
   ]
  },
  {
   "cell_type": "markdown",
   "metadata": {
    "id": "pxBdWz5wplSc"
   },
   "source": [
    "Функция `reindex` (переиндексирование) позволяет вам изменить/добавить/удалить индекс на указанной оси. Она возвращает копию данных."
   ]
  },
  {
   "cell_type": "code",
   "execution_count": null,
   "metadata": {
    "executionInfo": {
     "elapsed": 238,
     "status": "ok",
     "timestamp": 1622141164204,
     "user": {
      "displayName": "Марк Станиславович Потанин",
      "photoUrl": "https://lh3.googleusercontent.com/a-/AOh14GiGIbSWvn36SnuS11JITt7whCW2414zYLPAFnl9=s64",
      "userId": "12338896257196299013"
     },
     "user_tz": -180
    },
    "id": "3rjV-k6NplSc"
   },
   "outputs": [],
   "source": [
    "df1 = df.reindex(index=dates[0:4], columns=list(df.columns) + ['E'])"
   ]
  },
  {
   "cell_type": "code",
   "execution_count": null,
   "metadata": {
    "colab": {
     "base_uri": "https://localhost:8080/",
     "height": 173
    },
    "executionInfo": {
     "elapsed": 395,
     "status": "ok",
     "timestamp": 1622141166539,
     "user": {
      "displayName": "Марк Станиславович Потанин",
      "photoUrl": "https://lh3.googleusercontent.com/a-/AOh14GiGIbSWvn36SnuS11JITt7whCW2414zYLPAFnl9=s64",
      "userId": "12338896257196299013"
     },
     "user_tz": -180
    },
    "id": "VT5vdGVZplSc",
    "outputId": "534534a6-424e-443b-98d5-79cb5b5636fb"
   },
   "outputs": [],
   "source": [
    "df1"
   ]
  },
  {
   "cell_type": "code",
   "execution_count": null,
   "metadata": {
    "_cell_guid": "8ea992cf-a44c-48ba-8c29-772a76a62e25",
    "_uuid": "b34287e42a0e574b9ada0dd0660e7610bde2a4a2",
    "colab": {
     "base_uri": "https://localhost:8080/",
     "height": 173
    },
    "executionInfo": {
     "elapsed": 5,
     "status": "ok",
     "timestamp": 1622141168274,
     "user": {
      "displayName": "Марк Станиславович Потанин",
      "photoUrl": "https://lh3.googleusercontent.com/a-/AOh14GiGIbSWvn36SnuS11JITt7whCW2414zYLPAFnl9=s64",
      "userId": "12338896257196299013"
     },
     "user_tz": -180
    },
    "id": "TmclSAq8plSc",
    "outputId": "e074bd28-a83e-4cda-b23b-419abef321e9"
   },
   "outputs": [],
   "source": [
    "df1.loc[dates[0]:dates[1],'E'] = 1\n",
    "df1"
   ]
  },
  {
   "cell_type": "markdown",
   "metadata": {
    "id": "E8oaO5PmplSc"
   },
   "source": [
    "Для работы над пропущенным значениями есть несколько полезных функций:\n",
    "\n",
    "`isnull()` — генерирует булеву маску для отсутствующих значений.\n",
    "\n",
    "`notnull()` — противоположность метода isnull().\n",
    "\n",
    "`dropna()` — возвращает отфильтрованный вариант данных.\n",
    "\n",
    "`fillna()` — возвращает копию данных, в которой пропущенные значения заполнены или восстановлены."
   ]
  },
  {
   "cell_type": "code",
   "execution_count": null,
   "metadata": {
    "colab": {
     "base_uri": "https://localhost:8080/",
     "height": 173
    },
    "executionInfo": {
     "elapsed": 415,
     "status": "ok",
     "timestamp": 1622141178024,
     "user": {
      "displayName": "Марк Станиславович Потанин",
      "photoUrl": "https://lh3.googleusercontent.com/a-/AOh14GiGIbSWvn36SnuS11JITt7whCW2414zYLPAFnl9=s64",
      "userId": "12338896257196299013"
     },
     "user_tz": -180
    },
    "id": "vNqw6KSQJfpU",
    "outputId": "c8bf9be0-1b95-491f-fa59-b250f0a482b2"
   },
   "outputs": [],
   "source": [
    "df1"
   ]
  },
  {
   "cell_type": "code",
   "execution_count": null,
   "metadata": {
    "colab": {
     "base_uri": "https://localhost:8080/"
    },
    "executionInfo": {
     "elapsed": 642,
     "status": "ok",
     "timestamp": 1622141233162,
     "user": {
      "displayName": "Марк Станиславович Потанин",
      "photoUrl": "https://lh3.googleusercontent.com/a-/AOh14GiGIbSWvn36SnuS11JITt7whCW2414zYLPAFnl9=s64",
      "userId": "12338896257196299013"
     },
     "user_tz": -180
    },
    "id": "O8V4ikYOplSd",
    "outputId": "2e3a7548-c726-4bc5-e25b-cf0c21a52980"
   },
   "outputs": [],
   "source": [
    "df1['E'].isnull()"
   ]
  },
  {
   "cell_type": "code",
   "execution_count": null,
   "metadata": {
    "colab": {
     "base_uri": "https://localhost:8080/"
    },
    "executionInfo": {
     "elapsed": 4,
     "status": "ok",
     "timestamp": 1622141233558,
     "user": {
      "displayName": "Марк Станиславович Потанин",
      "photoUrl": "https://lh3.googleusercontent.com/a-/AOh14GiGIbSWvn36SnuS11JITt7whCW2414zYLPAFnl9=s64",
      "userId": "12338896257196299013"
     },
     "user_tz": -180
    },
    "id": "NBk0eq3TplSd",
    "outputId": "2de97a87-0e27-4eb1-d76a-5289be4659c9"
   },
   "outputs": [],
   "source": [
    "df1['E'].notnull()"
   ]
  },
  {
   "cell_type": "markdown",
   "metadata": {
    "_cell_guid": "7e0319e8-fc11-4556-a0e6-4bc520b2179f",
    "_uuid": "46eaf209fd3122be95d2ef0804dc8bd665794205",
    "id": "7MhgBUa1plSd"
   },
   "source": [
    "Чтобы удалить столбцы, в которых имеются пропущенные значения."
   ]
  },
  {
   "cell_type": "code",
   "execution_count": null,
   "metadata": {
    "colab": {
     "base_uri": "https://localhost:8080/",
     "height": 173
    },
    "executionInfo": {
     "elapsed": 248,
     "status": "ok",
     "timestamp": 1622141270376,
     "user": {
      "displayName": "Марк Станиславович Потанин",
      "photoUrl": "https://lh3.googleusercontent.com/a-/AOh14GiGIbSWvn36SnuS11JITt7whCW2414zYLPAFnl9=s64",
      "userId": "12338896257196299013"
     },
     "user_tz": -180
    },
    "id": "p4ms_zOlJ2oa",
    "outputId": "c677846c-b0f2-4cb6-ea84-a9322afd5c8f"
   },
   "outputs": [],
   "source": [
    "df1"
   ]
  },
  {
   "cell_type": "code",
   "execution_count": null,
   "metadata": {
    "_cell_guid": "9c118c95-34b0-4a03-9ae6-4a4e2fb3ab52",
    "_uuid": "be778687edde438a54f9378d59f532c9fe9d87da",
    "colab": {
     "base_uri": "https://localhost:8080/",
     "height": 173
    },
    "executionInfo": {
     "elapsed": 225,
     "status": "ok",
     "timestamp": 1622141280873,
     "user": {
      "displayName": "Марк Станиславович Потанин",
      "photoUrl": "https://lh3.googleusercontent.com/a-/AOh14GiGIbSWvn36SnuS11JITt7whCW2414zYLPAFnl9=s64",
      "userId": "12338896257196299013"
     },
     "user_tz": -180
    },
    "id": "X-ZSLJlJplSd",
    "outputId": "4aec56db-12af-4c59-f8a0-9db5def1906f"
   },
   "outputs": [],
   "source": [
    "df1.dropna(how='any',axis=1)"
   ]
  },
  {
   "cell_type": "markdown",
   "metadata": {
    "_cell_guid": "b833f8bd-684d-42d6-babb-6a2d02257757",
    "_uuid": "8a107a35dfb6b1f888a3760b1ddc1a2fc8ef1eae",
    "id": "jn_gp5XmplSe"
   },
   "source": [
    "Заполнить пропущенные значения можно метожов `fillna`, ему нужно передать значения, которым требуется заполнить пропуски."
   ]
  },
  {
   "cell_type": "code",
   "execution_count": null,
   "metadata": {},
   "outputs": [],
   "source": [
    "df1"
   ]
  },
  {
   "cell_type": "code",
   "execution_count": null,
   "metadata": {
    "_cell_guid": "f2521f7e-c916-4de2-abb5-c9c5ebebc600",
    "_uuid": "a5089cfe6c94a390800d4ebc997f143f5c000e8e",
    "colab": {
     "base_uri": "https://localhost:8080/",
     "height": 173
    },
    "executionInfo": {
     "elapsed": 265,
     "status": "ok",
     "timestamp": 1622141293531,
     "user": {
      "displayName": "Марк Станиславович Потанин",
      "photoUrl": "https://lh3.googleusercontent.com/a-/AOh14GiGIbSWvn36SnuS11JITt7whCW2414zYLPAFnl9=s64",
      "userId": "12338896257196299013"
     },
     "user_tz": -180
    },
    "id": "kgV6EJdaplSe",
    "outputId": "b9312cfa-1c61-40ec-8eff-2002317f9820"
   },
   "outputs": [],
   "source": [
    "df1['six'].fillna(value=5,inplace=True)"
   ]
  },
  {
   "cell_type": "code",
   "execution_count": null,
   "metadata": {},
   "outputs": [],
   "source": [
    "df1"
   ]
  },
  {
   "cell_type": "markdown",
   "metadata": {
    "_cell_guid": "02f262f9-27dd-4e4e-9c6d-030c23123e90",
    "_uuid": "3f1f384adbd5d3081028c45a797f6ab1f0174490",
    "id": "AqUigaIPplSe"
   },
   "source": [
    "#### Различные операции с данными."
   ]
  },
  {
   "cell_type": "markdown",
   "metadata": {
    "id": "t0PMvFeIplSe"
   },
   "source": [
    "Важно помнить, что операции с данными в целом не обращают внимание на пропущенные значения."
   ]
  },
  {
   "cell_type": "markdown",
   "metadata": {
    "id": "b_ZACYYzplSe"
   },
   "source": [
    "Чтобы посмотреть среднее по столбцам используем метод `mean()`."
   ]
  },
  {
   "cell_type": "code",
   "execution_count": null,
   "metadata": {
    "colab": {
     "base_uri": "https://localhost:8080/",
     "height": 235
    },
    "executionInfo": {
     "elapsed": 232,
     "status": "ok",
     "timestamp": 1622141332126,
     "user": {
      "displayName": "Марк Станиславович Потанин",
      "photoUrl": "https://lh3.googleusercontent.com/a-/AOh14GiGIbSWvn36SnuS11JITt7whCW2414zYLPAFnl9=s64",
      "userId": "12338896257196299013"
     },
     "user_tz": -180
    },
    "id": "O6vgEzEkKFYt",
    "outputId": "22544ebc-e83d-4835-a984-c319d766e716",
    "scrolled": true
   },
   "outputs": [],
   "source": [
    "df"
   ]
  },
  {
   "cell_type": "code",
   "execution_count": null,
   "metadata": {
    "_cell_guid": "873b0539-d75a-4d8f-81e2-42c1ee70f945",
    "_uuid": "18a53af2b3fcb793e6c52ddfabc3bf4b01edc3ae",
    "colab": {
     "base_uri": "https://localhost:8080/"
    },
    "executionInfo": {
     "elapsed": 451,
     "status": "ok",
     "timestamp": 1622141342600,
     "user": {
      "displayName": "Марк Станиславович Потанин",
      "photoUrl": "https://lh3.googleusercontent.com/a-/AOh14GiGIbSWvn36SnuS11JITt7whCW2414zYLPAFnl9=s64",
      "userId": "12338896257196299013"
     },
     "user_tz": -180
    },
    "id": "4Ea3WXFmplSe",
    "outputId": "6c325a20-a351-4b9e-833e-3976c321a8f6"
   },
   "outputs": [],
   "source": [
    "df.mean()"
   ]
  },
  {
   "cell_type": "markdown",
   "metadata": {
    "id": "AuP4iLgNplSf"
   },
   "source": [
    "По строкам."
   ]
  },
  {
   "cell_type": "code",
   "execution_count": null,
   "metadata": {
    "_cell_guid": "88cdbfa8-728c-4803-a400-5b348828e03e",
    "_uuid": "25a698388c134cb27fc648f76ecef27c12471fce",
    "colab": {
     "base_uri": "https://localhost:8080/"
    },
    "executionInfo": {
     "elapsed": 30,
     "status": "ok",
     "timestamp": 1622133386439,
     "user": {
      "displayName": "Марк Станиславович Потанин",
      "photoUrl": "https://lh3.googleusercontent.com/a-/AOh14GiGIbSWvn36SnuS11JITt7whCW2414zYLPAFnl9=s64",
      "userId": "12338896257196299013"
     },
     "user_tz": -180
    },
    "id": "11TUmMtHplSf",
    "outputId": "0082e9ca-e35c-4400-b5a8-bf8e2ad5171d"
   },
   "outputs": [],
   "source": [
    "df.mean(axis=1)"
   ]
  },
  {
   "cell_type": "code",
   "execution_count": null,
   "metadata": {
    "executionInfo": {
     "elapsed": 411,
     "status": "ok",
     "timestamp": 1622141375006,
     "user": {
      "displayName": "Марк Станиславович Потанин",
      "photoUrl": "https://lh3.googleusercontent.com/a-/AOh14GiGIbSWvn36SnuS11JITt7whCW2414zYLPAFnl9=s64",
      "userId": "12338896257196299013"
     },
     "user_tz": -180
    },
    "id": "_8vYqbgWplSf"
   },
   "outputs": [],
   "source": [
    "s = pd.Series([1,3,5,np.nan,6,8], index=dates)"
   ]
  },
  {
   "cell_type": "markdown",
   "metadata": {
    "id": "w6PMZJ3mplSf"
   },
   "source": [
    "Метод `shift` сдвигает значения не указанное количество шагов вперед, или назад - если аргумент отрицательный."
   ]
  },
  {
   "cell_type": "code",
   "execution_count": null,
   "metadata": {
    "colab": {
     "base_uri": "https://localhost:8080/"
    },
    "executionInfo": {
     "elapsed": 220,
     "status": "ok",
     "timestamp": 1622141431318,
     "user": {
      "displayName": "Марк Станиславович Потанин",
      "photoUrl": "https://lh3.googleusercontent.com/a-/AOh14GiGIbSWvn36SnuS11JITt7whCW2414zYLPAFnl9=s64",
      "userId": "12338896257196299013"
     },
     "user_tz": -180
    },
    "id": "iO-KPC8CplSf",
    "outputId": "54850fd4-d054-4119-96a9-341a01c647a3"
   },
   "outputs": [],
   "source": [
    "pd.Series([1,3,5,np.nan,6,8], index=dates).shift(3)"
   ]
  },
  {
   "cell_type": "code",
   "execution_count": null,
   "metadata": {
    "colab": {
     "base_uri": "https://localhost:8080/"
    },
    "executionInfo": {
     "elapsed": 222,
     "status": "ok",
     "timestamp": 1622141455569,
     "user": {
      "displayName": "Марк Станиславович Потанин",
      "photoUrl": "https://lh3.googleusercontent.com/a-/AOh14GiGIbSWvn36SnuS11JITt7whCW2414zYLPAFnl9=s64",
      "userId": "12338896257196299013"
     },
     "user_tz": -180
    },
    "id": "peQpQ5huplSg",
    "outputId": "dd2ce58b-5078-4dae-9bf2-3b226fc05dcb"
   },
   "outputs": [],
   "source": [
    "pd.Series([1,3,5,np.nan,6,8], index=dates).shift(-2)"
   ]
  },
  {
   "cell_type": "code",
   "execution_count": null,
   "metadata": {
    "colab": {
     "base_uri": "https://localhost:8080/",
     "height": 235
    },
    "executionInfo": {
     "elapsed": 220,
     "status": "ok",
     "timestamp": 1622141490569,
     "user": {
      "displayName": "Марк Станиславович Потанин",
      "photoUrl": "https://lh3.googleusercontent.com/a-/AOh14GiGIbSWvn36SnuS11JITt7whCW2414zYLPAFnl9=s64",
      "userId": "12338896257196299013"
     },
     "user_tz": -180
    },
    "id": "L8YsypuVplSg",
    "outputId": "a9b99519-1fc3-4186-f6c0-d57ae32482bf",
    "scrolled": true
   },
   "outputs": [],
   "source": [
    "df"
   ]
  },
  {
   "cell_type": "markdown",
   "metadata": {
    "id": "Nt-_-7x2plSg"
   },
   "source": [
    "Операция `sub` вычитает из каждого столбца имеющейся таблицы указанный столбец поэелементно."
   ]
  },
  {
   "cell_type": "code",
   "execution_count": null,
   "metadata": {
    "_cell_guid": "950ca30f-af5b-4184-9556-f98187afe6d5",
    "_uuid": "b88c2ac00262f1176bc919dc4bfa9e37bafa3d07",
    "colab": {
     "base_uri": "https://localhost:8080/",
     "height": 235
    },
    "executionInfo": {
     "elapsed": 232,
     "status": "ok",
     "timestamp": 1622141540797,
     "user": {
      "displayName": "Марк Станиславович Потанин",
      "photoUrl": "https://lh3.googleusercontent.com/a-/AOh14GiGIbSWvn36SnuS11JITt7whCW2414zYLPAFnl9=s64",
      "userId": "12338896257196299013"
     },
     "user_tz": -180
    },
    "id": "5RzcIEi1plSg",
    "outputId": "38f3e8a7-0638-4529-b780-f2295938e8d1"
   },
   "outputs": [],
   "source": [
    "df.sub(s, axis='index')"
   ]
  },
  {
   "cell_type": "markdown",
   "metadata": {
    "_cell_guid": "8a609a42-405f-4145-a258-2b2a1a836fa6",
    "_uuid": "a82c28ab38951a030fc5aaffc9229091af226cf8",
    "id": "JnN8UNkzplSg"
   },
   "source": [
    "#### Apply"
   ]
  },
  {
   "cell_type": "markdown",
   "metadata": {
    "id": "q2m5OpZvplSg"
   },
   "source": [
    "В pandas к данным в таблице можно применять практически любые функции, в том числе из других библиотек, например NumPy."
   ]
  },
  {
   "cell_type": "code",
   "execution_count": null,
   "metadata": {
    "_cell_guid": "ed25e76b-00c8-4f75-b8f2-a6b2669e264f",
    "_uuid": "0fdf92e9b753e997301f3d7c9e88941f87e086b1",
    "colab": {
     "base_uri": "https://localhost:8080/"
    },
    "executionInfo": {
     "elapsed": 454,
     "status": "ok",
     "timestamp": 1622141596382,
     "user": {
      "displayName": "Марк Станиславович Потанин",
      "photoUrl": "https://lh3.googleusercontent.com/a-/AOh14GiGIbSWvn36SnuS11JITt7whCW2414zYLPAFnl9=s64",
      "userId": "12338896257196299013"
     },
     "user_tz": -180
    },
    "id": "8SwBZcYJplSh",
    "outputId": "d398d15f-1047-450b-a776-204d2a966572"
   },
   "outputs": [],
   "source": [
    "df.apply(np.max)"
   ]
  },
  {
   "cell_type": "code",
   "execution_count": null,
   "metadata": {
    "_cell_guid": "ed25e76b-00c8-4f75-b8f2-a6b2669e264f",
    "_uuid": "0fdf92e9b753e997301f3d7c9e88941f87e086b1",
    "colab": {
     "base_uri": "https://localhost:8080/"
    },
    "executionInfo": {
     "elapsed": 353,
     "status": "ok",
     "timestamp": 1622141606866,
     "user": {
      "displayName": "Марк Станиславович Потанин",
      "photoUrl": "https://lh3.googleusercontent.com/a-/AOh14GiGIbSWvn36SnuS11JITt7whCW2414zYLPAFnl9=s64",
      "userId": "12338896257196299013"
     },
     "user_tz": -180
    },
    "id": "cNVKpQrxplSh",
    "outputId": "a580e664-192e-4110-a8d7-687b4d2f1d29"
   },
   "outputs": [],
   "source": [
    "\n",
    "df.apply(np.max,axis=1)"
   ]
  },
  {
   "cell_type": "markdown",
   "metadata": {
    "id": "F-pQMdU3plSh"
   },
   "source": [
    "Взятие модуля от числа."
   ]
  },
  {
   "cell_type": "code",
   "execution_count": null,
   "metadata": {
    "colab": {
     "base_uri": "https://localhost:8080/",
     "height": 235
    },
    "executionInfo": {
     "elapsed": 223,
     "status": "ok",
     "timestamp": 1622141627158,
     "user": {
      "displayName": "Марк Станиславович Потанин",
      "photoUrl": "https://lh3.googleusercontent.com/a-/AOh14GiGIbSWvn36SnuS11JITt7whCW2414zYLPAFnl9=s64",
      "userId": "12338896257196299013"
     },
     "user_tz": -180
    },
    "id": "pxk13_BfLNth",
    "outputId": "c2b3fcac-ca75-4470-d33b-aac28992ccde"
   },
   "outputs": [],
   "source": [
    "df"
   ]
  },
  {
   "cell_type": "code",
   "execution_count": null,
   "metadata": {
    "_cell_guid": "ed25e76b-00c8-4f75-b8f2-a6b2669e264f",
    "_uuid": "0fdf92e9b753e997301f3d7c9e88941f87e086b1",
    "colab": {
     "base_uri": "https://localhost:8080/",
     "height": 235
    },
    "executionInfo": {
     "elapsed": 220,
     "status": "ok",
     "timestamp": 1622141631029,
     "user": {
      "displayName": "Марк Станиславович Потанин",
      "photoUrl": "https://lh3.googleusercontent.com/a-/AOh14GiGIbSWvn36SnuS11JITt7whCW2414zYLPAFnl9=s64",
      "userId": "12338896257196299013"
     },
     "user_tz": -180
    },
    "id": "dUajT-D2plSh",
    "outputId": "158d41be-a0aa-4e39-c7aa-a2beb8793185"
   },
   "outputs": [],
   "source": [
    "df.apply(np.abs)"
   ]
  },
  {
   "cell_type": "markdown",
   "metadata": {
    "id": "ktxWeJ2gplSi"
   },
   "source": [
    "`np.cumsum` - функция накопительной суммы. То есть к кадому следующему значению в столбце, прибавляется сумма всех предыдущих. Обратите внимание на столбце `four`."
   ]
  },
  {
   "cell_type": "code",
   "execution_count": null,
   "metadata": {
    "colab": {
     "base_uri": "https://localhost:8080/",
     "height": 235
    },
    "executionInfo": {
     "elapsed": 232,
     "status": "ok",
     "timestamp": 1622141661534,
     "user": {
      "displayName": "Марк Станиславович Потанин",
      "photoUrl": "https://lh3.googleusercontent.com/a-/AOh14GiGIbSWvn36SnuS11JITt7whCW2414zYLPAFnl9=s64",
      "userId": "12338896257196299013"
     },
     "user_tz": -180
    },
    "id": "xyXFoakVplSi",
    "outputId": "c016006b-247c-470d-ec72-a7efcbefb857"
   },
   "outputs": [],
   "source": [
    "df.apply(np.cumsum)"
   ]
  },
  {
   "cell_type": "markdown",
   "metadata": {
    "id": "IfZi80M6plSi"
   },
   "source": [
    "Очень полезная функция `value_counts()` является своеобразным счетчиком. Оно считает количество вхождений каждого элемента в столбец. Выходом функции является новый объект `Series`, в котором индексами являются уникальные элементы в наборе, а значениями - количество их вхождений."
   ]
  },
  {
   "cell_type": "code",
   "execution_count": null,
   "metadata": {
    "_cell_guid": "765ec7fe-83b0-4180-acdc-540a28422a85",
    "_uuid": "8cc61eeda690d11eefecf2116e28136020ca0003",
    "colab": {
     "base_uri": "https://localhost:8080/"
    },
    "executionInfo": {
     "elapsed": 265,
     "status": "ok",
     "timestamp": 1622141731628,
     "user": {
      "displayName": "Марк Станиславович Потанин",
      "photoUrl": "https://lh3.googleusercontent.com/a-/AOh14GiGIbSWvn36SnuS11JITt7whCW2414zYLPAFnl9=s64",
      "userId": "12338896257196299013"
     },
     "user_tz": -180
    },
    "id": "yXjqq5x1plSi",
    "outputId": "ac1bf0bb-0472-4aa0-8d1a-b0d95c75cef4"
   },
   "outputs": [],
   "source": [
    "s = pd.Series(np.random.randint(0, 7, size=10))\n",
    "s"
   ]
  },
  {
   "cell_type": "code",
   "execution_count": null,
   "metadata": {
    "_cell_guid": "cd3bda59-12a7-434c-9195-23c4dcba5b8b",
    "_uuid": "77963d7b3d63b8e939652cc2c114a0731baa359e",
    "colab": {
     "base_uri": "https://localhost:8080/"
    },
    "executionInfo": {
     "elapsed": 322,
     "status": "ok",
     "timestamp": 1622141772709,
     "user": {
      "displayName": "Марк Станиславович Потанин",
      "photoUrl": "https://lh3.googleusercontent.com/a-/AOh14GiGIbSWvn36SnuS11JITt7whCW2414zYLPAFnl9=s64",
      "userId": "12338896257196299013"
     },
     "user_tz": -180
    },
    "id": "QPtnaLewplSi",
    "outputId": "e05fbec1-513a-44ae-d76e-021fb849f25a"
   },
   "outputs": [],
   "source": [
    "s.value_counts()"
   ]
  },
  {
   "cell_type": "markdown",
   "metadata": {
    "_cell_guid": "cb8c8038-acc7-4b09-8e70-3354521439e6",
    "_uuid": "e74ee3f403a6358e6658dcfae2f2909128d64130",
    "id": "_CV1LM4_plSj"
   },
   "source": [
    "#### Строки"
   ]
  },
  {
   "cell_type": "markdown",
   "metadata": {
    "id": "POL7_KTJplSj"
   },
   "source": [
    "Series оснащен набором методов обработки строк в атрибуте `str`, которые упрощают работу с каждым элементом массива, как показано в фрагменте кода ниже."
   ]
  },
  {
   "cell_type": "code",
   "execution_count": null,
   "metadata": {
    "_cell_guid": "d6eb8ddf-f32a-406d-8d9e-bd0c0a76bdc9",
    "_uuid": "b74596be6dc4925c11bbc9552f52e0ab8a401b19",
    "executionInfo": {
     "elapsed": 346,
     "status": "ok",
     "timestamp": 1622141831472,
     "user": {
      "displayName": "Марк Станиславович Потанин",
      "photoUrl": "https://lh3.googleusercontent.com/a-/AOh14GiGIbSWvn36SnuS11JITt7whCW2414zYLPAFnl9=s64",
      "userId": "12338896257196299013"
     },
     "user_tz": -180
    },
    "id": "SALi7nYyplSj"
   },
   "outputs": [],
   "source": [
    "s = pd.Series(['A', 'B', 'C', 'Aaba', 'Baca', np.nan, 'CABA', 'dog', 'cat'])\n"
   ]
  },
  {
   "cell_type": "code",
   "execution_count": null,
   "metadata": {
    "_cell_guid": "ea018f68-1d1e-487a-9d8d-e985f2c1d08f",
    "_uuid": "fb5a35db50d449608f76c79aaacf3c27f79ac398",
    "colab": {
     "base_uri": "https://localhost:8080/"
    },
    "executionInfo": {
     "elapsed": 234,
     "status": "ok",
     "timestamp": 1622141837657,
     "user": {
      "displayName": "Марк Станиславович Потанин",
      "photoUrl": "https://lh3.googleusercontent.com/a-/AOh14GiGIbSWvn36SnuS11JITt7whCW2414zYLPAFnl9=s64",
      "userId": "12338896257196299013"
     },
     "user_tz": -180
    },
    "id": "Medmpnu2plSj",
    "outputId": "a66231c5-bb36-4901-8d77-b508567a2531"
   },
   "outputs": [],
   "source": [
    "s.str.lower()"
   ]
  },
  {
   "cell_type": "markdown",
   "metadata": {
    "id": "ao8N7FSMplSj"
   },
   "source": [
    "Возвращает длину каждой строки."
   ]
  },
  {
   "cell_type": "code",
   "execution_count": null,
   "metadata": {
    "colab": {
     "base_uri": "https://localhost:8080/"
    },
    "executionInfo": {
     "elapsed": 223,
     "status": "ok",
     "timestamp": 1622141866544,
     "user": {
      "displayName": "Марк Станиславович Потанин",
      "photoUrl": "https://lh3.googleusercontent.com/a-/AOh14GiGIbSWvn36SnuS11JITt7whCW2414zYLPAFnl9=s64",
      "userId": "12338896257196299013"
     },
     "user_tz": -180
    },
    "id": "X_7DDd8MplSj",
    "outputId": "4db1ce63-86f9-47d2-8688-7217d231359b"
   },
   "outputs": [],
   "source": [
    "s.str.len()"
   ]
  },
  {
   "cell_type": "markdown",
   "metadata": {
    "id": "s9rDJHOjplSk"
   },
   "source": [
    "Фильтрация по какому либо условия. В данном случае, мы пытаемся найти в столбце те строки, которые начинаются с заглавной `A`."
   ]
  },
  {
   "cell_type": "code",
   "execution_count": null,
   "metadata": {
    "colab": {
     "base_uri": "https://localhost:8080/"
    },
    "executionInfo": {
     "elapsed": 240,
     "status": "ok",
     "timestamp": 1622141892159,
     "user": {
      "displayName": "Марк Станиславович Потанин",
      "photoUrl": "https://lh3.googleusercontent.com/a-/AOh14GiGIbSWvn36SnuS11JITt7whCW2414zYLPAFnl9=s64",
      "userId": "12338896257196299013"
     },
     "user_tz": -180
    },
    "id": "0q_BIfuGMOkd",
    "outputId": "d132d48c-8838-4082-a87a-ef1374895b54"
   },
   "outputs": [],
   "source": [
    "s"
   ]
  },
  {
   "cell_type": "code",
   "execution_count": null,
   "metadata": {
    "colab": {
     "base_uri": "https://localhost:8080/"
    },
    "executionInfo": {
     "elapsed": 229,
     "status": "ok",
     "timestamp": 1622141897711,
     "user": {
      "displayName": "Марк Станиславович Потанин",
      "photoUrl": "https://lh3.googleusercontent.com/a-/AOh14GiGIbSWvn36SnuS11JITt7whCW2414zYLPAFnl9=s64",
      "userId": "12338896257196299013"
     },
     "user_tz": -180
    },
    "id": "BeR1jIHOplSk",
    "outputId": "4052cdaa-c632-46fd-c70a-23431a5239da"
   },
   "outputs": [],
   "source": [
    "s.str.startswith('A')"
   ]
  },
  {
   "cell_type": "markdown",
   "metadata": {
    "_cell_guid": "bbeb9a06-d07c-4d38-96f6-fd96f8109a36",
    "_uuid": "9ecce4d43cdb73c250c231bd1f6ced47238ee848",
    "id": "VRINqfHwplSk"
   },
   "source": [
    "#### Объединение наборов данных: конкатенация и добавление в конец"
   ]
  },
  {
   "cell_type": "markdown",
   "metadata": {
    "id": "jbbFomO-plSk"
   },
   "source": [
    "В Pandas можно производить различные операции с таблицами как с сущностями. Можно объединять их или конкатенировать."
   ]
  },
  {
   "cell_type": "markdown",
   "metadata": {
    "id": "tBGzAmC4plSk"
   },
   "source": [
    "Создадим новую таблицу."
   ]
  },
  {
   "cell_type": "code",
   "execution_count": null,
   "metadata": {
    "_cell_guid": "35b5371c-d03f-4014-b43e-0ea171cc2af5",
    "_uuid": "0e198af891bd5bd91c825d3e3f825211106140a6",
    "colab": {
     "base_uri": "https://localhost:8080/",
     "height": 390
    },
    "executionInfo": {
     "elapsed": 254,
     "status": "ok",
     "timestamp": 1622141941799,
     "user": {
      "displayName": "Марк Станиславович Потанин",
      "photoUrl": "https://lh3.googleusercontent.com/a-/AOh14GiGIbSWvn36SnuS11JITt7whCW2414zYLPAFnl9=s64",
      "userId": "12338896257196299013"
     },
     "user_tz": -180
    },
    "id": "b_-z0N-yplSk",
    "outputId": "2193ea0f-149d-410c-aeef-acbbf74b13df"
   },
   "outputs": [],
   "source": [
    "df = pd.DataFrame(np.random.randn(11, 4))\n",
    "df"
   ]
  },
  {
   "cell_type": "markdown",
   "metadata": {
    "id": "bVRwlLjNplSl"
   },
   "source": [
    "Разобъем ее на отдельные кусочки методом среза."
   ]
  },
  {
   "cell_type": "code",
   "execution_count": null,
   "metadata": {
    "_cell_guid": "295ac685-5727-4a04-b910-34810572e984",
    "_uuid": "e1b0e0b7a541f0347586622dbd355ca42b7778cd",
    "colab": {
     "base_uri": "https://localhost:8080/"
    },
    "executionInfo": {
     "elapsed": 224,
     "status": "ok",
     "timestamp": 1622141955995,
     "user": {
      "displayName": "Марк Станиславович Потанин",
      "photoUrl": "https://lh3.googleusercontent.com/a-/AOh14GiGIbSWvn36SnuS11JITt7whCW2414zYLPAFnl9=s64",
      "userId": "12338896257196299013"
     },
     "user_tz": -180
    },
    "id": "MmQhVaYYplSl",
    "outputId": "d334c913-5f85-41d1-8805-ecdf5407a2e4"
   },
   "outputs": [],
   "source": [
    "pieces = [df[:4], df[3:7], df[7:]]\n",
    "pieces"
   ]
  },
  {
   "cell_type": "code",
   "execution_count": null,
   "metadata": {
    "colab": {
     "base_uri": "https://localhost:8080/",
     "height": 173
    },
    "executionInfo": {
     "elapsed": 230,
     "status": "ok",
     "timestamp": 1622141982111,
     "user": {
      "displayName": "Марк Станиславович Потанин",
      "photoUrl": "https://lh3.googleusercontent.com/a-/AOh14GiGIbSWvn36SnuS11JITt7whCW2414zYLPAFnl9=s64",
      "userId": "12338896257196299013"
     },
     "user_tz": -180
    },
    "id": "q1YTSsckMgEF",
    "outputId": "34ae24b1-da88-4f83-86c1-49eceedb8ec6"
   },
   "outputs": [],
   "source": [
    "pieces[2]"
   ]
  },
  {
   "cell_type": "markdown",
   "metadata": {
    "id": "qLx6Lb9XplSl"
   },
   "source": [
    "Функцию `pd.concat` можно использовать для простой конкатенации объектов `Series` или `DataFrame`. По умолчанию конкатенация происходит в объекте `DataFrame` построчно, то есть `axis=0`. Функция `pd.concat()` позволяет указывать ось, по которой будет выполняться конкатенация."
   ]
  },
  {
   "cell_type": "code",
   "execution_count": null,
   "metadata": {
    "colab": {
     "base_uri": "https://localhost:8080/"
    },
    "executionInfo": {
     "elapsed": 345,
     "status": "ok",
     "timestamp": 1622142008208,
     "user": {
      "displayName": "Марк Станиславович Потанин",
      "photoUrl": "https://lh3.googleusercontent.com/a-/AOh14GiGIbSWvn36SnuS11JITt7whCW2414zYLPAFnl9=s64",
      "userId": "12338896257196299013"
     },
     "user_tz": -180
    },
    "id": "jbbwYEVgMqXK",
    "outputId": "f8b1af19-e34c-41cf-8f7b-de35906eb633"
   },
   "outputs": [],
   "source": [
    "pieces"
   ]
  },
  {
   "cell_type": "code",
   "execution_count": null,
   "metadata": {
    "_cell_guid": "aa28f68e-a314-4bbe-a71b-568238c3be23",
    "_uuid": "ec51477795c9b3f0bd0366d130175b226cc9232b",
    "colab": {
     "base_uri": "https://localhost:8080/",
     "height": 421
    },
    "executionInfo": {
     "elapsed": 272,
     "status": "ok",
     "timestamp": 1622142018080,
     "user": {
      "displayName": "Марк Станиславович Потанин",
      "photoUrl": "https://lh3.googleusercontent.com/a-/AOh14GiGIbSWvn36SnuS11JITt7whCW2414zYLPAFnl9=s64",
      "userId": "12338896257196299013"
     },
     "user_tz": -180
    },
    "id": "BWBx2LzaplSl",
    "outputId": "59a654b9-5c95-442d-9ec6-691e2b39a828"
   },
   "outputs": [],
   "source": [
    "pd.concat(pieces)\n"
   ]
  },
  {
   "cell_type": "code",
   "execution_count": null,
   "metadata": {
    "colab": {
     "base_uri": "https://localhost:8080/",
     "height": 173
    },
    "executionInfo": {
     "elapsed": 244,
     "status": "ok",
     "timestamp": 1622142041024,
     "user": {
      "displayName": "Марк Станиславович Потанин",
      "photoUrl": "https://lh3.googleusercontent.com/a-/AOh14GiGIbSWvn36SnuS11JITt7whCW2414zYLPAFnl9=s64",
      "userId": "12338896257196299013"
     },
     "user_tz": -180
    },
    "id": "23Z7Xi57Mxy7",
    "outputId": "119786a9-810f-478a-8305-311a6d2433b3"
   },
   "outputs": [],
   "source": [
    "pieces[0]"
   ]
  },
  {
   "cell_type": "code",
   "execution_count": null,
   "metadata": {
    "executionInfo": {
     "elapsed": 648,
     "status": "ok",
     "timestamp": 1622142068256,
     "user": {
      "displayName": "Марк Станиславович Потанин",
      "photoUrl": "https://lh3.googleusercontent.com/a-/AOh14GiGIbSWvn36SnuS11JITt7whCW2414zYLPAFnl9=s64",
      "userId": "12338896257196299013"
     },
     "user_tz": -180
    },
    "id": "r0IkjmnoplSl"
   },
   "outputs": [],
   "source": [
    "#Сделаем у каждой маленькой таблице в наборе индексы строк такие же, как у первой маленьой таблицы\n",
    "for small_df in pieces:\n",
    "    small_df.index = pieces[0].index"
   ]
  },
  {
   "cell_type": "code",
   "execution_count": null,
   "metadata": {
    "colab": {
     "base_uri": "https://localhost:8080/",
     "height": 173
    },
    "executionInfo": {
     "elapsed": 238,
     "status": "ok",
     "timestamp": 1622142101548,
     "user": {
      "displayName": "Марк Станиславович Потанин",
      "photoUrl": "https://lh3.googleusercontent.com/a-/AOh14GiGIbSWvn36SnuS11JITt7whCW2414zYLPAFnl9=s64",
      "userId": "12338896257196299013"
     },
     "user_tz": -180
    },
    "id": "NRnUAEYDM7FR",
    "outputId": "121c6e3d-5ebe-4a54-f84f-1c74e1a84df6"
   },
   "outputs": [],
   "source": [
    "pieces[2]"
   ]
  },
  {
   "cell_type": "code",
   "execution_count": null,
   "metadata": {
    "id": "4jKeY9wsM7dR"
   },
   "outputs": [],
   "source": []
  },
  {
   "cell_type": "code",
   "execution_count": null,
   "metadata": {
    "colab": {
     "base_uri": "https://localhost:8080/",
     "height": 173
    },
    "executionInfo": {
     "elapsed": 6,
     "status": "ok",
     "timestamp": 1622133533025,
     "user": {
      "displayName": "Марк Станиславович Потанин",
      "photoUrl": "https://lh3.googleusercontent.com/a-/AOh14GiGIbSWvn36SnuS11JITt7whCW2414zYLPAFnl9=s64",
      "userId": "12338896257196299013"
     },
     "user_tz": -180
    },
    "id": "G-YdCaJmplSm",
    "outputId": "9cef4592-dee6-40f6-fcd3-d3b2daf04580"
   },
   "outputs": [],
   "source": [
    "pd.concat(pieces,axis=1)\n"
   ]
  },
  {
   "cell_type": "markdown",
   "metadata": {
    "_cell_guid": "dae9ef46-214d-48e2-ba5c-7e8191f33320",
    "_uuid": "52dfbaeb0fc5416d2e15972f3f544b689f32b701",
    "id": "UZ4MAMGxplSm"
   },
   "source": [
    "То же самое можно выполнить с помощью операции `append`, которая имеет синтаксис `df1.append(df2)`."
   ]
  },
  {
   "cell_type": "code",
   "execution_count": null,
   "metadata": {
    "_cell_guid": "df5cdd4b-3313-4a96-82cc-873ad0c67565",
    "_uuid": "4475724eba1b82530cfd5c7d32d46f4d3c2be1a5",
    "colab": {
     "base_uri": "https://localhost:8080/",
     "height": 297
    },
    "executionInfo": {
     "elapsed": 215,
     "status": "ok",
     "timestamp": 1622142153998,
     "user": {
      "displayName": "Марк Станиславович Потанин",
      "photoUrl": "https://lh3.googleusercontent.com/a-/AOh14GiGIbSWvn36SnuS11JITt7whCW2414zYLPAFnl9=s64",
      "userId": "12338896257196299013"
     },
     "user_tz": -180
    },
    "id": "tPKwykFaplSm",
    "outputId": "63f03d8b-22fe-4cc0-f9ae-7285eff44a16"
   },
   "outputs": [],
   "source": [
    "df = pd.DataFrame(np.random.randn(8, 4), columns=['A','B','C','D'])\n",
    "df"
   ]
  },
  {
   "cell_type": "code",
   "execution_count": null,
   "metadata": {
    "_cell_guid": "b15aafac-1acf-4dff-87fc-3e43b9e0ae68",
    "_uuid": "963ccfe458e2b84996e688c787dc9daf00ddfa2f",
    "colab": {
     "base_uri": "https://localhost:8080/"
    },
    "executionInfo": {
     "elapsed": 226,
     "status": "ok",
     "timestamp": 1622142156867,
     "user": {
      "displayName": "Марк Станиславович Потанин",
      "photoUrl": "https://lh3.googleusercontent.com/a-/AOh14GiGIbSWvn36SnuS11JITt7whCW2414zYLPAFnl9=s64",
      "userId": "12338896257196299013"
     },
     "user_tz": -180
    },
    "id": "ZLHa2ZZyplSm",
    "outputId": "29fca7a1-d7b0-45f1-d269-07ab11ce51e6"
   },
   "outputs": [],
   "source": [
    "s = df.iloc[3]\n",
    "s"
   ]
  },
  {
   "cell_type": "code",
   "execution_count": null,
   "metadata": {
    "_cell_guid": "8e8e9c59-b72f-423a-888b-adb66ff31f0d",
    "_uuid": "5de0b99314a3e8b7d347050a5d09f729dd54ed52",
    "colab": {
     "base_uri": "https://localhost:8080/",
     "height": 328
    },
    "executionInfo": {
     "elapsed": 231,
     "status": "ok",
     "timestamp": 1622142162423,
     "user": {
      "displayName": "Марк Станиславович Потанин",
      "photoUrl": "https://lh3.googleusercontent.com/a-/AOh14GiGIbSWvn36SnuS11JITt7whCW2414zYLPAFnl9=s64",
      "userId": "12338896257196299013"
     },
     "user_tz": -180
    },
    "id": "6Sf42d1NplSm",
    "outputId": "6fccc961-6153-4f92-890a-e129330c1737"
   },
   "outputs": [],
   "source": [
    "df.append(s,ignore_index=True)"
   ]
  },
  {
   "cell_type": "markdown",
   "metadata": {
    "id": "smYE1hBQplSn"
   },
   "source": [
    "#### Объединение наборов данных: слияние и соединение"
   ]
  },
  {
   "cell_type": "markdown",
   "metadata": {
    "id": "4wrSGhweplSn"
   },
   "source": [
    "Одно из важных свойств библиотеки Pandas — ее высокопроизводительные, выполняемые в оперативной памяти операции соединения и слияния. Библиотека Pandas реализует эти операции в функции `pd.merge()` и родственном ей методе `join()` объектов `Series` и `DataFrame`. Они обеспечивают возможность эффективно связывать данные из различных источников."
   ]
  },
  {
   "cell_type": "markdown",
   "metadata": {
    "id": "DB41EfBWplSn"
   },
   "source": [
    "#### Соединения \"один к одному\"."
   ]
  },
  {
   "cell_type": "code",
   "execution_count": null,
   "metadata": {
    "colab": {
     "base_uri": "https://localhost:8080/"
    },
    "executionInfo": {
     "elapsed": 256,
     "status": "ok",
     "timestamp": 1622142174528,
     "user": {
      "displayName": "Марк Станиславович Потанин",
      "photoUrl": "https://lh3.googleusercontent.com/a-/AOh14GiGIbSWvn36SnuS11JITt7whCW2414zYLPAFnl9=s64",
      "userId": "12338896257196299013"
     },
     "user_tz": -180
    },
    "id": "DfyBaWW6plSn",
    "outputId": "c34cf200-29c0-4823-875a-06978cae5df0"
   },
   "outputs": [],
   "source": [
    "df1 = pd.DataFrame({'employee': ['Bob', 'Jake', 'Lisa', 'Sue'],\n",
    "                    'group': ['Accounting', 'Engineering', 'Engineering', 'HR']})\n",
    "df2 = pd.DataFrame({'employee': ['Lisa', 'Bob', 'Jake', 'Sue'], \n",
    "                    'hire_data': [2014, 2018, 2012, 2020]})\n",
    "print(df1)\n",
    "print()\n",
    "print(df2)"
   ]
  },
  {
   "cell_type": "markdown",
   "metadata": {
    "id": "bmTOIr--plSo"
   },
   "source": [
    "Чтобы объединить эту информацию в один объект DataFrame, воспользуемся функцией `pd.merge()`:"
   ]
  },
  {
   "cell_type": "code",
   "execution_count": null,
   "metadata": {
    "colab": {
     "base_uri": "https://localhost:8080/",
     "height": 173
    },
    "executionInfo": {
     "elapsed": 296,
     "status": "ok",
     "timestamp": 1622142205898,
     "user": {
      "displayName": "Марк Станиславович Потанин",
      "photoUrl": "https://lh3.googleusercontent.com/a-/AOh14GiGIbSWvn36SnuS11JITt7whCW2414zYLPAFnl9=s64",
      "userId": "12338896257196299013"
     },
     "user_tz": -180
    },
    "id": "voLiebQrplSo",
    "outputId": "81a1ad27-d1f7-4a29-f196-15bd14431bd7"
   },
   "outputs": [],
   "source": [
    "df3 = pd.merge(df1, df2)\n",
    "df3"
   ]
  },
  {
   "cell_type": "markdown",
   "metadata": {
    "id": "yE56Kj_gplSo"
   },
   "source": [
    "Функция `pd.merge()` распознает, что в обоих объектах `DataFrame` имеется столбец `employee`, и автоматически выполняет соединение, используя этот столбец в качестве ключа. Результатом слияния становится новый объект `DataFrame`, объединяющий информацию из двух входных объектов. Обратите внимание, что порядок записей в столбцах не обязательно сохраняется: в данном случае сортировка столбца `employee` различна в объектах `df1` и `df2` и функция `pd.merge()` обрабатывает эту ситуацию корректным образом. Кроме того, не забывайте, что слияние игнорирует индекс, за исключением особого случая слияния по индексу."
   ]
  },
  {
   "cell_type": "markdown",
   "metadata": {
    "id": "Y989OWQpplSo"
   },
   "source": [
    "#### Соединение \"многие-ко-многим\"."
   ]
  },
  {
   "cell_type": "markdown",
   "metadata": {
    "id": "DrTLLVB9plSo"
   },
   "source": [
    "Соединения «многие-ко-многим» семантически несколько более сложны, но тем не менее четко определены. Если столбец ключа как в левом, так и в правом массивах содержит повторяющиеся значения, результат окажется слиянием типа «многие-ко-многим». Рассмотрим следующий пример, в котором объект `DataFrame` отражает один или несколько навыков, соответствующих конкретной группе. Выполнив соединение «многие-ко-многим», можно выяснить навыки каждого конкретного человека:"
   ]
  },
  {
   "cell_type": "code",
   "execution_count": null,
   "metadata": {
    "id": "cXhkQPuuplSo"
   },
   "outputs": [],
   "source": [
    "df5 = pd.DataFrame({'group': ['Accounting', 'Accounting', 'Engineering', 'Engineering', 'HR', 'HR'],\n",
    "                    'skills': ['math', 'spreadsheets', 'coding', 'linux', 'spreadsheets', 'organization']})"
   ]
  },
  {
   "cell_type": "code",
   "execution_count": null,
   "metadata": {
    "id": "eFUccVvTplSp",
    "outputId": "b829d220-f8a4-4163-9784-c5705da9eba9"
   },
   "outputs": [],
   "source": [
    "df5"
   ]
  },
  {
   "cell_type": "code",
   "execution_count": null,
   "metadata": {
    "id": "tnsI7jh2plSp",
    "outputId": "79d7eb21-2495-4ecb-b9da-160b2d6dee57"
   },
   "outputs": [],
   "source": [
    "pd.merge(df1, df5)"
   ]
  },
  {
   "cell_type": "markdown",
   "metadata": {
    "id": "-kdhvsVbplSp"
   },
   "source": [
    "Задание ключа слияния производится с помощью ключевого слова `on`. Нужно указать название ключевого столбца с помощью ключевого слова `on`, в котором указывается название или список названий столбцов."
   ]
  },
  {
   "cell_type": "code",
   "execution_count": null,
   "metadata": {
    "id": "BF0xVE8splSp",
    "outputId": "9167b6d0-f42e-4ae2-9d5c-7a938f3624c3"
   },
   "outputs": [],
   "source": [
    "df1"
   ]
  },
  {
   "cell_type": "code",
   "execution_count": null,
   "metadata": {
    "id": "ulabUwyBplSq",
    "outputId": "614c6cab-c4ff-447f-cabf-ea169ec30aac"
   },
   "outputs": [],
   "source": [
    "df2"
   ]
  },
  {
   "cell_type": "code",
   "execution_count": null,
   "metadata": {
    "id": "vTDKN74bplSq",
    "outputId": "a5249da0-2579-4fca-fbf6-6a9f232f8c6a"
   },
   "outputs": [],
   "source": [
    "pd.merge(df1, df2, on='employee')"
   ]
  },
  {
   "cell_type": "markdown",
   "metadata": {
    "id": "RZ0K2h06plSq"
   },
   "source": [
    "Этот параметр работает только в том случае, когда в левом и правом объектах DataFrame имеется указанное название столбца."
   ]
  },
  {
   "cell_type": "markdown",
   "metadata": {
    "id": "iP6qV1OFplSq"
   },
   "source": [
    "Иногда приходится выполнять слияние двух наборов данных с различными именами столбцов. Например, у нас может быть набор данных, в котором столбец для имени служащего называется `Name`, а не `Employee`. В этом случае можно воспользоваться ключевыми словами `left_on` и `right_on` для указания названий двух нужных столбцов."
   ]
  },
  {
   "cell_type": "code",
   "execution_count": null,
   "metadata": {
    "id": "l6HhWza0plSq"
   },
   "outputs": [],
   "source": [
    "df3 = pd.DataFrame({'name': ['Bob', 'Jake', 'Lisa', 'Sue'], 'salary':[70000, 80000, 120000, 90000]})"
   ]
  },
  {
   "cell_type": "code",
   "execution_count": null,
   "metadata": {
    "id": "M6jwjwhfplSq",
    "outputId": "f8304cf2-51f9-486f-c469-4046e93a684b"
   },
   "outputs": [],
   "source": [
    "df3"
   ]
  },
  {
   "cell_type": "code",
   "execution_count": null,
   "metadata": {
    "id": "RImo4eFmplSr",
    "outputId": "c8d9cd71-3b5d-4fd8-eb35-3a16b3ee4d7d"
   },
   "outputs": [],
   "source": [
    "pd.merge(df1, df3, left_on='employee', right_on='name')\n"
   ]
  },
  {
   "cell_type": "markdown",
   "metadata": {
    "id": "pdTubY9zplSr"
   },
   "source": [
    "Результат этой операции содержит избыточный столбец, который можно при желании удалить. Например, с помощью имеющегося в объектах `DataFrame` метода `drop()`."
   ]
  },
  {
   "cell_type": "code",
   "execution_count": null,
   "metadata": {
    "id": "_qNMW68fplSs",
    "outputId": "99e0a822-2dec-4c71-a9da-bba74dcf8932"
   },
   "outputs": [],
   "source": [
    "pd.merge(df1, df3, left_on='employee', right_on='name').drop('name', axis=1)"
   ]
  },
  {
   "cell_type": "markdown",
   "metadata": {
    "id": "J2XvnwexplSs"
   },
   "source": [
    "Иногда удобнее вместо слияния по столбцу выполнить слияние по индексу. Для этого используются ключевые слова `left_index` и `right_index`. Допустим, у нас имеются следующие данные:"
   ]
  },
  {
   "cell_type": "code",
   "execution_count": null,
   "metadata": {
    "id": "Zvgm0wSEplSs"
   },
   "outputs": [],
   "source": [
    "df1a = df1.set_index('employee')\n",
    "df2a = df2.set_index('employee')"
   ]
  },
  {
   "cell_type": "markdown",
   "metadata": {
    "id": "im1gdGS5plSs"
   },
   "source": [
    "В данном случае метод `set_index` ставит определенный столбце таблицы в качестве индекса."
   ]
  },
  {
   "cell_type": "code",
   "execution_count": null,
   "metadata": {
    "id": "OA2YsPPuplSs",
    "outputId": "4a58371d-d0a6-4fce-ec22-1791c6c26639"
   },
   "outputs": [],
   "source": [
    "df1a"
   ]
  },
  {
   "cell_type": "code",
   "execution_count": null,
   "metadata": {
    "id": "87TZamngplSs",
    "outputId": "f9eed41c-5013-4f84-9426-fe59f831475f"
   },
   "outputs": [],
   "source": [
    "df2a"
   ]
  },
  {
   "cell_type": "markdown",
   "metadata": {
    "id": "3j6583S-plSt"
   },
   "source": [
    "Можно использовать индекс в качестве ключа слияния путем указания в методе `pd.merge()` флагов `left_index` и/или `right_index`:"
   ]
  },
  {
   "cell_type": "code",
   "execution_count": null,
   "metadata": {
    "id": "pAuV8jkdplSt",
    "outputId": "992e2f0e-1044-42f4-f78b-da1bda9f0665"
   },
   "outputs": [],
   "source": [
    "pd.merge(df1a, df2a, left_index=True, right_index=True)"
   ]
  },
  {
   "cell_type": "markdown",
   "metadata": {
    "id": "tkoqydS4plSt"
   },
   "source": [
    "Для удобства в объектах `DataFrame` реализован метод `join()`, выполняющий по умолчанию слияние по индексам:"
   ]
  },
  {
   "cell_type": "code",
   "execution_count": null,
   "metadata": {
    "id": "Kbm5v8J-plSt",
    "outputId": "ee63bfbb-404f-411d-a365-043e4de2772c"
   },
   "outputs": [],
   "source": [
    "df1a.join(df2a)"
   ]
  },
  {
   "cell_type": "markdown",
   "metadata": {
    "id": "NlbQW5g9plSt"
   },
   "source": [
    "Во всех предыдущих примерах мы игнорировали один важный нюанс выполнения соединения — вид используемой при соединении операции алгебры множеств. Это играет важную роль в случаях, когда какое-либо значение есть в одном ключевом столбце, но отсутствует в другом. Рассмотрим следующий пример:"
   ]
  },
  {
   "cell_type": "code",
   "execution_count": null,
   "metadata": {
    "id": "hfxbD1YSplSt"
   },
   "outputs": [],
   "source": [
    "df6 = pd.DataFrame({'name': ['Peter', 'Paul', 'Mary'], 'food': ['fish', 'beans', 'bread']}, columns=['name', 'food'])\n",
    "df7 = pd.DataFrame({'name': ['Mary', 'Joseph'], 'drink': ['wine', 'beer']}, columns=['name', 'drink'])"
   ]
  },
  {
   "cell_type": "code",
   "execution_count": null,
   "metadata": {
    "id": "L6nvTqHVplSu",
    "outputId": "6f743b29-d1c4-44d0-9f17-f13dd0dc3d0e"
   },
   "outputs": [],
   "source": [
    "df6"
   ]
  },
  {
   "cell_type": "code",
   "execution_count": null,
   "metadata": {
    "id": "YhAtIdykplSu",
    "outputId": "24827509-9ca8-4cb6-9e2e-86bfdf9296ff"
   },
   "outputs": [],
   "source": [
    "df7"
   ]
  },
  {
   "cell_type": "code",
   "execution_count": null,
   "metadata": {
    "id": "VCX-LubBplSu",
    "outputId": "0acff971-d583-4c8c-dea3-192a9201b69c"
   },
   "outputs": [],
   "source": [
    "pd.merge(df6, df7)"
   ]
  },
  {
   "cell_type": "markdown",
   "metadata": {
    "id": "H-p5ggyDplSu"
   },
   "source": [
    "Здесь мы слили воедино два набора данных, у которых совпадает только одна запись `name`: Mary. По умолчанию результат будет содержать пересечение двух входных множеств — внутреннее соединение (`inner join`). Можно указать это явным образом, с помощью ключевого слова `how`, имеющего по умолчанию значение `'inner'`:"
   ]
  },
  {
   "cell_type": "code",
   "execution_count": null,
   "metadata": {
    "id": "HLI2bezhplSu",
    "outputId": "dc8b67a2-7cc2-46dc-fcc3-a4ab25522ad2"
   },
   "outputs": [],
   "source": [
    "pd.merge(df6, df7, how='inner')"
   ]
  },
  {
   "cell_type": "markdown",
   "metadata": {
    "id": "Z8zYAFpZplSv"
   },
   "source": [
    "Левое соединение `left join` и правое соединение `right join` выполняют соединение по записям слева и справа соответственно. Например:"
   ]
  },
  {
   "cell_type": "code",
   "execution_count": null,
   "metadata": {
    "id": "dZYGqMKBplSv",
    "outputId": "06d63c12-8090-4b18-ff33-41ead114b3d2"
   },
   "outputs": [],
   "source": [
    "pd.merge(df6, df7, how='left')"
   ]
  },
  {
   "cell_type": "markdown",
   "metadata": {
    "id": "y2udMwG1plSv"
   },
   "source": [
    "Строки результата теперь соответствуют записям в левом из входных объектов. Опция `how='right'` работает аналогичным образом."
   ]
  },
  {
   "cell_type": "code",
   "execution_count": null,
   "metadata": {
    "id": "_6VLbvJzplSv",
    "outputId": "f004eb4b-6fec-42f0-dd48-2f9945903632"
   },
   "outputs": [],
   "source": [
    "pd.merge(df6, df7, how='right')"
   ]
  },
  {
   "cell_type": "markdown",
   "metadata": {
    "_cell_guid": "dbf8666d-7af7-4fd0-b40a-5dd3a93cc0cb",
    "_uuid": "9f29392de68aceec0cadc01ccdfc2c124e6821f2",
    "id": "xMYWJ_1gplSv"
   },
   "source": [
    "#### Группировка."
   ]
  },
  {
   "cell_type": "markdown",
   "metadata": {
    "id": "EvG4pengplSw"
   },
   "source": [
    "Простые агрегирующие функции (`max`,`mean`) дают возможность «прочувствовать» набор данных, но зачастую бывает нужно выполнить условное агрегирование по какой-либо метке или индексу. Это действие реализовано в так называемой операции `groupby`. Синтаксис у функции следующий `df.groupby(column).function()`. Где `column` - столбец, по значениями которого хочется сгруппировать таблицу, а `function` - какую аггрегирующую функцию применить для значений столбца."
   ]
  },
  {
   "cell_type": "code",
   "execution_count": null,
   "metadata": {
    "_cell_guid": "23331b94-daca-4454-9f8c-f442169e5062",
    "_uuid": "4934d8285f1ed9fc748cb571d8bf212d6f4880ed",
    "colab": {
     "base_uri": "https://localhost:8080/",
     "height": 297
    },
    "executionInfo": {
     "elapsed": 246,
     "status": "ok",
     "timestamp": 1622142227122,
     "user": {
      "displayName": "Марк Станиславович Потанин",
      "photoUrl": "https://lh3.googleusercontent.com/a-/AOh14GiGIbSWvn36SnuS11JITt7whCW2414zYLPAFnl9=s64",
      "userId": "12338896257196299013"
     },
     "user_tz": -180
    },
    "id": "9kFF64LEplSw",
    "outputId": "ff26afef-9f8e-48fd-8f28-19034bacbba7"
   },
   "outputs": [],
   "source": [
    "df = pd.DataFrame({'A' : ['foo', 'bar', 'foo', 'bar',\n",
    "                           'foo', 'bar', 'foo', 'foo'],\n",
    "                    'B' : ['one', 'one', 'two', 'three',\n",
    "                           'two', 'two', 'one', 'three'],\n",
    "                    'C' : np.random.randn(8),\n",
    "                   'D' : np.random.randn(8)})\n",
    "df"
   ]
  },
  {
   "cell_type": "markdown",
   "metadata": {
    "id": "DHISC0N9plSw"
   },
   "source": [
    "Сгруппировать таблицу по уникальным значениями столбца `A`, и проссумировать получившиеся подмассивы."
   ]
  },
  {
   "cell_type": "code",
   "execution_count": null,
   "metadata": {
    "_cell_guid": "ea8abe75-1945-402c-9a22-7d19393853ba",
    "_uuid": "98178d2cec0567107285d68e1dcb9aa411b74ad4",
    "colab": {
     "base_uri": "https://localhost:8080/",
     "height": 142
    },
    "executionInfo": {
     "elapsed": 222,
     "status": "ok",
     "timestamp": 1622142230878,
     "user": {
      "displayName": "Марк Станиславович Потанин",
      "photoUrl": "https://lh3.googleusercontent.com/a-/AOh14GiGIbSWvn36SnuS11JITt7whCW2414zYLPAFnl9=s64",
      "userId": "12338896257196299013"
     },
     "user_tz": -180
    },
    "id": "1TNzvY5hplSw",
    "outputId": "aa35063e-9bc2-4505-c47e-fd8e895fc469"
   },
   "outputs": [],
   "source": [
    "df.groupby('A').sum()"
   ]
  },
  {
   "cell_type": "markdown",
   "metadata": {
    "id": "Jfk_XGYXplSw"
   },
   "source": [
    "Можно произвести группировку сразу по значениям двух столбцов."
   ]
  },
  {
   "cell_type": "code",
   "execution_count": null,
   "metadata": {
    "_cell_guid": "d4fd100b-cd69-4f81-afae-f1930e1d66c2",
    "_uuid": "f66bb1fb16b537febc7839743a177a222f4946e5",
    "colab": {
     "base_uri": "https://localhost:8080/",
     "height": 266
    },
    "executionInfo": {
     "elapsed": 448,
     "status": "ok",
     "timestamp": 1622142248444,
     "user": {
      "displayName": "Марк Станиславович Потанин",
      "photoUrl": "https://lh3.googleusercontent.com/a-/AOh14GiGIbSWvn36SnuS11JITt7whCW2414zYLPAFnl9=s64",
      "userId": "12338896257196299013"
     },
     "user_tz": -180
    },
    "id": "JizfOo6eplSw",
    "outputId": "fcebbdff-9cad-47d2-8337-333a7eca12e7"
   },
   "outputs": [],
   "source": [
    "df.groupby(['A','B']).sum()"
   ]
  },
  {
   "cell_type": "markdown",
   "metadata": {
    "id": "V4yUq_4oplSx"
   },
   "source": [
    "Можно применить несколько функций сразу."
   ]
  },
  {
   "cell_type": "code",
   "execution_count": null,
   "metadata": {
    "colab": {
     "base_uri": "https://localhost:8080/",
     "height": 173
    },
    "executionInfo": {
     "elapsed": 6,
     "status": "ok",
     "timestamp": 1622142250385,
     "user": {
      "displayName": "Марк Станиславович Потанин",
      "photoUrl": "https://lh3.googleusercontent.com/a-/AOh14GiGIbSWvn36SnuS11JITt7whCW2414zYLPAFnl9=s64",
      "userId": "12338896257196299013"
     },
     "user_tz": -180
    },
    "id": "5lZKOCjjplSx",
    "outputId": "0ecb1b23-f913-449c-954c-feabdad9f922"
   },
   "outputs": [],
   "source": [
    "df.groupby('A').aggregate(['sum','median','max'])"
   ]
  },
  {
   "cell_type": "markdown",
   "metadata": {
    "id": "0b_2iZ-LplSx"
   },
   "source": [
    "А можно применить разные функции к определенным столбцам."
   ]
  },
  {
   "cell_type": "code",
   "execution_count": null,
   "metadata": {
    "colab": {
     "base_uri": "https://localhost:8080/",
     "height": 142
    },
    "executionInfo": {
     "elapsed": 4,
     "status": "ok",
     "timestamp": 1622142251268,
     "user": {
      "displayName": "Марк Станиславович Потанин",
      "photoUrl": "https://lh3.googleusercontent.com/a-/AOh14GiGIbSWvn36SnuS11JITt7whCW2414zYLPAFnl9=s64",
      "userId": "12338896257196299013"
     },
     "user_tz": -180
    },
    "id": "6mu59tHxplSx",
    "outputId": "044cba2a-358c-4b56-ab0e-48e8d90ad2f9"
   },
   "outputs": [],
   "source": [
    "df.groupby('A').aggregate({'C': 'min', 'D': 'max'})"
   ]
  },
  {
   "cell_type": "markdown",
   "metadata": {
    "_cell_guid": "2aeae2c4-7559-4fa7-a837-4500980c823c",
    "_uuid": "6108ff3064ecc74f8d264309548f6feb125ed9be",
    "id": "EmKzmWW_plSx"
   },
   "source": [
    "#### Сводные таблицы"
   ]
  },
  {
   "cell_type": "markdown",
   "metadata": {
    "id": "dEX_amstplSx"
   },
   "source": [
    "Сводная таблица получает на входе простые данные в виде столбцов и группирует записи в двумерную таблицу, обеспечивающую многомерное представление данных. "
   ]
  },
  {
   "cell_type": "code",
   "execution_count": null,
   "metadata": {
    "_cell_guid": "1a188e29-26e1-4ffc-acd1-5e8fb7c99465",
    "_uuid": "0acd04af17bb429101737d38d9f603571fb3006f",
    "id": "J1-5CN05plSy",
    "outputId": "f3743bc0-6f63-4c3a-a415-cf5c71807882"
   },
   "outputs": [],
   "source": [
    "df = pd.DataFrame({'A' : ['one', 'one', 'two', 'three'] * 3,\\\n",
    "                   'B' : ['A', 'B', 'C'] * 4,\\\n",
    "                   'C' : ['foo', 'foo', 'foo', 'bar', 'bar', 'bar'] * 2,\\\n",
    "                    'D' : np.random.randn(12),\\\n",
    "                   'E' : np.random.randn(12)})\n",
    "df"
   ]
  },
  {
   "cell_type": "markdown",
   "metadata": {
    "id": "2ygvNmBlplSy"
   },
   "source": [
    "Функция `pd.pivot_table()` имеет следующий список аргументов:\n",
    "\n",
    "* `data` - таблица для преобразования\n",
    "* `values` - столбец, или список столбцов для аггрегации\n",
    "* `index` -  столбец, или список столбцов для использования в качестве ключей для индеков сводной таблицы. \n",
    "* `columns` - столбец, или список столбцов для использования в качестве ключей для столбцов сводной таблицы.\n",
    "* `aggfunc` - функция, применяемая к значениям `values`"
   ]
  },
  {
   "cell_type": "code",
   "execution_count": null,
   "metadata": {
    "_cell_guid": "236b385e-a44c-4526-b7dd-826b858aec30",
    "_uuid": "24977494d59f97c71999811110baf456f25d9e1c",
    "id": "EpYLdiqVplSy",
    "outputId": "0e38a16f-7411-4c65-9227-d77c6638c885",
    "scrolled": true
   },
   "outputs": [],
   "source": [
    "pd.pivot_table(df[['B','C','E']], values='E', index='B', columns='C',aggfunc='mean')"
   ]
  },
  {
   "cell_type": "code",
   "execution_count": null,
   "metadata": {
    "_cell_guid": "236b385e-a44c-4526-b7dd-826b858aec30",
    "_uuid": "24977494d59f97c71999811110baf456f25d9e1c",
    "id": "LO7S8qTrplSy",
    "outputId": "eddcb753-5426-44bf-d94c-f484578aced3",
    "scrolled": true
   },
   "outputs": [],
   "source": [
    "pd.pivot_table(df, values='D', index=['A', 'B'], columns=['C'],aggfunc='mean')"
   ]
  },
  {
   "cell_type": "markdown",
   "metadata": {
    "_cell_guid": "d2a048eb-a0a2-49f1-8322-cec52e82f686",
    "_uuid": "1e9fb4493ac63b9741daf82d345cf4996fb534ae",
    "id": "Ck8tOk2XplSy"
   },
   "source": [
    "#### Работа с временными рядами"
   ]
  },
  {
   "cell_type": "markdown",
   "metadata": {
    "id": "zPwpe60oplSz"
   },
   "source": [
    "Как уже говорилось ранее, в Pandas можно создавать массивы временных интервалов. Для этого служит функция `pd.date_range()`. Создадим временной интрвал длиной 100 точек, и с периодом в одну секунду. Затем используем его в качестве индекса для объекта `Series`."
   ]
  },
  {
   "cell_type": "code",
   "execution_count": null,
   "metadata": {
    "_cell_guid": "8e241bb8-4365-46e1-af4e-e212c17ab73c",
    "_uuid": "0dce2c62fa3fe83d54a964e6be8edfc70f256167",
    "executionInfo": {
     "elapsed": 224,
     "status": "ok",
     "timestamp": 1622142282143,
     "user": {
      "displayName": "Марк Станиславович Потанин",
      "photoUrl": "https://lh3.googleusercontent.com/a-/AOh14GiGIbSWvn36SnuS11JITt7whCW2414zYLPAFnl9=s64",
      "userId": "12338896257196299013"
     },
     "user_tz": -180
    },
    "id": "pKegTDTsplSz"
   },
   "outputs": [],
   "source": [
    "rng = pd.date_range('1/1/2021', periods=100, freq='S')\n",
    "ts = pd.Series(np.random.randint(0, 500, len(rng)), index=rng)\n"
   ]
  },
  {
   "cell_type": "code",
   "execution_count": null,
   "metadata": {
    "colab": {
     "base_uri": "https://localhost:8080/"
    },
    "executionInfo": {
     "elapsed": 229,
     "status": "ok",
     "timestamp": 1622142334616,
     "user": {
      "displayName": "Марк Станиславович Потанин",
      "photoUrl": "https://lh3.googleusercontent.com/a-/AOh14GiGIbSWvn36SnuS11JITt7whCW2414zYLPAFnl9=s64",
      "userId": "12338896257196299013"
     },
     "user_tz": -180
    },
    "id": "j_5JWvj9plSz",
    "outputId": "e9e3e043-f384-4406-a62d-39d25a609ab6",
    "scrolled": true
   },
   "outputs": [],
   "source": [
    "ts"
   ]
  },
  {
   "cell_type": "markdown",
   "metadata": {
    "id": "uKS-svlLplSz"
   },
   "source": [
    "Функция `resample(timeinterval).aggfunc()` позволяет произвести вычисления над этим временным рядом. В качестве `interval` указываем период, внутри которого хотим применить функция `aggfunc`. В следующем примере мы пробегаемся по исходному временному ряду, и суммируем значения в интрвале 5 секунд."
   ]
  },
  {
   "cell_type": "code",
   "execution_count": null,
   "metadata": {
    "colab": {
     "base_uri": "https://localhost:8080/"
    },
    "executionInfo": {
     "elapsed": 309,
     "status": "ok",
     "timestamp": 1622142397845,
     "user": {
      "displayName": "Марк Станиславович Потанин",
      "photoUrl": "https://lh3.googleusercontent.com/a-/AOh14GiGIbSWvn36SnuS11JITt7whCW2414zYLPAFnl9=s64",
      "userId": "12338896257196299013"
     },
     "user_tz": -180
    },
    "id": "VMynsPpWplSz",
    "outputId": "7a76bfbd-d254-4c32-a851-41195a4009fd"
   },
   "outputs": [],
   "source": [
    "ts.resample('25s').mean()"
   ]
  },
  {
   "cell_type": "code",
   "execution_count": null,
   "metadata": {
    "colab": {
     "base_uri": "https://localhost:8080/"
    },
    "executionInfo": {
     "elapsed": 298,
     "status": "ok",
     "timestamp": 1622142407065,
     "user": {
      "displayName": "Марк Станиславович Потанин",
      "photoUrl": "https://lh3.googleusercontent.com/a-/AOh14GiGIbSWvn36SnuS11JITt7whCW2414zYLPAFnl9=s64",
      "userId": "12338896257196299013"
     },
     "user_tz": -180
    },
    "id": "tF2i2TuWplSz",
    "outputId": "2bd18de0-cd73-4780-dcc7-674eadf86dd0"
   },
   "outputs": [],
   "source": [
    "ts.resample('12s').mean()"
   ]
  },
  {
   "cell_type": "markdown",
   "metadata": {
    "_cell_guid": "f7329129-1fc9-434a-ac45-e79986ed395c",
    "_uuid": "4fad41dc8d59a36e31eee33e2e4ceadaef91ef5c",
    "id": "aMDrWinQplSz"
   },
   "source": [
    "#### Визуализация."
   ]
  },
  {
   "cell_type": "markdown",
   "metadata": {
    "id": "ZWIndI5wplS0"
   },
   "source": [
    "Pandas предлагает встроенные интрументы для визуализации данных. Хотя подробнее о визуализации мы поговорим на следующем занятии."
   ]
  },
  {
   "cell_type": "code",
   "execution_count": null,
   "metadata": {
    "executionInfo": {
     "elapsed": 215,
     "status": "ok",
     "timestamp": 1622142421727,
     "user": {
      "displayName": "Марк Станиславович Потанин",
      "photoUrl": "https://lh3.googleusercontent.com/a-/AOh14GiGIbSWvn36SnuS11JITt7whCW2414zYLPAFnl9=s64",
      "userId": "12338896257196299013"
     },
     "user_tz": -180
    },
    "id": "8UqD4mmsplS0"
   },
   "outputs": [],
   "source": [
    "from matplotlib import pyplot as plt\n",
    "%matplotlib inline"
   ]
  },
  {
   "cell_type": "code",
   "execution_count": null,
   "metadata": {
    "_cell_guid": "161bb7ae-199a-4afb-a96e-cd44ce1ad5ba",
    "_uuid": "d7773d5d125e65665d1fa5742a5d96a4c4f66869",
    "colab": {
     "base_uri": "https://localhost:8080/",
     "height": 294
    },
    "executionInfo": {
     "elapsed": 568,
     "status": "ok",
     "timestamp": 1622142423940,
     "user": {
      "displayName": "Марк Станиславович Потанин",
      "photoUrl": "https://lh3.googleusercontent.com/a-/AOh14GiGIbSWvn36SnuS11JITt7whCW2414zYLPAFnl9=s64",
      "userId": "12338896257196299013"
     },
     "user_tz": -180
    },
    "id": "9zyu8e9dplS0",
    "outputId": "a66c337d-3570-425e-fbe4-ae6bd33603a6"
   },
   "outputs": [],
   "source": [
    "ts = pd.Series(np.random.randn(1000), index=pd.date_range('1/1/2000', periods=1000))\n",
    "ts = ts.cumsum()\n",
    "ts.plot()"
   ]
  },
  {
   "cell_type": "code",
   "execution_count": null,
   "metadata": {
    "_cell_guid": "486b1a48-5629-43a9-a421-ab9659b3b5c2",
    "_uuid": "dd719ceca935f661779a4ae7a9d0bdb456707afd",
    "colab": {
     "base_uri": "https://localhost:8080/",
     "height": 311
    },
    "executionInfo": {
     "elapsed": 1007,
     "status": "ok",
     "timestamp": 1622142426665,
     "user": {
      "displayName": "Марк Станиславович Потанин",
      "photoUrl": "https://lh3.googleusercontent.com/a-/AOh14GiGIbSWvn36SnuS11JITt7whCW2414zYLPAFnl9=s64",
      "userId": "12338896257196299013"
     },
     "user_tz": -180
    },
    "id": "pHWBnX71plS0",
    "outputId": "49cd6ce1-66b5-47fc-837f-fe7c093a072c"
   },
   "outputs": [],
   "source": [
    "df = pd.DataFrame(np.random.randn(1000, 4), index=ts.index,columns=['A', 'B', 'C', 'D'])\n",
    "df = df.cumsum()\n",
    "plt.figure(); df.plot(); plt.legend(loc='best')"
   ]
  },
  {
   "cell_type": "markdown",
   "metadata": {
    "_cell_guid": "8f173711-84cf-405d-a974-8f3d467a1699",
    "_uuid": "6707cccfbd1da29773303b644ad02a47e917e182",
    "id": "Y22mRbrSplS0"
   },
   "source": [
    "#### Сохранение и загрузка данных."
   ]
  },
  {
   "cell_type": "code",
   "execution_count": null,
   "metadata": {
    "colab": {
     "base_uri": "https://localhost:8080/",
     "height": 204
    },
    "executionInfo": {
     "elapsed": 357,
     "status": "ok",
     "timestamp": 1622142432335,
     "user": {
      "displayName": "Марк Станиславович Потанин",
      "photoUrl": "https://lh3.googleusercontent.com/a-/AOh14GiGIbSWvn36SnuS11JITt7whCW2414zYLPAFnl9=s64",
      "userId": "12338896257196299013"
     },
     "user_tz": -180
    },
    "id": "cBYCRpLlplS0",
    "outputId": "fbe86a25-d2c9-4660-b4ec-44fce1bcc59c"
   },
   "outputs": [],
   "source": [
    "df.head()"
   ]
  },
  {
   "cell_type": "code",
   "execution_count": null,
   "metadata": {
    "colab": {
     "base_uri": "https://localhost:8080/",
     "height": 419
    },
    "executionInfo": {
     "elapsed": 367,
     "status": "ok",
     "timestamp": 1622142509304,
     "user": {
      "displayName": "Марк Станиславович Потанин",
      "photoUrl": "https://lh3.googleusercontent.com/a-/AOh14GiGIbSWvn36SnuS11JITt7whCW2414zYLPAFnl9=s64",
      "userId": "12338896257196299013"
     },
     "user_tz": -180
    },
    "id": "1V2HE1NTOlNM",
    "outputId": "fe93ffbd-3868-4acf-f0c4-0a73d10c0d2a"
   },
   "outputs": [],
   "source": [
    "df"
   ]
  },
  {
   "cell_type": "markdown",
   "metadata": {
    "id": "eaReEEoqplS1"
   },
   "source": [
    "Вот мы произвели некоторые вычисления с нашими данными. Теперь было бы неплохо их записать в файл, и отправить по почте, например. Для записи в файл используется функция `to_csv(filename)`. А для загрузки из файла используется функция `read_csv(filename)`."
   ]
  },
  {
   "cell_type": "code",
   "execution_count": null,
   "metadata": {
    "_cell_guid": "c2854c44-5039-4c4f-9333-f4b0f33edc5b",
    "_uuid": "f321aa65d66246497c509d32969d3e1a3d717391",
    "executionInfo": {
     "elapsed": 254,
     "status": "ok",
     "timestamp": 1622142551364,
     "user": {
      "displayName": "Марк Станиславович Потанин",
      "photoUrl": "https://lh3.googleusercontent.com/a-/AOh14GiGIbSWvn36SnuS11JITt7whCW2414zYLPAFnl9=s64",
      "userId": "12338896257196299013"
     },
     "user_tz": -180
    },
    "id": "uWhF-JyXplS1"
   },
   "outputs": [],
   "source": [
    "df.to_csv('my_file.csv')"
   ]
  },
  {
   "cell_type": "code",
   "execution_count": null,
   "metadata": {
    "_cell_guid": "746340a9-c552-4995-8cbd-067f7dd62e35",
    "_uuid": "c0daece574ad9366f247716b0bfe7f3fd0c9351e",
    "executionInfo": {
     "elapsed": 294,
     "status": "ok",
     "timestamp": 1622142590801,
     "user": {
      "displayName": "Марк Станиславович Потанин",
      "photoUrl": "https://lh3.googleusercontent.com/a-/AOh14GiGIbSWvn36SnuS11JITt7whCW2414zYLPAFnl9=s64",
      "userId": "12338896257196299013"
     },
     "user_tz": -180
    },
    "id": "OpEtID4-plS1",
    "scrolled": true
   },
   "outputs": [],
   "source": [
    "read_df = pd.read_csv('my_file.csv')"
   ]
  },
  {
   "cell_type": "code",
   "execution_count": null,
   "metadata": {
    "colab": {
     "base_uri": "https://localhost:8080/",
     "height": 204
    },
    "executionInfo": {
     "elapsed": 363,
     "status": "ok",
     "timestamp": 1622142594706,
     "user": {
      "displayName": "Марк Станиславович Потанин",
      "photoUrl": "https://lh3.googleusercontent.com/a-/AOh14GiGIbSWvn36SnuS11JITt7whCW2414zYLPAFnl9=s64",
      "userId": "12338896257196299013"
     },
     "user_tz": -180
    },
    "id": "GwCmf2GOplS1",
    "outputId": "d099261c-76ba-4279-8e1e-b5fc5d5f7c64"
   },
   "outputs": [],
   "source": [
    "read_df.head()"
   ]
  },
  {
   "cell_type": "code",
   "execution_count": null,
   "metadata": {
    "id": "Yq8rFMQ3plS1"
   },
   "outputs": [],
   "source": []
  }
 ],
 "metadata": {
  "colab": {
   "name": "Pandas.ipynb",
   "provenance": []
  },
  "kernelspec": {
   "display_name": "Python 3 (ipykernel)",
   "language": "python",
   "name": "python3"
  },
  "language_info": {
   "codemirror_mode": {
    "name": "ipython",
    "version": 3
   },
   "file_extension": ".py",
   "mimetype": "text/x-python",
   "name": "python",
   "nbconvert_exporter": "python",
   "pygments_lexer": "ipython3",
   "version": "3.8.9"
  }
 },
 "nbformat": 4,
 "nbformat_minor": 1
}
