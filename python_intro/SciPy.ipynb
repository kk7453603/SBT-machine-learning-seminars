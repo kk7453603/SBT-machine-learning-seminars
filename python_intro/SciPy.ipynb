{
 "cells": [
  {
   "cell_type": "markdown",
   "id": "57c69800",
   "metadata": {},
   "source": [
    "## Часть 6: SciPy."
   ]
  },
  {
   "cell_type": "markdown",
   "id": "49239e54",
   "metadata": {},
   "source": [
    "Автор: Потанин Марк, mark.potanin@phystech.edu"
   ]
  },
  {
   "cell_type": "code",
   "execution_count": null,
   "id": "de4feba6",
   "metadata": {},
   "outputs": [],
   "source": [
    "from scipy import linalg\n",
    "from scipy import optimize\n",
    "import numpy as np\n",
    "import matplotlib.pyplot as plt"
   ]
  },
  {
   "cell_type": "code",
   "execution_count": null,
   "id": "1488474c",
   "metadata": {},
   "outputs": [],
   "source": [
    "A = np.array([[1,3,5], [2,5,1], [2,3,8]])"
   ]
  },
  {
   "cell_type": "code",
   "execution_count": null,
   "id": "61c01dbc",
   "metadata": {},
   "outputs": [],
   "source": [
    "A"
   ]
  },
  {
   "cell_type": "markdown",
   "id": "254ab87f",
   "metadata": {},
   "source": [
    "Найти детерминант матрицы A"
   ]
  },
  {
   "cell_type": "code",
   "execution_count": null,
   "id": "f5505aa1",
   "metadata": {},
   "outputs": [],
   "source": [
    "linalg.det(A)"
   ]
  },
  {
   "cell_type": "markdown",
   "id": "54f5108d",
   "metadata": {},
   "source": [
    "Найти обратную матрицу"
   ]
  },
  {
   "cell_type": "code",
   "execution_count": null,
   "id": "1c5b4239",
   "metadata": {},
   "outputs": [],
   "source": [
    "linalg.inv(A)"
   ]
  },
  {
   "cell_type": "markdown",
   "id": "03856ea2",
   "metadata": {},
   "source": [
    "Найти собственные числа и вектора"
   ]
  },
  {
   "cell_type": "code",
   "execution_count": null,
   "id": "76a2fd08",
   "metadata": {},
   "outputs": [],
   "source": [
    "eigenvalues, eigenvectors = linalg.eig(A)"
   ]
  },
  {
   "cell_type": "code",
   "execution_count": null,
   "id": "1a4fd510",
   "metadata": {},
   "outputs": [],
   "source": [
    "eigenvalues"
   ]
  },
  {
   "cell_type": "code",
   "execution_count": null,
   "id": "f450f370",
   "metadata": {},
   "outputs": [],
   "source": [
    "eigenvectors"
   ]
  },
  {
   "cell_type": "markdown",
   "id": "d02305a7",
   "metadata": {},
   "source": [
    "Оптимизация"
   ]
  },
  {
   "cell_type": "code",
   "execution_count": null,
   "id": "4d17602e",
   "metadata": {},
   "outputs": [],
   "source": [
    "def f(x):\n",
    "    return x**2 + 6 * np.sin(x)"
   ]
  },
  {
   "cell_type": "code",
   "execution_count": null,
   "id": "e753b70d",
   "metadata": {},
   "outputs": [],
   "source": [
    "x = np.arange(-10, 10, 0.1)\n",
    "plt.plot(x, f(x))\n",
    "plt.show()"
   ]
  },
  {
   "cell_type": "markdown",
   "id": "05a6df5d",
   "metadata": {},
   "source": [
    "Поиск минимума"
   ]
  },
  {
   "cell_type": "code",
   "execution_count": null,
   "id": "c8eea038",
   "metadata": {},
   "outputs": [],
   "source": [
    "optimize.minimize(f, x0=0)"
   ]
  },
  {
   "cell_type": "markdown",
   "id": "f8a724c4",
   "metadata": {},
   "source": [
    "В качестве приближения взята точка, которая даст локальный минимум"
   ]
  },
  {
   "cell_type": "code",
   "execution_count": null,
   "id": "470defff",
   "metadata": {},
   "outputs": [],
   "source": [
    "optimize.minimize(f, x0=3)"
   ]
  },
  {
   "cell_type": "markdown",
   "id": "8336971e",
   "metadata": {},
   "source": [
    "Глобальная оптимизация"
   ]
  },
  {
   "cell_type": "code",
   "execution_count": null,
   "id": "ee847eea",
   "metadata": {},
   "outputs": [],
   "source": [
    "optimize.differential_evolution(f, bounds=[(-10,10)])"
   ]
  }
 ],
 "metadata": {
  "kernelspec": {
   "display_name": "Python 3 (ipykernel)",
   "language": "python",
   "name": "python3"
  },
  "language_info": {
   "codemirror_mode": {
    "name": "ipython",
    "version": 3
   },
   "file_extension": ".py",
   "mimetype": "text/x-python",
   "name": "python",
   "nbconvert_exporter": "python",
   "pygments_lexer": "ipython3",
   "version": "3.8.9"
  }
 },
 "nbformat": 4,
 "nbformat_minor": 5
}
