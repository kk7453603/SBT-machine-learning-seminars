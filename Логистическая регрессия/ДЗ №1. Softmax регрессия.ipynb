{
 "cells": [
  {
   "cell_type": "markdown",
   "id": "5491bdaf-7145-444d-b7e8-ae4569e0124d",
   "metadata": {},
   "source": [
    "# Домашнее задание №1. Softmax Regression."
   ]
  },
  {
   "cell_type": "markdown",
   "id": "6226b035-0166-4361-a967-28a2d2b58f96",
   "metadata": {},
   "source": [
    "Нужно реализовать много-классовую логистическую регрессию с помощью softmax c поддержкой L1/L2 регуляризации. После этого сравнить с sklearn реализацией [SGDClassifier(loss=\"log_loss\")](https://scikit-learn.org/stable/modules/generated/sklearn.linear_model.SGDClassifier.html#sklearn.linear_model.SGDClassifier)\n",
    "."
   ]
  },
  {
   "cell_type": "markdown",
   "id": "aecb3719-580c-4641-b58b-8b088bc77954",
   "metadata": {},
   "source": [
    "## Задание №1 (10 баллов)\n",
    "\n",
    "Реализовать класс SoftMaxRegression и его методы - init, fit, predict c возможностью конфигурации\n",
    "регуляризации. \n",
    "Для оптимизации функции ошибки воспользоваться методом **стохастического градиентного спуска**. \n",
    "\n",
    "Остальные функции реализовать на ваше усмотрение. "
   ]
  },
  {
   "cell_type": "code",
   "execution_count": 1,
   "id": "64d60fcc-452f-40cb-9eb0-a9941d0d6a80",
   "metadata": {},
   "outputs": [],
   "source": [
    "class SoftMaxRegression:\n",
    "    def __init__(self, regularization_type):\n",
    "        self.regularization_type = regularization_type\n",
    "    \n",
    "    def fit():\n",
    "        \"\"\"функция обучения модели\"\"\"\n",
    "        # CODE HERE\n",
    "        pass\n",
    "    \n",
    "    def predict():\n",
    "        \"\"\"функция предсказания\"\"\"\n",
    "        # CODE HERE\n",
    "        pass"
   ]
  },
  {
   "cell_type": "markdown",
   "id": "4114753f-27f8-4042-a4cb-538573346bc0",
   "metadata": {},
   "source": [
    "## Задание №2 (10 баллов)"
   ]
  },
  {
   "cell_type": "markdown",
   "id": "266f6022-67ee-43fc-b78b-5b066d0e6a64",
   "metadata": {},
   "source": [
    "Загрузите любой датасет много-классовой классификации, сделайте предобработку, разбейте на тренировочную и тестовую выборку  и оцените работу вашего алгоритма. Предпочтительно использовать метрику точности(accuracy) для оценки алгоритма. \n",
    "\n",
    "В рамках оценки, воспользуйтесь sklearn реализацией много-классовой логистической регрессии. **Проверьте что ваши метрики не хуже sklearn версии (разница 1-2% допустима) на моделях без регуляризации, с L1 и с L2 регуляризации.**"
   ]
  },
  {
   "cell_type": "markdown",
   "id": "f744d49d-24ae-4f73-af67-49b0677fd466",
   "metadata": {},
   "source": [
    "#### Работа с датасетом (1 балл)\n",
    "\n",
    "Загрузите выбранный датасет много-классовой классификации, обработайте его, сделайте разбиение на тренировочную и тестовую выборку. Датасеты для классификации можно взять например [**отсюда**](https://archive.ics.uci.edu/ml/datasets.php?format=&task=cla&att=&area=&numAtt=&numIns=&type=&sort=nameUp&view=table)."
   ]
  },
  {
   "cell_type": "code",
   "execution_count": null,
   "id": "bba8504e-3f39-4168-b9cc-709ac87f1ad7",
   "metadata": {},
   "outputs": [],
   "source": [
    "### CODE HERE"
   ]
  },
  {
   "cell_type": "markdown",
   "id": "874392d6-7944-4244-a14b-b8d5bdbf0d66",
   "metadata": {},
   "source": [
    "#### Обучение модели и сравнение с sklearn имплементацией"
   ]
  },
  {
   "cell_type": "markdown",
   "id": "4dcc65a7-ab03-4129-bba2-acde566b31ee",
   "metadata": {},
   "source": [
    "Обучите 3 модели - обычную, с L1 реализацией, с L2 реализацией и сравните с аналогичной sklearn имплементацией много-классовой логистической регрессии. "
   ]
  },
  {
   "cell_type": "markdown",
   "id": "1b0152dc-da7e-42a1-bf62-5095e370ed54",
   "metadata": {},
   "source": [
    "В рамках обучения модели требуется визуализировать:\n",
    "\n",
    "1) График падания значений ошибки на тренировочной выборке в зависимости от итерации.\n",
    "2) График падания значений ошибки на валидационной выборке в зависимости от итерации.\n",
    "3) График роста метрики точности в зависимости от итерации.\n",
    "\n",
    "<span style=\"color:red\">**Модель считается успешно реализованной, если целевая метрика совпадает/лучше sklearn [реализации](https://scikit-learn.org/stable/modules/generated/sklearn.linear_model.SGDClassifier.html#sklearn.linear_model.SGDClassifier)   c log_loss функцией ошибки. \n",
    "    \n",
    "Если разница большая(более 1-2% в пользу sklearn), баллы за ДЗ не проставляются.**</span>\n",
    "\n",
    "Ваши гиперпараметры должны совпадать с параметрами, которые вы указываете в sklearn версии."
   ]
  },
  {
   "cell_type": "markdown",
   "id": "70265566-d186-495f-aa78-022769d8f05d",
   "metadata": {},
   "source": [
    "#### Обучение обычной модели и сравнение с __SGDClassifier(loss=\"log_loss\", penalty = 'none')__ (3 балла)"
   ]
  },
  {
   "cell_type": "code",
   "execution_count": null,
   "id": "6cc24404-2c16-48ec-ae2c-7752f64c3ac4",
   "metadata": {},
   "outputs": [],
   "source": [
    "### CODE HERE"
   ]
  },
  {
   "cell_type": "markdown",
   "id": "c7ad098a-096b-4120-8cf2-19ddbb21bb63",
   "metadata": {},
   "source": [
    "#### Обучение модели c L1 регуляризацией и сравнение с __SGDClassifier(loss=\"log_loss\", penalty = 'l1')__ (3 балла)"
   ]
  },
  {
   "cell_type": "code",
   "execution_count": null,
   "id": "98ff36e1-c0f2-49e7-b839-e7b843cec83a",
   "metadata": {},
   "outputs": [],
   "source": [
    "### CODE HERE"
   ]
  },
  {
   "cell_type": "markdown",
   "id": "c03acd91-cf5c-4873-8450-4ac873a2dea0",
   "metadata": {},
   "source": [
    "#### Обучение модели c L2 регуляризацией и сравнение с __SGDClassifier(loss=\"log_loss\", penalty = 'l2')__ (3 балла)"
   ]
  },
  {
   "cell_type": "code",
   "execution_count": null,
   "id": "bb7ca2af-c05b-4106-bedc-557690ad8eee",
   "metadata": {},
   "outputs": [],
   "source": [
    "### CODE HERE"
   ]
  }
 ],
 "metadata": {
  "kernelspec": {
   "display_name": "Python 3 (ipykernel)",
   "language": "python",
   "name": "python3"
  },
  "language_info": {
   "codemirror_mode": {
    "name": "ipython",
    "version": 3
   },
   "file_extension": ".py",
   "mimetype": "text/x-python",
   "name": "python",
   "nbconvert_exporter": "python",
   "pygments_lexer": "ipython3",
   "version": "3.9.7"
  }
 },
 "nbformat": 4,
 "nbformat_minor": 5
}
