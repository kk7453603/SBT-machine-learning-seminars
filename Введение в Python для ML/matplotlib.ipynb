{
 "cells": [
  {
   "cell_type": "markdown",
   "metadata": {
    "id": "GuPYrYyM_r6Q"
   },
   "source": [
    "## Часть 5: Знакомство с matplotlib.  Средства визуализации данных."
   ]
  },
  {
   "cell_type": "markdown",
   "metadata": {},
   "source": [
    "Автор: Потанин Марк, mark.potanin@phystech.edu"
   ]
  },
  {
   "cell_type": "markdown",
   "metadata": {
    "id": "3XCFaK8G_r6R"
   },
   "source": [
    "Matplotlib – библиотека, предоставляющая средства для построения различных графиков. Визуализация данных является важным навыком в аналитике. Статистика фокусируется на количественных описаниях и оценках данных. Визуализация данных предоставляет важный набор инструментов для получения качественного понимания.\n",
    "\n",
    "Визуализация может помочь в определении шаблонов, поврежденных данных, выбросов и многого другого. Обладая небольшим знанием предметной области, визуализации данных можно использовать для выражения и демонстрации ключевых взаимосвязей на графиках и диаграммах."
   ]
  },
  {
   "cell_type": "markdown",
   "metadata": {
    "id": "7QtcUUYc_r6R"
   },
   "source": [
    "Для начала импортируем библиотеку в наще окружение с помощью `import matplotlib as plt`, а так же импортируем библиотеки `numpy` и `pandas`. Строчка `%matplotlib inline` нужна для интерактивного построения графиков в блокноте Jupyter."
   ]
  },
  {
   "cell_type": "code",
   "execution_count": null,
   "metadata": {
    "_cell_guid": "79c7e3d0-c299-4dcb-8224-4455121ee9b0",
    "_kg_hide-input": true,
    "_uuid": "d629ff2d2480ee46fbb7e2d37f6b5fab8052498a",
    "executionInfo": {
     "elapsed": 371,
     "status": "ok",
     "timestamp": 1622569220595,
     "user": {
      "displayName": "Марк Станиславович Потанин",
      "photoUrl": "https://lh3.googleusercontent.com/a-/AOh14GiGIbSWvn36SnuS11JITt7whCW2414zYLPAFnl9=s64",
      "userId": "12338896257196299013"
     },
     "user_tz": -180
    },
    "id": "UcHKjrA0_r6S"
   },
   "outputs": [],
   "source": [
    "import matplotlib.pyplot as plt\n",
    "%matplotlib inline"
   ]
  },
  {
   "cell_type": "code",
   "execution_count": null,
   "metadata": {
    "_cell_guid": "b1076dfc-b9ad-4769-8c92-a6c4dae69d19",
    "_kg_hide-input": true,
    "_kg_hide-output": true,
    "_uuid": "8f2839f25d086af736a60e9eeb907d3b93b6e0e5",
    "executionInfo": {
     "elapsed": 4,
     "status": "ok",
     "timestamp": 1622569221325,
     "user": {
      "displayName": "Марк Станиславович Потанин",
      "photoUrl": "https://lh3.googleusercontent.com/a-/AOh14GiGIbSWvn36SnuS11JITt7whCW2414zYLPAFnl9=s64",
      "userId": "12338896257196299013"
     },
     "user_tz": -180
    },
    "id": "mttyvxDc_r6S"
   },
   "outputs": [],
   "source": [
    "import numpy as np\n",
    "import pandas as pd\n"
   ]
  },
  {
   "cell_type": "markdown",
   "metadata": {
    "_uuid": "b3c8b15b89ce637f966dce1601c34a4526c458b1",
    "id": "WvRWVgFB_r6T"
   },
   "source": [
    "### Простой график"
   ]
  },
  {
   "cell_type": "markdown",
   "metadata": {
    "id": "mK2ZTa3Q_r6T"
   },
   "source": [
    "Создадим два массива данных, `year` - год, а `population` - население какого-нибудь небольшого городка (тыс. человек)."
   ]
  },
  {
   "cell_type": "code",
   "execution_count": null,
   "metadata": {
    "executionInfo": {
     "elapsed": 352,
     "status": "ok",
     "timestamp": 1622569234282,
     "user": {
      "displayName": "Марк Станиславович Потанин",
      "photoUrl": "https://lh3.googleusercontent.com/a-/AOh14GiGIbSWvn36SnuS11JITt7whCW2414zYLPAFnl9=s64",
      "userId": "12338896257196299013"
     },
     "user_tz": -180
    },
    "id": "GpNv0g3I_r6T"
   },
   "outputs": [],
   "source": [
    "year=[1951,1961,1971,1981,1991,2001,2011,2021]\n",
    "population=[36,43,54,68,84,102,121,150]"
   ]
  },
  {
   "cell_type": "markdown",
   "metadata": {
    "id": "gyvD7ks2_r6T"
   },
   "source": [
    "Простой линейный график можно отрисовать с помощью функции `plt.plot(x,y,label)`. Здесь `x` - набор координат точек по горизонтальной оси, `y` - по вертикальной, `label` - название графика. \n",
    "\n",
    "Так же мы использовали несколько других функций, чтобы обогатить информацию о нашем графике:\n",
    "\n",
    "* `plt.xlabel()` - подпись графика по горизонтальный оси\n",
    "* `plt.ylabel()` - подпись графика по вертикальной оси\n",
    "* `plt.title()` - заголовок графика\n",
    "* `plt.legend()` - отрисовать легенду на графике. имя в легенде берется из аргумента `label` функции `plt.plot(x,y,label)`\n",
    "* `plt.show()` - команда, которая говорит matplotlib отрисовать наш созданный график"
   ]
  },
  {
   "cell_type": "code",
   "execution_count": null,
   "metadata": {
    "_kg_hide-input": true,
    "_uuid": "56b08ba27583c4c3cc63fdcf2751baf47de7ce3c",
    "colab": {
     "base_uri": "https://localhost:8080/",
     "height": 295
    },
    "executionInfo": {
     "elapsed": 993,
     "status": "ok",
     "timestamp": 1622569248807,
     "user": {
      "displayName": "Марк Станиславович Потанин",
      "photoUrl": "https://lh3.googleusercontent.com/a-/AOh14GiGIbSWvn36SnuS11JITt7whCW2414zYLPAFnl9=s64",
      "userId": "12338896257196299013"
     },
     "user_tz": -180
    },
    "id": "DBl1NRpa_r6U",
    "outputId": "f4a3785c-94ad-41b5-9dfd-7fc808a97576"
   },
   "outputs": [],
   "source": [
    "plt.plot(year,population,label='simple plot')\n",
    "plt.xlabel('Year')\n",
    "plt.ylabel('population')\n",
    "plt.title('population over time')\n",
    "plt.legend()\n",
    "plt.show()"
   ]
  },
  {
   "cell_type": "code",
   "execution_count": null,
   "metadata": {
    "colab": {
     "base_uri": "https://localhost:8080/"
    },
    "executionInfo": {
     "elapsed": 370,
     "status": "ok",
     "timestamp": 1622569263328,
     "user": {
      "displayName": "Марк Станиславович Потанин",
      "photoUrl": "https://lh3.googleusercontent.com/a-/AOh14GiGIbSWvn36SnuS11JITt7whCW2414zYLPAFnl9=s64",
      "userId": "12338896257196299013"
     },
     "user_tz": -180
    },
    "id": "TiEiwu1Wqgta",
    "outputId": "8a0f7cdb-291a-4766-de38-351072dd3b61"
   },
   "outputs": [],
   "source": [
    "population"
   ]
  },
  {
   "cell_type": "markdown",
   "metadata": {
    "id": "LRaUotZN_r6V"
   },
   "source": [
    "Создадим инвертированный массив популяции. То есть просто тот же список `population`, только в обратном порядке."
   ]
  },
  {
   "cell_type": "code",
   "execution_count": null,
   "metadata": {
    "executionInfo": {
     "elapsed": 393,
     "status": "ok",
     "timestamp": 1622569301008,
     "user": {
      "displayName": "Марк Станиславович Потанин",
      "photoUrl": "https://lh3.googleusercontent.com/a-/AOh14GiGIbSWvn36SnuS11JITt7whCW2414zYLPAFnl9=s64",
      "userId": "12338896257196299013"
     },
     "user_tz": -180
    },
    "id": "6SoE8DY5_r6V"
   },
   "outputs": [],
   "source": [
    "population_revesrsed=population[::-1]"
   ]
  },
  {
   "cell_type": "code",
   "execution_count": null,
   "metadata": {
    "colab": {
     "base_uri": "https://localhost:8080/"
    },
    "executionInfo": {
     "elapsed": 366,
     "status": "ok",
     "timestamp": 1622569306088,
     "user": {
      "displayName": "Марк Станиславович Потанин",
      "photoUrl": "https://lh3.googleusercontent.com/a-/AOh14GiGIbSWvn36SnuS11JITt7whCW2414zYLPAFnl9=s64",
      "userId": "12338896257196299013"
     },
     "user_tz": -180
    },
    "id": "F7ZlLPPBqjEJ",
    "outputId": "21f41b0e-49d4-4d9c-85c5-1ddbce4db109"
   },
   "outputs": [],
   "source": [
    "population_revesrsed"
   ]
  },
  {
   "cell_type": "markdown",
   "metadata": {
    "id": "9EQiavGB_r6W"
   },
   "source": [
    "А теперь отрисуем вместе два графика на одном холсте. Для этого просто вызовем два раза функцию `plt.plot()` передав разные значения координат по горизонтальной оси."
   ]
  },
  {
   "cell_type": "code",
   "execution_count": null,
   "metadata": {
    "_kg_hide-input": true,
    "_uuid": "56b08ba27583c4c3cc63fdcf2751baf47de7ce3c",
    "colab": {
     "base_uri": "https://localhost:8080/",
     "height": 295
    },
    "executionInfo": {
     "elapsed": 680,
     "status": "ok",
     "timestamp": 1622569366300,
     "user": {
      "displayName": "Марк Станиславович Потанин",
      "photoUrl": "https://lh3.googleusercontent.com/a-/AOh14GiGIbSWvn36SnuS11JITt7whCW2414zYLPAFnl9=s64",
      "userId": "12338896257196299013"
     },
     "user_tz": -180
    },
    "id": "So9dNfTo_r6W",
    "outputId": "1e6d1eba-c706-44de-e2d0-27af7423fce3"
   },
   "outputs": [],
   "source": [
    "plt.plot(year,population,label='increasing')\n",
    "plt.plot(year,population_revesrsed,label='decreasing')\n",
    "plt.xlabel('Year')\n",
    "plt.ylabel('something')\n",
    "plt.title('increasing smth in time')\n",
    "plt.legend()\n",
    "plt.show()"
   ]
  },
  {
   "cell_type": "markdown",
   "metadata": {
    "id": "Rj8daRiq_r6X"
   },
   "source": [
    "Может быть мы не хотим рисовать две линии на одном графике. А хотим отрисовать два разных графика один под другим. Тогда нужно написать основной код для отрисовки каждой линии, и два раза вызвать `plt.show()` - это говорит библиотеке, что нужно вызвать две отдельных отрисовки."
   ]
  },
  {
   "cell_type": "code",
   "execution_count": null,
   "metadata": {
    "_kg_hide-input": true,
    "_uuid": "56b08ba27583c4c3cc63fdcf2751baf47de7ce3c",
    "colab": {
     "base_uri": "https://localhost:8080/",
     "height": 573
    },
    "executionInfo": {
     "elapsed": 771,
     "status": "ok",
     "timestamp": 1622569412277,
     "user": {
      "displayName": "Марк Станиславович Потанин",
      "photoUrl": "https://lh3.googleusercontent.com/a-/AOh14GiGIbSWvn36SnuS11JITt7whCW2414zYLPAFnl9=s64",
      "userId": "12338896257196299013"
     },
     "user_tz": -180
    },
    "id": "4is6jWpb_r6X",
    "outputId": "5f1aa59e-edd9-4df9-b651-1c154b7f9d70"
   },
   "outputs": [],
   "source": [
    "plt.plot(year,population,label='increasing')\n",
    "plt.xlabel('Year')\n",
    "plt.ylabel('something')\n",
    "plt.title('increasing smth in time')\n",
    "plt.legend()\n",
    "plt.show()\n",
    "\n",
    "\n",
    "plt.plot(year,population_revesrsed,label='decreasing',color='r')\n",
    "plt.xlabel('Year')\n",
    "plt.ylabel('something')\n",
    "plt.title('increasing smth in time')\n",
    "plt.legend()\n",
    "plt.show()"
   ]
  },
  {
   "cell_type": "markdown",
   "metadata": {
    "id": "QFPrzD5N_r6X"
   },
   "source": [
    "Размер графика можно изменить с помощью параметра `figsize=(w,h)`, где `w` - размер по горизонтали, а `h` - размер по горизонатли. Заметим, что в этот раз мы в самом начале написали команду `plt.figure()`, для того, чтобы передать размеры холста. В предыдущих примерах стандартный холст создавался автоматически, но если мы хотим конфигурировать его, нам пришлось вручную вызвать объект холста, и передать ему требуемые параметры."
   ]
  },
  {
   "cell_type": "code",
   "execution_count": null,
   "metadata": {
    "_kg_hide-input": true,
    "_uuid": "56b08ba27583c4c3cc63fdcf2751baf47de7ce3c",
    "colab": {
     "base_uri": "https://localhost:8080/",
     "height": 621
    },
    "executionInfo": {
     "elapsed": 553,
     "status": "ok",
     "timestamp": 1622569509611,
     "user": {
      "displayName": "Марк Станиславович Потанин",
      "photoUrl": "https://lh3.googleusercontent.com/a-/AOh14GiGIbSWvn36SnuS11JITt7whCW2414zYLPAFnl9=s64",
      "userId": "12338896257196299013"
     },
     "user_tz": -180
    },
    "id": "Ww1VyfsR_r6Y",
    "outputId": "c1ec3fa0-34c9-4bd6-db2c-4176cc7187e9"
   },
   "outputs": [],
   "source": [
    "plt.figure(figsize=(17,5))\n",
    "plt.plot(year,population,label='name of plot')\n",
    "plt.xlabel('Year')\n",
    "plt.ylabel('something')\n",
    "plt.title('increasing smth in time')\n",
    "plt.legend()\n",
    "plt.show()"
   ]
  },
  {
   "cell_type": "markdown",
   "metadata": {
    "id": "DuyUl0HY_r6Y"
   },
   "source": [
    "Цвет графика можно менять с помощью параметра `color` функции `plt.plot()`. Примеры используемых цветов:\n",
    "* `r` или `red'\n",
    "* `b` или `blue'\n",
    "* `y` или `yellow'\n",
    "* `g` или `green'\n",
    "* `black`\n",
    "* `white`\n",
    "* `'#FFDD44'` - 16-ричный код (RRGGBB от 00 до FF)\n",
    "\n",
    "Цвета можно конфигурировать по желанию."
   ]
  },
  {
   "cell_type": "code",
   "execution_count": null,
   "metadata": {
    "_kg_hide-input": true,
    "_uuid": "56b08ba27583c4c3cc63fdcf2751baf47de7ce3c",
    "colab": {
     "base_uri": "https://localhost:8080/",
     "height": 350
    },
    "executionInfo": {
     "elapsed": 584,
     "status": "ok",
     "timestamp": 1622569594279,
     "user": {
      "displayName": "Марк Станиславович Потанин",
      "photoUrl": "https://lh3.googleusercontent.com/a-/AOh14GiGIbSWvn36SnuS11JITt7whCW2414zYLPAFnl9=s64",
      "userId": "12338896257196299013"
     },
     "user_tz": -180
    },
    "id": "5K_KTGck_r6Y",
    "outputId": "84f51f0e-923a-42f7-c857-73bacd96f483"
   },
   "outputs": [],
   "source": [
    "plt.figure(figsize=(17,5))\n",
    "plt.plot(year,population,label='name of plot',color='r')\n",
    "plt.xlabel('Year')\n",
    "plt.ylabel('something')\n",
    "plt.title('increasing smth in time')\n",
    "plt.legend()\n",
    "plt.show()"
   ]
  },
  {
   "cell_type": "code",
   "execution_count": null,
   "metadata": {
    "colab": {
     "base_uri": "https://localhost:8080/",
     "height": 265
    },
    "executionInfo": {
     "elapsed": 454,
     "status": "ok",
     "timestamp": 1622569676242,
     "user": {
      "displayName": "Марк Станиславович Потанин",
      "photoUrl": "https://lh3.googleusercontent.com/a-/AOh14GiGIbSWvn36SnuS11JITt7whCW2414zYLPAFnl9=s64",
      "userId": "12338896257196299013"
     },
     "user_tz": -180
    },
    "id": "gGuAP4MV_r6Z",
    "outputId": "1df52f9d-b8ea-4388-d832-7bf83180eb8c"
   },
   "outputs": [],
   "source": [
    "x = np.linspace(0, 10, 100)\n",
    "plt.plot(x, np.sin(x), '*')\n",
    "plt.plot(x, np.cos(x), '--')\n",
    "plt.show()"
   ]
  },
  {
   "cell_type": "markdown",
   "metadata": {
    "id": "xfy0ILMm_r6Z"
   },
   "source": [
    "Может быть нам хочется отрисовать не два отдельных графика на двух разных полотнах, а два графика на одном полотне. В этом поможет функция `plt.subplots(nrows,ncols,figsize)` - она создает сетку из пустых холстов нужного размера. `nrows` - количество холстов в каждой строке, `ncols` - количество холстов в каждом столбце, `figsize` - общий размер сетки холстов. "
   ]
  },
  {
   "cell_type": "markdown",
   "metadata": {
    "id": "jI-blLN5_r6a"
   },
   "source": [
    "Давайте создадим сетке из одной строки и двух столбцов, то есть количество пустых холстов равно двум. Обращаться к каждому холсту можно как к массиву, по индксу переменной `axes`."
   ]
  },
  {
   "cell_type": "markdown",
   "metadata": {
    "id": "W7J_e7LA_r6a"
   },
   "source": [
    "`plt.suptitle()` - пишет заголовок, общий для всех холстов сетки. Как бы **главный** заголовок."
   ]
  },
  {
   "cell_type": "code",
   "execution_count": null,
   "metadata": {
    "colab": {
     "base_uri": "https://localhost:8080/",
     "height": 370
    },
    "executionInfo": {
     "elapsed": 596,
     "status": "ok",
     "timestamp": 1622569927296,
     "user": {
      "displayName": "Марк Станиславович Потанин",
      "photoUrl": "https://lh3.googleusercontent.com/a-/AOh14GiGIbSWvn36SnuS11JITt7whCW2414zYLPAFnl9=s64",
      "userId": "12338896257196299013"
     },
     "user_tz": -180
    },
    "id": "S16PUq6W_r6b",
    "outputId": "c0291462-4fba-4880-872d-0becaf480c8b"
   },
   "outputs": [],
   "source": [
    "fig,axes=plt.subplots(nrows=1,ncols=2,figsize=(10,5))\n",
    "axes[0].plot(year,population,label='increasing')\n",
    "axes[1].plot(year,population_revesrsed,label='decreasing')\n",
    "axes[0].set_xlabel('Year')\n",
    "axes[0].set_ylabel('something')\n",
    "\n",
    "axes[1].set_xlabel('Year')\n",
    "axes[1].set_ylabel('something')\n",
    "\n",
    "axes[0].set_title('increasing smth in time')\n",
    "axes[1].set_title('decreasing smth in time')\n",
    "\n",
    "axes[0].legend()\n",
    "axes[1].legend()\n",
    "\n",
    "plt.suptitle('two plots')\n",
    "plt.show()"
   ]
  },
  {
   "cell_type": "markdown",
   "metadata": {
    "id": "s9OTlpYt_r6b"
   },
   "source": [
    "Что если у нас много холстов на графике? Писать отрисовку для каждого вручную будет долго, поэтому воспользуемся циклом."
   ]
  },
  {
   "cell_type": "code",
   "execution_count": null,
   "metadata": {
    "colab": {
     "base_uri": "https://localhost:8080/",
     "height": 350
    },
    "executionInfo": {
     "elapsed": 1234,
     "status": "ok",
     "timestamp": 1622565672713,
     "user": {
      "displayName": "Марк Станиславович Потанин",
      "photoUrl": "https://lh3.googleusercontent.com/a-/AOh14GiGIbSWvn36SnuS11JITt7whCW2414zYLPAFnl9=s64",
      "userId": "12338896257196299013"
     },
     "user_tz": -180
    },
    "id": "SWIRxAMZ_r6b",
    "outputId": "aeb13acd-f3c8-4a37-b7dc-e6edcb7b6b68"
   },
   "outputs": [],
   "source": [
    "fig, axes = plt.subplots(nrows=1, ncols=4,figsize=(17,5))\n",
    "\n",
    "x = np.linspace(0, 10, 100)\n",
    "y = np.cos(x)\n",
    "for ax in axes:\n",
    "    ax.plot(x, y, 'g')\n",
    "    ax.set_xlabel('x')\n",
    "    ax.set_ylabel('y')\n",
    "    ax.set_title('Заголовок')\n"
   ]
  },
  {
   "cell_type": "markdown",
   "metadata": {
    "id": "YZoKtA-O_r6c"
   },
   "source": [
    "Если у нас сетка из нескольких строк, то придется использовать два вложенных цикла. Внешним циклом мы пробегаемся по строкам сетки с холстами, а внутренним - по каждому холсту в этой строке."
   ]
  },
  {
   "cell_type": "code",
   "execution_count": null,
   "metadata": {
    "colab": {
     "base_uri": "https://localhost:8080/",
     "height": 369
    },
    "executionInfo": {
     "elapsed": 2074,
     "status": "ok",
     "timestamp": 1622570072949,
     "user": {
      "displayName": "Марк Станиславович Потанин",
      "photoUrl": "https://lh3.googleusercontent.com/a-/AOh14GiGIbSWvn36SnuS11JITt7whCW2414zYLPAFnl9=s64",
      "userId": "12338896257196299013"
     },
     "user_tz": -180
    },
    "id": "5xFM3N3q_r6c",
    "outputId": "b1f69b41-8c37-4c8b-98e1-450e958821ca"
   },
   "outputs": [],
   "source": [
    "fig, axes = plt.subplots(nrows=3, ncols=4,figsize=(17,10))\n",
    "\n",
    "x = np.linspace(0, 10, 100)\n",
    "y = np.cos(x)\n",
    "for row in axes:\n",
    "    for ax in row:\n",
    "        ax.plot(x, y, 'g')\n",
    "        ax.set_xlabel('x')\n",
    "        ax.set_ylabel('y')\n",
    "        ax.set_title('Заголовок')\n",
    "plt.tight_layout()# автоматически сжимает графики, чтоб освободить пространство между ними"
   ]
  },
  {
   "cell_type": "markdown",
   "metadata": {
    "id": "Da6dWpss_r6c"
   },
   "source": [
    "Можно так же конфигурировать стиль линий, которые мы хотим отрисовать."
   ]
  },
  {
   "cell_type": "code",
   "execution_count": null,
   "metadata": {
    "colab": {
     "base_uri": "https://localhost:8080/"
    },
    "executionInfo": {
     "elapsed": 363,
     "status": "ok",
     "timestamp": 1622570203921,
     "user": {
      "displayName": "Марк Станиславович Потанин",
      "photoUrl": "https://lh3.googleusercontent.com/a-/AOh14GiGIbSWvn36SnuS11JITt7whCW2414zYLPAFnl9=s64",
      "userId": "12338896257196299013"
     },
     "user_tz": -180
    },
    "id": "PDaS-tBwuG_I",
    "outputId": "3f4b603c-8ac2-4dde-e847-eda8f1ee8b85"
   },
   "outputs": [],
   "source": [
    "'-', '--', '-.', ':', 'None', ' ', '', 'solid', 'dashed', 'dashdot', 'dotted'"
   ]
  },
  {
   "cell_type": "code",
   "execution_count": null,
   "metadata": {
    "colab": {
     "base_uri": "https://localhost:8080/",
     "height": 320
    },
    "executionInfo": {
     "elapsed": 691,
     "status": "ok",
     "timestamp": 1622570211440,
     "user": {
      "displayName": "Марк Станиславович Потанин",
      "photoUrl": "https://lh3.googleusercontent.com/a-/AOh14GiGIbSWvn36SnuS11JITt7whCW2414zYLPAFnl9=s64",
      "userId": "12338896257196299013"
     },
     "user_tz": -180
    },
    "id": "96yqsGF6_r6c",
    "outputId": "f5709a93-5a50-40f9-8189-9a284ac6c296"
   },
   "outputs": [],
   "source": [
    "x = np.linspace(0, 10, 100)\n",
    "plt.figure(figsize=(17,5))\n",
    "plt.plot(x, x + 4, linestyle='-') # сплошная линия\n",
    "plt.plot(x, x + 5, linestyle='--') # штриховая линия\n",
    "plt.plot(x, x + 6, linestyle='-.') # штрихпунктирная линия\n",
    "plt.plot(x, x + 7, linestyle=':'); # пунктирная линия\n",
    "plt.show()"
   ]
  },
  {
   "cell_type": "markdown",
   "metadata": {
    "_uuid": "30ecebd6f360eac4bc8fc05d2fb9d14ec5ccbe4d",
    "id": "JX2X7Ut8_r6c"
   },
   "source": [
    "#### Scatter plot"
   ]
  },
  {
   "cell_type": "markdown",
   "metadata": {
    "id": "_o2nfJRk_r6d"
   },
   "source": [
    "Еще один часто используемый тип графиков — точечные графики. В них точки не соединяются отрезками линий, а представлены по отдельности точками, кругами или другими фигурами на графике."
   ]
  },
  {
   "cell_type": "code",
   "execution_count": null,
   "metadata": {
    "colab": {
     "base_uri": "https://localhost:8080/",
     "height": 282
    },
    "executionInfo": {
     "elapsed": 411,
     "status": "ok",
     "timestamp": 1622570259197,
     "user": {
      "displayName": "Марк Станиславович Потанин",
      "photoUrl": "https://lh3.googleusercontent.com/a-/AOh14GiGIbSWvn36SnuS11JITt7whCW2414zYLPAFnl9=s64",
      "userId": "12338896257196299013"
     },
     "user_tz": -180
    },
    "id": "5eqHwdAZ_r6d",
    "outputId": "4f4bc286-c17d-4436-8edf-3ecd5e9cce6f"
   },
   "outputs": [],
   "source": [
    "y = np.sin(x)\n",
    "\n",
    "plt.plot(x, y, 'o', color='black')"
   ]
  },
  {
   "cell_type": "markdown",
   "metadata": {
    "id": "TmdhKkPO_r6d"
   },
   "source": [
    "Третий аргумент в вызове этой функции описывает тип символа, применяемого для графика. Для управления стилем линии можно использовать такие опции, как `'-'` и `'--'`. Для стиля маркера существует свой набор кратких строковых кодов. Полный список можно найти в документации по функции `plt.plot`. Продемонстрируем часто используемые. Ниже функция `plt.xlim(0, 1.8)` задает границы по горизонтальной оси, в которых нам хочется отрисовать график.\n",
    "\n"
   ]
  },
  {
   "cell_type": "code",
   "execution_count": null,
   "metadata": {
    "colab": {
     "base_uri": "https://localhost:8080/"
    },
    "executionInfo": {
     "elapsed": 511,
     "status": "ok",
     "timestamp": 1622570307615,
     "user": {
      "displayName": "Марк Станиславович Потанин",
      "photoUrl": "https://lh3.googleusercontent.com/a-/AOh14GiGIbSWvn36SnuS11JITt7whCW2414zYLPAFnl9=s64",
      "userId": "12338896257196299013"
     },
     "user_tz": -180
    },
    "id": "gG-As673ugSR",
    "outputId": "3d7fe498-72dd-41e5-c4b8-b423ce14c184"
   },
   "outputs": [],
   "source": [
    "'o', '.', ',', 'x', '+', 'v', '^', '<', '>', 's', 'd'"
   ]
  },
  {
   "cell_type": "code",
   "execution_count": null,
   "metadata": {
    "colab": {
     "base_uri": "https://localhost:8080/",
     "height": 609
    },
    "executionInfo": {
     "elapsed": 502,
     "status": "ok",
     "timestamp": 1622570280104,
     "user": {
      "displayName": "Марк Станиславович Потанин",
      "photoUrl": "https://lh3.googleusercontent.com/a-/AOh14GiGIbSWvn36SnuS11JITt7whCW2414zYLPAFnl9=s64",
      "userId": "12338896257196299013"
     },
     "user_tz": -180
    },
    "id": "CFj1s0Lg_r6d",
    "outputId": "b0e0558a-25d1-4e75-a3d7-10cd414203cd"
   },
   "outputs": [],
   "source": [
    "plt.figure(figsize=(10,10))\n",
    "cnt = 0\n",
    "for marker in ['o', '.', ',', 'x', '+', 'v', '^', '<', '>', 's', 'd']:\n",
    "    plt.plot(x, x+cnt, marker, label = 'marker=\"{0}\"'.format(marker))\n",
    "    cnt+=1\n",
    "plt.legend()\n",
    "plt.xlim(0, 1.8)"
   ]
  },
  {
   "cell_type": "markdown",
   "metadata": {
    "id": "vRrgQbit_r6d"
   },
   "source": [
    "Аналогичными возможностями обладает метод построения диаграмм рассеяния с помощью функции `plt.scatter`, во многом напоминающей функцию `plt.plot`."
   ]
  },
  {
   "cell_type": "code",
   "execution_count": null,
   "metadata": {
    "colab": {
     "base_uri": "https://localhost:8080/",
     "height": 279
    },
    "executionInfo": {
     "elapsed": 409,
     "status": "ok",
     "timestamp": 1622570369947,
     "user": {
      "displayName": "Марк Станиславович Потанин",
      "photoUrl": "https://lh3.googleusercontent.com/a-/AOh14GiGIbSWvn36SnuS11JITt7whCW2414zYLPAFnl9=s64",
      "userId": "12338896257196299013"
     },
     "user_tz": -180
    },
    "id": "tfIrbJOt_r6e",
    "outputId": "33efd84a-fa18-4276-8cfd-c0cbbf18ce49"
   },
   "outputs": [],
   "source": [
    "x=[1,2,3,4,5,6,7,8,9,10]\n",
    "y=[11,23,46,56,76,87,56,22,99,76]\n",
    "colors = range(len(x))\n",
    "sizes = np.arange(len(x))*100\n",
    "plt.scatter(x,y,c=colors,label='Scatter',s=sizes, alpha=0.3) \n",
    "plt.xlabel('X Value')\n",
    "plt.ylabel('Y Value')\n",
    "plt.show()"
   ]
  },
  {
   "cell_type": "markdown",
   "metadata": {
    "id": "xkAD936__r6e"
   },
   "source": [
    "Основное различие между функциями `plt.scatter` и `plt.plot` состоит в том, что с помощью первой можно создавать диаграммы рассеяния с индивидуально задаваемыми (или выбираемыми в соответствии с данными) свойствами каждой точки (размер, цвет заливки, цвет рамки и т. д.)."
   ]
  },
  {
   "cell_type": "markdown",
   "metadata": {
    "_uuid": "ceec2f78a176b8c90b49002599c2e16cb2f0dd27",
    "id": "thMvJ6HN_r6e"
   },
   "source": [
    "#### Столбчатая диаграмма "
   ]
  },
  {
   "cell_type": "markdown",
   "metadata": {
    "id": "FlFNvtI0_r6e"
   },
   "source": [
    "Еще один важный типо графиков - столбчатая диаграмма. Для ее отрисовки нужна функция `plt.bar(x,y)` - где `x` это значения по горизонтальной оси, а `y` по вертикальной."
   ]
  },
  {
   "cell_type": "code",
   "execution_count": null,
   "metadata": {
    "colab": {
     "base_uri": "https://localhost:8080/",
     "height": 298
    },
    "executionInfo": {
     "elapsed": 397,
     "status": "ok",
     "timestamp": 1622570385378,
     "user": {
      "displayName": "Марк Станиславович Потанин",
      "photoUrl": "https://lh3.googleusercontent.com/a-/AOh14GiGIbSWvn36SnuS11JITt7whCW2414zYLPAFnl9=s64",
      "userId": "12338896257196299013"
     },
     "user_tz": -180
    },
    "id": "BiYoISSH_r6e",
    "outputId": "a7684448-0b1c-46a5-a5c8-73445af0afd6"
   },
   "outputs": [],
   "source": [
    "x = [1, 2, 3, 4, 5]\n",
    "y = [10,11,9,13,20]\n",
    "\n",
    "# bar()\n",
    "fig = plt.figure()\n",
    "plt.bar(x, y)\n",
    "plt.title('Simple bar chart')\n"
   ]
  },
  {
   "cell_type": "code",
   "execution_count": null,
   "metadata": {
    "colab": {
     "base_uri": "https://localhost:8080/",
     "height": 298
    },
    "executionInfo": {
     "elapsed": 458,
     "status": "ok",
     "timestamp": 1622570394526,
     "user": {
      "displayName": "Марк Станиславович Потанин",
      "photoUrl": "https://lh3.googleusercontent.com/a-/AOh14GiGIbSWvn36SnuS11JITt7whCW2414zYLPAFnl9=s64",
      "userId": "12338896257196299013"
     },
     "user_tz": -180
    },
    "id": "qsCkFh75_r6f",
    "outputId": "f00e96a1-8a11-47ca-f955-ab29b032acc2"
   },
   "outputs": [],
   "source": [
    "s = ['one','two','three ','four' ,'five']\n",
    "x = [1, 2, 3, 4, 5]\n",
    "\n",
    "fig = plt.figure()\n",
    "plt.bar(s, x)\n",
    "plt.title('Simple bar chart')\n"
   ]
  },
  {
   "cell_type": "markdown",
   "metadata": {
    "id": "cqpaTmnq_r6f"
   },
   "source": [
    "Нарисуем два набора столбчатых диаграмм на одном графике, выделив их разными цветами."
   ]
  },
  {
   "cell_type": "code",
   "execution_count": null,
   "metadata": {
    "_kg_hide-input": true,
    "_uuid": "f9634facad91e01f34db537a0f12785acbf5c1d7",
    "colab": {
     "base_uri": "https://localhost:8080/",
     "height": 295
    },
    "executionInfo": {
     "elapsed": 392,
     "status": "ok",
     "timestamp": 1622570464663,
     "user": {
      "displayName": "Марк Станиславович Потанин",
      "photoUrl": "https://lh3.googleusercontent.com/a-/AOh14GiGIbSWvn36SnuS11JITt7whCW2414zYLPAFnl9=s64",
      "userId": "12338896257196299013"
     },
     "user_tz": -180
    },
    "id": "Gl8-1a9__r6g",
    "outputId": "bf8a2242-a5f9-4885-a3ab-253bf1888aef"
   },
   "outputs": [],
   "source": [
    "x1=[1,3,5,7,9]\n",
    "y1=[50,23,50,81,39]\n",
    "\n",
    "x2=[2,4,6,8,10]\n",
    "y2=[30,29,67,11,91]\n",
    "\n",
    "plt.bar(x1,y1,label='Bar chart 1',color='y')\n",
    "plt.bar(x2,y2,label='Bar chart 1',color='r')\n",
    "\n",
    "\n",
    "plt.xlabel('X Values')\n",
    "plt.ylabel('Y Values')\n",
    "plt.title('Simple X,Y Plot')\n",
    "plt.legend()\n",
    "plt.show()"
   ]
  },
  {
   "cell_type": "markdown",
   "metadata": {
    "_uuid": "785f9eb2bd45fbb589ee6244fbd53b30d7eec0d9",
    "id": "RZkMZX4D_r6g"
   },
   "source": [
    "Аналогично можно нарисовать горизонтальный bar plot, для этого испольузется функция `plt.barh()`."
   ]
  },
  {
   "cell_type": "code",
   "execution_count": null,
   "metadata": {
    "_kg_hide-input": true,
    "_uuid": "1c769f8d398d6e3c4c1901cd41c574caf24ecc17",
    "colab": {
     "base_uri": "https://localhost:8080/",
     "height": 295
    },
    "executionInfo": {
     "elapsed": 732,
     "status": "ok",
     "timestamp": 1622570513912,
     "user": {
      "displayName": "Марк Станиславович Потанин",
      "photoUrl": "https://lh3.googleusercontent.com/a-/AOh14GiGIbSWvn36SnuS11JITt7whCW2414zYLPAFnl9=s64",
      "userId": "12338896257196299013"
     },
     "user_tz": -180
    },
    "id": "Yr8E81xp_r6g",
    "outputId": "060e3df1-0ea1-4d9d-eba8-7df11a26cca3"
   },
   "outputs": [],
   "source": [
    "x1=[1,3,5,7,9]\n",
    "y1=[50,23,50,81,39]\n",
    "\n",
    "x2=[2,4,6,8,10]\n",
    "y2=[30,29,67,11,91]\n",
    "\n",
    "plt.barh(x1,y1,label='Bar chart 1',color='y')\n",
    "plt.barh(x2,y2,label='Bar chart 1',color='r')\n",
    "\n",
    "plt.xlabel('X Values')\n",
    "plt.ylabel('Y Values')\n",
    "plt.title('Simple X,Y Plot')\n",
    "plt.legend()\n",
    "plt.show() "
   ]
  },
  {
   "cell_type": "markdown",
   "metadata": {
    "_uuid": "8754ab8bb5f0db285a23688ca223a0f984ee639a",
    "id": "AX3mON7E_r6h"
   },
   "source": [
    "Пример - распределение возрастов."
   ]
  },
  {
   "cell_type": "code",
   "execution_count": null,
   "metadata": {
    "_kg_hide-input": true,
    "_uuid": "6d97629136d3cbed2a875d9937976019fd639693",
    "colab": {
     "base_uri": "https://localhost:8080/",
     "height": 279
    },
    "executionInfo": {
     "elapsed": 409,
     "status": "ok",
     "timestamp": 1622570549162,
     "user": {
      "displayName": "Марк Станиславович Потанин",
      "photoUrl": "https://lh3.googleusercontent.com/a-/AOh14GiGIbSWvn36SnuS11JITt7whCW2414zYLPAFnl9=s64",
      "userId": "12338896257196299013"
     },
     "user_tz": -180
    },
    "id": "8mKDfNGX_r6h",
    "outputId": "713f57ce-ed3a-4eda-d7bb-d9d11087addf"
   },
   "outputs": [],
   "source": [
    "population=[12,22,32,39,28,45,51,67,55,88,76,25,91,102,59,43,34,71]\n",
    "per=[x for x in range(len(population))]\n",
    "plt.bar(per,population)\n",
    "plt.xlabel('Person')\n",
    "plt.ylabel('Age')\n",
    "plt.show()\n"
   ]
  },
  {
   "cell_type": "markdown",
   "metadata": {
    "id": "1FZgeXB2_r6h"
   },
   "source": [
    "А можно отрисовать значения одного графика аккурат над значениями другого."
   ]
  },
  {
   "cell_type": "code",
   "execution_count": null,
   "metadata": {
    "_kg_hide-input": true,
    "_uuid": "336172e640543936816daca39478420fe5414a0e",
    "colab": {
     "base_uri": "https://localhost:8080/",
     "height": 265
    },
    "executionInfo": {
     "elapsed": 544,
     "status": "ok",
     "timestamp": 1622570614017,
     "user": {
      "displayName": "Марк Станиславович Потанин",
      "photoUrl": "https://lh3.googleusercontent.com/a-/AOh14GiGIbSWvn36SnuS11JITt7whCW2414zYLPAFnl9=s64",
      "userId": "12338896257196299013"
     },
     "user_tz": -180
    },
    "id": "x3oGI9we_r6h",
    "outputId": "92af08c4-4727-41bf-935d-37e1bdaa707a"
   },
   "outputs": [],
   "source": [
    "Men = [5., 30., 45., 22.]\n",
    "Women = [5., 25., 50., 20.]\n",
    "\n",
    "\n",
    "X = ['Design','IT','HR','DS']\n",
    "\n",
    "plt.bar(X, Men, color = 'b')\n",
    "plt.bar(X, Women, color = 'r',bottom=Men)\n",
    "plt.show()"
   ]
  },
  {
   "cell_type": "markdown",
   "metadata": {
    "_uuid": "a1a6b35b9d84a103f90b07d7d353773b238fcb47",
    "id": "Q69cbfC0_r6h"
   },
   "source": [
    "#### Гистограмма"
   ]
  },
  {
   "cell_type": "markdown",
   "metadata": {
    "id": "XsapHyIq_r6i"
   },
   "source": [
    "Гистограмма состоит из примыкающих прямоугольников, расположенных вдоль оси `x`, которые разбиты на дискретные интервалы, их называют `bins`. Их высота пропорциональна частоте конкретного интервала. Такой способ визуализации часто используют в статистике для демонстрации распределения.\n",
    "\n",
    "Для представления гистограммы есть функция `hist()`."
   ]
  },
  {
   "cell_type": "code",
   "execution_count": null,
   "metadata": {
    "colab": {
     "base_uri": "https://localhost:8080/"
    },
    "executionInfo": {
     "elapsed": 354,
     "status": "ok",
     "timestamp": 1622570617746,
     "user": {
      "displayName": "Марк Станиславович Потанин",
      "photoUrl": "https://lh3.googleusercontent.com/a-/AOh14GiGIbSWvn36SnuS11JITt7whCW2414zYLPAFnl9=s64",
      "userId": "12338896257196299013"
     },
     "user_tz": -180
    },
    "id": "a4-uL2xe_r6i",
    "outputId": "f2dd398f-ef94-4f50-a5c7-ee50d0f80c0f"
   },
   "outputs": [],
   "source": [
    "population"
   ]
  },
  {
   "cell_type": "code",
   "execution_count": null,
   "metadata": {
    "_kg_hide-input": true,
    "_uuid": "994521c303894e0436d11d4962b07a83e174e673",
    "colab": {
     "base_uri": "https://localhost:8080/",
     "height": 295
    },
    "executionInfo": {
     "elapsed": 435,
     "status": "ok",
     "timestamp": 1622570624056,
     "user": {
      "displayName": "Марк Станиславович Потанин",
      "photoUrl": "https://lh3.googleusercontent.com/a-/AOh14GiGIbSWvn36SnuS11JITt7whCW2414zYLPAFnl9=s64",
      "userId": "12338896257196299013"
     },
     "user_tz": -180
    },
    "id": "WsNFu512_r6i",
    "outputId": "8cdb9219-a6af-4a9e-9f3e-a3516bf90ed2"
   },
   "outputs": [],
   "source": [
    "bins=[0,20,40,60,80,100]\n",
    "plt.hist(population,bins,histtype='bar',rwidth=0.8)\n",
    "plt.xlabel('Age group')\n",
    "plt.ylabel('No of people')\n",
    "plt.title('Histogram of population')\n",
    "plt.show()"
   ]
  },
  {
   "cell_type": "markdown",
   "metadata": {
    "id": "Kvc2JMNF_r6i"
   },
   "source": [
    "У функции `hist()` имеется множество параметров для настройки как вычисления, так и отображения. Вот пример гистограммы с детальными пользовательскими настройками:"
   ]
  },
  {
   "cell_type": "code",
   "execution_count": null,
   "metadata": {
    "executionInfo": {
     "elapsed": 618,
     "status": "ok",
     "timestamp": 1622570635253,
     "user": {
      "displayName": "Марк Станиславович Потанин",
      "photoUrl": "https://lh3.googleusercontent.com/a-/AOh14GiGIbSWvn36SnuS11JITt7whCW2414zYLPAFnl9=s64",
      "userId": "12338896257196299013"
     },
     "user_tz": -180
    },
    "id": "HDlHpCTe_r6i"
   },
   "outputs": [],
   "source": [
    "data = np.random.randn(1000)"
   ]
  },
  {
   "cell_type": "code",
   "execution_count": null,
   "metadata": {
    "colab": {
     "base_uri": "https://localhost:8080/",
     "height": 265
    },
    "executionInfo": {
     "elapsed": 4,
     "status": "ok",
     "timestamp": 1622570635636,
     "user": {
      "displayName": "Марк Станиславович Потанин",
      "photoUrl": "https://lh3.googleusercontent.com/a-/AOh14GiGIbSWvn36SnuS11JITt7whCW2414zYLPAFnl9=s64",
      "userId": "12338896257196299013"
     },
     "user_tz": -180
    },
    "id": "l04GrOW0_r6i",
    "outputId": "a5e37e8b-6a55-4a6c-ae11-7b1f48a41d03"
   },
   "outputs": [],
   "source": [
    "plt.hist(data, bins=30, density=True, alpha=0.5, histtype='stepfilled', color='steelblue', edgecolor='black')\n",
    "plt.show()"
   ]
  },
  {
   "cell_type": "markdown",
   "metadata": {
    "_uuid": "c066ca8eeb6d1dfcdb8c480215166148f70f0620",
    "id": "myhJ3ggg_r6j"
   },
   "source": [
    "#### Stack plot"
   ]
  },
  {
   "cell_type": "markdown",
   "metadata": {
    "id": "3mcTz9gk_r6j"
   },
   "source": [
    "Еще один не такой распространенный, но довольно удобный и показательный тип графика. Как можно понять из названия, он накладывает друг на друга значения из разных массивов с одинаковым индексом. В примере ниже с использованием этого графика представлен распорядок дня по дням недели - сколько времени уходит на разные активности."
   ]
  },
  {
   "cell_type": "code",
   "execution_count": null,
   "metadata": {
    "_kg_hide-input": true,
    "_uuid": "98c4d3c793e4e078c066866b508fc386cafa49b2",
    "colab": {
     "base_uri": "https://localhost:8080/",
     "height": 295
    },
    "executionInfo": {
     "elapsed": 461,
     "status": "ok",
     "timestamp": 1622570646314,
     "user": {
      "displayName": "Марк Станиславович Потанин",
      "photoUrl": "https://lh3.googleusercontent.com/a-/AOh14GiGIbSWvn36SnuS11JITt7whCW2414zYLPAFnl9=s64",
      "userId": "12338896257196299013"
     },
     "user_tz": -180
    },
    "id": "O9kRHN4V_r6j",
    "outputId": "49659196-af47-4c0c-8f93-fcdcf1dbe44b"
   },
   "outputs": [],
   "source": [
    "import numpy as np\n",
    "days=['mon','tue','wed','thur','fri']\n",
    "sleep=[7,8,6,11,7]\n",
    "food=[2,3,4,3,2]\n",
    "work=[7,8,7,2,2]\n",
    "play=[8,5,7,8,13]\n",
    "lab = [\"Sleep \", \"Food\", \"Work\",\"Play\"]\n",
    "fig, ax = plt.subplots()\n",
    "ax.stackplot(days, sleep, food, work,play, labels=lab,colors=['m','c','r','g'])\n",
    "ax.legend(loc='upper right')\n",
    "plt.xlabel('Day of Week')\n",
    "plt.ylabel('Time in hours')\n",
    "plt.title('How time is spend during weekdays')\n",
    "plt.ioff()\n",
    "plt.show()"
   ]
  },
  {
   "cell_type": "markdown",
   "metadata": {
    "_uuid": "c1e3b8add79d23321d447370ba694fe3310ecefb",
    "id": "7JUZrpJf_r6j"
   },
   "source": [
    "#### Круговая диаграмма."
   ]
  },
  {
   "cell_type": "markdown",
   "metadata": {
    "id": "pvgRkj4F_r6j"
   },
   "source": [
    "Еще один способ представления данных — круговая диаграмма, которую можно получить с помощью функции `pie()`.\n",
    "\n",
    "Ддля нее нужно передать основной аргумент, представляющий собой список значений. А уже сама функция определит, какую часть пирога будет занимать каждое значение.\n",
    "\n",
    "Также в случае с этими графиками есть другие особенности, которые определяются именованными аргументами. Например, если нужно задать последовательность цветов, используется аргумент colors. В таком случае придется присвоить список строк, каждая из которых будет содержать название цвета. Еще одна возможность — добавление меток каждой доле. Для этого есть labels, которой присваивает список строк с метками в последовательности.\n",
    "\n"
   ]
  },
  {
   "cell_type": "markdown",
   "metadata": {
    "id": "eRay2sBr_r6j"
   },
   "source": [
    "`autopct` - автоматически вычисляет процентную долю каждого куска, а `explode` - позволяет \"вынуть\" из пирога определенный кусок, который мы хотим подсветить."
   ]
  },
  {
   "cell_type": "code",
   "execution_count": null,
   "metadata": {
    "_kg_hide-input": true,
    "_uuid": "32ac55197fec4f4b7e9bebf98b5e452526875d04",
    "colab": {
     "base_uri": "https://localhost:8080/",
     "height": 270
    },
    "executionInfo": {
     "elapsed": 534,
     "status": "ok",
     "timestamp": 1622570652645,
     "user": {
      "displayName": "Марк Станиславович Потанин",
      "photoUrl": "https://lh3.googleusercontent.com/a-/AOh14GiGIbSWvn36SnuS11JITt7whCW2414zYLPAFnl9=s64",
      "userId": "12338896257196299013"
     },
     "user_tz": -180
    },
    "id": "fAPFHhay_r6k",
    "outputId": "a2205e09-0098-4023-adf4-8d1b6ada6ea4"
   },
   "outputs": [],
   "source": [
    "hours=[8,2,8,2,4]\n",
    "activity=['Sleep','Eat','Work','Play','Others']\n",
    "col=['c','b','m','r','y']\n",
    "plt.pie(hours,labels=activity,colors=col,shadow=True,explode=(0,0,0,0.2,0),autopct='%1.1f%%')\n",
    "plt.title('How time is in a Day')\n",
    "plt.show()"
   ]
  },
  {
   "cell_type": "markdown",
   "metadata": {
    "_uuid": "91cd7c84a1e8afd1f77a5dbb38ff153572614273",
    "id": "Xd6X2UhE_r6k"
   },
   "source": [
    "#### 3D Scatter Plot\n",
    "\n",
    "Так же в matplotlib можно рисовать трехмерные графики. Пример - ниже."
   ]
  },
  {
   "cell_type": "code",
   "execution_count": null,
   "metadata": {
    "_kg_hide-input": true,
    "_uuid": "8147a3f7e378b80d7661758812fb0612a4dfc6af",
    "colab": {
     "base_uri": "https://localhost:8080/",
     "height": 248
    },
    "executionInfo": {
     "elapsed": 798,
     "status": "ok",
     "timestamp": 1622565860474,
     "user": {
      "displayName": "Марк Станиславович Потанин",
      "photoUrl": "https://lh3.googleusercontent.com/a-/AOh14GiGIbSWvn36SnuS11JITt7whCW2414zYLPAFnl9=s64",
      "userId": "12338896257196299013"
     },
     "user_tz": -180
    },
    "id": "5X5ksF7K_r6k",
    "outputId": "fba46cb6-2aca-40d0-8acb-348a3c869194"
   },
   "outputs": [],
   "source": [
    "from mpl_toolkits.mplot3d import Axes3D\n",
    "\n",
    "fig = plt.figure()\n",
    "ax = fig.add_subplot(111, projection='3d')\n",
    "x=[1,2,6,7,3,7,8,9,10,19]\n",
    "y=[33,1,45,67,30,78,98,51,45,10]\n",
    "z=[11,38,65,23,66,78,88,45,61,18]\n",
    "ax.scatter(x, y, z)\n",
    "ax.set_xlabel('X Label')\n",
    "ax.set_ylabel('Y Label')\n",
    "ax.set_zlabel('Z Label')\n",
    "plt.show()\n",
    "plt.ioff() \n"
   ]
  },
  {
   "cell_type": "markdown",
   "metadata": {},
   "source": [
    "Если вы работаете с 3D данными (облако точек) - посмотрите в сторону Open3D."
   ]
  },
  {
   "cell_type": "code",
   "execution_count": null,
   "metadata": {},
   "outputs": [],
   "source": []
  }
 ],
 "metadata": {
  "colab": {
   "name": "matplotlib.ipynb",
   "provenance": []
  },
  "kernelspec": {
   "display_name": "Python 3 (ipykernel)",
   "language": "python",
   "name": "python3"
  },
  "language_info": {
   "codemirror_mode": {
    "name": "ipython",
    "version": 3
   },
   "file_extension": ".py",
   "mimetype": "text/x-python",
   "name": "python",
   "nbconvert_exporter": "python",
   "pygments_lexer": "ipython3",
   "version": "3.10.9"
  }
 },
 "nbformat": 4,
 "nbformat_minor": 4
}
